{
 "cells": [
  {
   "cell_type": "markdown",
   "id": "cb1e7500",
   "metadata": {},
   "source": [
    "# Исследование данных сервиса аренды самокатов GoFast и проверка гипотез, которые могут помочь бизнесу вырасти"
   ]
  },
  {
   "cell_type": "markdown",
   "id": "1d790e38",
   "metadata": {},
   "source": [
    "В нашем распоряжении данные о некоторых пользователях из нескольких городов, а также об их поездках в рамках сервиса аренды самокатов GoFast. Задача проекта - проанализировать данные и проверить некоторые гипотезы, которые могут помочь бизнесу вырасти.\n",
    "\n",
    "Чтобы совершать поездки по городу, пользователи сервиса GoFast пользуются мобильным приложением. Сервисом можно пользоваться:\n",
    "- без подписки\n",
    "  - абонентская плата отсутствует;\n",
    "  - стоимость одной минуты поездки — 8 рублей;\n",
    "  - стоимость старта (начала поездки) — 50 рублей;\n",
    "- с подпиской Ultra\n",
    "  - абонентская плата — 199 рублей в месяц;\n",
    "  - стоимость одной минуты поездки — 6 рублей;\n",
    "  - стоимость старта — бесплатно."
   ]
  },
  {
   "cell_type": "markdown",
   "id": "08a192b8",
   "metadata": {},
   "source": [
    "**Для решения поставленной задачи выполним следующее:**\n",
    "- Загрузим и опишем данные\n",
    "- Проведем предобработку данных, если это необходимо:\n",
    "  - Приведем данные к общему виду\n",
    "  - Изменим типы данных\n",
    "  - Проверим данные на наличие пропусков и дубликатов и очистим от них данные\n",
    "\n",
    "\n",
    "- Проведем исследовательский анализ данных:\n",
    "  - Проверим данные на предмет наличия аномальных значений\n",
    "  - Если это необходимо, добавим новые параметры в данные\n",
    "  - Опишем и визуализируем общую информацию о пользователях и поездках. Исследуем следующие параметры:\n",
    "    - частота встречаемости городов\n",
    "    - соотношение пользователей с подпиской и без подписки\n",
    "    - возраст пользователей\n",
    "    - расстояние, которое пользователь преодолел за одну поездку\n",
    "    - продолжительность поездок\n",
    "    \n",
    "    \n",
    "- Проверим несколько гипотез, которые могут помочь бизнесу вырасти:\n",
    "  - Тратят ли пользователи с подпиской больше времени на поездки чем пользователи без подписки?\n",
    "  - Расстояние одной поездки в 3130 метров — оптимальное с точки зрения износа самоката. Можно ли сказать, что среднее расстояние, которое проезжают пользователи с подпиской за одну поездку, не превышает 3130 метров? \n",
    "  - Помесячная выручка от пользователей с подпиской по месяцам выше, чем выручка от пользователей без подписки?"
   ]
  },
  {
   "cell_type": "code",
   "execution_count": 1,
   "id": "72576667",
   "metadata": {},
   "outputs": [],
   "source": [
    "# Импортируем библиотеки, которые понадобятся нам для решения поставленных задач:\n",
    "import pandas as pd\n",
    "import matplotlib.pyplot as plt\n",
    "import numpy as np\n",
    "from scipy import stats as st"
   ]
  },
  {
   "cell_type": "markdown",
   "id": "c42cbe00",
   "metadata": {},
   "source": [
    "## Описание данных"
   ]
  },
  {
   "cell_type": "markdown",
   "id": "fb57317f",
   "metadata": {},
   "source": [
    "Данные представлены в нескольких файлах: \n",
    "- Пользователи — `***`\n",
    "- Поездки — `***`\n",
    "- Подписки — `***`\n",
    "\n",
    "Прочитаем файлы и ознакомимся с общей информацией о датасетах методом `info()` и просмотрим первые несколько строк каждого датасета методом `head()`"
   ]
  },
  {
   "cell_type": "code",
   "execution_count": 2,
   "id": "eff9f206",
   "metadata": {},
   "outputs": [],
   "source": [
    "# Сохраним данные в переменные: 'users', 'rides' и 'subs'\n",
    "users = pd.read_csv('***')\n",
    "rides = pd.read_csv('***')\n",
    "subs = pd.read_csv('***')"
   ]
  },
  {
   "cell_type": "code",
   "execution_count": 3,
   "id": "b6a88023",
   "metadata": {},
   "outputs": [
    {
     "name": "stdout",
     "output_type": "stream",
     "text": [
      "<class 'pandas.core.frame.DataFrame'>\n",
      "RangeIndex: 1565 entries, 0 to 1564\n",
      "Data columns (total 5 columns):\n",
      " #   Column             Non-Null Count  Dtype \n",
      "---  ------             --------------  ----- \n",
      " 0   user_id            1565 non-null   int64 \n",
      " 1   name               1565 non-null   object\n",
      " 2   age                1565 non-null   int64 \n",
      " 3   city               1565 non-null   object\n",
      " 4   subscription_type  1565 non-null   object\n",
      "dtypes: int64(2), object(3)\n",
      "memory usage: 61.3+ KB\n",
      "None\n"
     ]
    },
    {
     "data": {
      "text/html": [
       "<div>\n",
       "<style scoped>\n",
       "    .dataframe tbody tr th:only-of-type {\n",
       "        vertical-align: middle;\n",
       "    }\n",
       "\n",
       "    .dataframe tbody tr th {\n",
       "        vertical-align: top;\n",
       "    }\n",
       "\n",
       "    .dataframe thead th {\n",
       "        text-align: right;\n",
       "    }\n",
       "</style>\n",
       "<table border=\"1\" class=\"dataframe\">\n",
       "  <thead>\n",
       "    <tr style=\"text-align: right;\">\n",
       "      <th></th>\n",
       "      <th>user_id</th>\n",
       "      <th>name</th>\n",
       "      <th>age</th>\n",
       "      <th>city</th>\n",
       "      <th>subscription_type</th>\n",
       "    </tr>\n",
       "  </thead>\n",
       "  <tbody>\n",
       "    <tr>\n",
       "      <th>0</th>\n",
       "      <td>1</td>\n",
       "      <td>Кира</td>\n",
       "      <td>22</td>\n",
       "      <td>Тюмень</td>\n",
       "      <td>ultra</td>\n",
       "    </tr>\n",
       "    <tr>\n",
       "      <th>1</th>\n",
       "      <td>2</td>\n",
       "      <td>Станислав</td>\n",
       "      <td>31</td>\n",
       "      <td>Омск</td>\n",
       "      <td>ultra</td>\n",
       "    </tr>\n",
       "    <tr>\n",
       "      <th>2</th>\n",
       "      <td>3</td>\n",
       "      <td>Алексей</td>\n",
       "      <td>20</td>\n",
       "      <td>Москва</td>\n",
       "      <td>ultra</td>\n",
       "    </tr>\n",
       "    <tr>\n",
       "      <th>3</th>\n",
       "      <td>4</td>\n",
       "      <td>Константин</td>\n",
       "      <td>26</td>\n",
       "      <td>Ростов-на-Дону</td>\n",
       "      <td>ultra</td>\n",
       "    </tr>\n",
       "    <tr>\n",
       "      <th>4</th>\n",
       "      <td>5</td>\n",
       "      <td>Адель</td>\n",
       "      <td>28</td>\n",
       "      <td>Омск</td>\n",
       "      <td>ultra</td>\n",
       "    </tr>\n",
       "    <tr>\n",
       "      <th>5</th>\n",
       "      <td>6</td>\n",
       "      <td>Регина</td>\n",
       "      <td>25</td>\n",
       "      <td>Краснодар</td>\n",
       "      <td>ultra</td>\n",
       "    </tr>\n",
       "    <tr>\n",
       "      <th>6</th>\n",
       "      <td>7</td>\n",
       "      <td>Игорь</td>\n",
       "      <td>23</td>\n",
       "      <td>Омск</td>\n",
       "      <td>ultra</td>\n",
       "    </tr>\n",
       "    <tr>\n",
       "      <th>7</th>\n",
       "      <td>8</td>\n",
       "      <td>Юрий</td>\n",
       "      <td>23</td>\n",
       "      <td>Краснодар</td>\n",
       "      <td>ultra</td>\n",
       "    </tr>\n",
       "    <tr>\n",
       "      <th>8</th>\n",
       "      <td>9</td>\n",
       "      <td>Ян</td>\n",
       "      <td>21</td>\n",
       "      <td>Пятигорск</td>\n",
       "      <td>ultra</td>\n",
       "    </tr>\n",
       "    <tr>\n",
       "      <th>9</th>\n",
       "      <td>10</td>\n",
       "      <td>Валерий</td>\n",
       "      <td>18</td>\n",
       "      <td>Екатеринбург</td>\n",
       "      <td>ultra</td>\n",
       "    </tr>\n",
       "  </tbody>\n",
       "</table>\n",
       "</div>"
      ],
      "text/plain": [
       "   user_id        name  age            city subscription_type\n",
       "0        1        Кира   22          Тюмень             ultra\n",
       "1        2   Станислав   31            Омск             ultra\n",
       "2        3     Алексей   20          Москва             ultra\n",
       "3        4  Константин   26  Ростов-на-Дону             ultra\n",
       "4        5       Адель   28            Омск             ultra\n",
       "5        6      Регина   25       Краснодар             ultra\n",
       "6        7       Игорь   23            Омск             ultra\n",
       "7        8        Юрий   23       Краснодар             ultra\n",
       "8        9          Ян   21       Пятигорск             ultra\n",
       "9       10     Валерий   18    Екатеринбург             ultra"
      ]
     },
     "execution_count": 3,
     "metadata": {},
     "output_type": "execute_result"
    }
   ],
   "source": [
    "# Ознакомимся с общей информацией в датасете 'users':\n",
    "print(users.info())\n",
    "users.head(10)"
   ]
  },
  {
   "cell_type": "markdown",
   "id": "1a329278",
   "metadata": {},
   "source": [
    "В датасете `users` представлены данные о пользователях (5 столбцов по 1 565 строк). Количество строк во всех колонках одинаково - пропусков в датасете нет. Дубликаты возможны в колонке `user_id`."
   ]
  },
  {
   "cell_type": "markdown",
   "id": "a3b2422b",
   "metadata": {},
   "source": [
    "Приведем описание парметров пользователей:\n",
    "- `user_id` — уникальный идентификатор пользователя\n",
    "- `name` — имя пользователя\n",
    "- `age` — возраст\n",
    "- `city` — город\n",
    "- `subscription_type` — тип подписки (free, ultra)"
   ]
  },
  {
   "cell_type": "code",
   "execution_count": 4,
   "id": "dff35755",
   "metadata": {},
   "outputs": [
    {
     "name": "stdout",
     "output_type": "stream",
     "text": [
      "<class 'pandas.core.frame.DataFrame'>\n",
      "RangeIndex: 18068 entries, 0 to 18067\n",
      "Data columns (total 4 columns):\n",
      " #   Column    Non-Null Count  Dtype  \n",
      "---  ------    --------------  -----  \n",
      " 0   user_id   18068 non-null  int64  \n",
      " 1   distance  18068 non-null  float64\n",
      " 2   duration  18068 non-null  float64\n",
      " 3   date      18068 non-null  object \n",
      "dtypes: float64(2), int64(1), object(1)\n",
      "memory usage: 564.8+ KB\n",
      "None\n"
     ]
    },
    {
     "data": {
      "text/html": [
       "<div>\n",
       "<style scoped>\n",
       "    .dataframe tbody tr th:only-of-type {\n",
       "        vertical-align: middle;\n",
       "    }\n",
       "\n",
       "    .dataframe tbody tr th {\n",
       "        vertical-align: top;\n",
       "    }\n",
       "\n",
       "    .dataframe thead th {\n",
       "        text-align: right;\n",
       "    }\n",
       "</style>\n",
       "<table border=\"1\" class=\"dataframe\">\n",
       "  <thead>\n",
       "    <tr style=\"text-align: right;\">\n",
       "      <th></th>\n",
       "      <th>user_id</th>\n",
       "      <th>distance</th>\n",
       "      <th>duration</th>\n",
       "      <th>date</th>\n",
       "    </tr>\n",
       "  </thead>\n",
       "  <tbody>\n",
       "    <tr>\n",
       "      <th>0</th>\n",
       "      <td>1</td>\n",
       "      <td>4409.919140</td>\n",
       "      <td>25.599769</td>\n",
       "      <td>2021-01-01</td>\n",
       "    </tr>\n",
       "    <tr>\n",
       "      <th>1</th>\n",
       "      <td>1</td>\n",
       "      <td>2617.592153</td>\n",
       "      <td>15.816871</td>\n",
       "      <td>2021-01-18</td>\n",
       "    </tr>\n",
       "    <tr>\n",
       "      <th>2</th>\n",
       "      <td>1</td>\n",
       "      <td>754.159807</td>\n",
       "      <td>6.232113</td>\n",
       "      <td>2021-04-20</td>\n",
       "    </tr>\n",
       "    <tr>\n",
       "      <th>3</th>\n",
       "      <td>1</td>\n",
       "      <td>2694.783254</td>\n",
       "      <td>18.511000</td>\n",
       "      <td>2021-08-11</td>\n",
       "    </tr>\n",
       "    <tr>\n",
       "      <th>4</th>\n",
       "      <td>1</td>\n",
       "      <td>4028.687306</td>\n",
       "      <td>26.265803</td>\n",
       "      <td>2021-08-28</td>\n",
       "    </tr>\n",
       "    <tr>\n",
       "      <th>5</th>\n",
       "      <td>1</td>\n",
       "      <td>2770.890808</td>\n",
       "      <td>16.650138</td>\n",
       "      <td>2021-10-09</td>\n",
       "    </tr>\n",
       "    <tr>\n",
       "      <th>6</th>\n",
       "      <td>1</td>\n",
       "      <td>3039.020292</td>\n",
       "      <td>14.927879</td>\n",
       "      <td>2021-10-19</td>\n",
       "    </tr>\n",
       "    <tr>\n",
       "      <th>7</th>\n",
       "      <td>1</td>\n",
       "      <td>2842.118050</td>\n",
       "      <td>23.117468</td>\n",
       "      <td>2021-11-06</td>\n",
       "    </tr>\n",
       "    <tr>\n",
       "      <th>8</th>\n",
       "      <td>1</td>\n",
       "      <td>3412.690668</td>\n",
       "      <td>15.238072</td>\n",
       "      <td>2021-11-14</td>\n",
       "    </tr>\n",
       "    <tr>\n",
       "      <th>9</th>\n",
       "      <td>1</td>\n",
       "      <td>748.690645</td>\n",
       "      <td>15.041884</td>\n",
       "      <td>2021-11-22</td>\n",
       "    </tr>\n",
       "  </tbody>\n",
       "</table>\n",
       "</div>"
      ],
      "text/plain": [
       "   user_id     distance   duration        date\n",
       "0        1  4409.919140  25.599769  2021-01-01\n",
       "1        1  2617.592153  15.816871  2021-01-18\n",
       "2        1   754.159807   6.232113  2021-04-20\n",
       "3        1  2694.783254  18.511000  2021-08-11\n",
       "4        1  4028.687306  26.265803  2021-08-28\n",
       "5        1  2770.890808  16.650138  2021-10-09\n",
       "6        1  3039.020292  14.927879  2021-10-19\n",
       "7        1  2842.118050  23.117468  2021-11-06\n",
       "8        1  3412.690668  15.238072  2021-11-14\n",
       "9        1   748.690645  15.041884  2021-11-22"
      ]
     },
     "execution_count": 4,
     "metadata": {},
     "output_type": "execute_result"
    }
   ],
   "source": [
    "# Ознакомимся с общей информацией в датасете 'rides':\n",
    "print(rides.info())\n",
    "rides.head(10)"
   ]
  },
  {
   "cell_type": "markdown",
   "id": "b92f8e91",
   "metadata": {},
   "source": [
    "В датасете `rides` представлены данные о поездках (4 столбца по 18 068 строк). Количество строк во всех колонках одинаково - пропусков в датасете нет."
   ]
  },
  {
   "cell_type": "markdown",
   "id": "bcb5062a",
   "metadata": {},
   "source": [
    "Приведем описание парметров поездок:\n",
    "- `user_id` — уникальный идентификатор пользователя\n",
    "- `distance` — расстояние, которое пользователь проехал в текущей сессии (в метрах)\n",
    "- `duration` — продолжительность сессии (в минутах) — время с того момента, как пользователь нажал кнопку «Начать поездку» до момента, как он нажал кнопку «Завершить поездку»\n",
    "- `date` — дата совершения поездки"
   ]
  },
  {
   "cell_type": "code",
   "execution_count": 5,
   "id": "d0a6a867",
   "metadata": {},
   "outputs": [
    {
     "name": "stdout",
     "output_type": "stream",
     "text": [
      "<class 'pandas.core.frame.DataFrame'>\n",
      "RangeIndex: 2 entries, 0 to 1\n",
      "Data columns (total 4 columns):\n",
      " #   Column             Non-Null Count  Dtype \n",
      "---  ------             --------------  ----- \n",
      " 0   subscription_type  2 non-null      object\n",
      " 1   minute_price       2 non-null      int64 \n",
      " 2   start_ride_price   2 non-null      int64 \n",
      " 3   subscription_fee   2 non-null      int64 \n",
      "dtypes: int64(3), object(1)\n",
      "memory usage: 192.0+ bytes\n",
      "None\n"
     ]
    },
    {
     "data": {
      "text/html": [
       "<div>\n",
       "<style scoped>\n",
       "    .dataframe tbody tr th:only-of-type {\n",
       "        vertical-align: middle;\n",
       "    }\n",
       "\n",
       "    .dataframe tbody tr th {\n",
       "        vertical-align: top;\n",
       "    }\n",
       "\n",
       "    .dataframe thead th {\n",
       "        text-align: right;\n",
       "    }\n",
       "</style>\n",
       "<table border=\"1\" class=\"dataframe\">\n",
       "  <thead>\n",
       "    <tr style=\"text-align: right;\">\n",
       "      <th></th>\n",
       "      <th>subscription_type</th>\n",
       "      <th>minute_price</th>\n",
       "      <th>start_ride_price</th>\n",
       "      <th>subscription_fee</th>\n",
       "    </tr>\n",
       "  </thead>\n",
       "  <tbody>\n",
       "    <tr>\n",
       "      <th>0</th>\n",
       "      <td>free</td>\n",
       "      <td>8</td>\n",
       "      <td>50</td>\n",
       "      <td>0</td>\n",
       "    </tr>\n",
       "    <tr>\n",
       "      <th>1</th>\n",
       "      <td>ultra</td>\n",
       "      <td>6</td>\n",
       "      <td>0</td>\n",
       "      <td>199</td>\n",
       "    </tr>\n",
       "  </tbody>\n",
       "</table>\n",
       "</div>"
      ],
      "text/plain": [
       "  subscription_type  minute_price  start_ride_price  subscription_fee\n",
       "0              free             8                50                 0\n",
       "1             ultra             6                 0               199"
      ]
     },
     "execution_count": 5,
     "metadata": {},
     "output_type": "execute_result"
    }
   ],
   "source": [
    "# Ознакомимся с общей информацией в датасете 'subs':\n",
    "print(subs.info())\n",
    "subs.head(10)"
   ]
  },
  {
   "cell_type": "markdown",
   "id": "21ea5eeb",
   "metadata": {},
   "source": [
    "Датасет `subs` содержит всего 4 колонки и 2 строки и описывает параметры подписок:\n",
    "- `subscription_type` — тип подписки\n",
    "- `minute_price` — стоимость одной минуты поездки по данной подписке\n",
    "- `start_ride_price` — стоимость начала поездки\n",
    "- `subscription_fee` — стоимость ежемесячного платежа"
   ]
  },
  {
   "cell_type": "markdown",
   "id": "bf288229",
   "metadata": {},
   "source": [
    "### Результаты обзора данных\n",
    "\n",
    "- В датасете `users` представлены данные о пользователях (5 столбцов по 1 565 строк). При первичном обзоре пропуски не обнаружены. При этом дубликаты возможны в параметре `user_id`.\n",
    "- В датасете `rides` представлены данные о поездках (4 столбца по 18 068 строк). При первичном обзоре пропуски не обнаружены.\n",
    "- Датасет `subs` содержит всего 4 колонки и 2 строки и описывает параметры подписок. Пропусков и дубликатов в датасете нет."
   ]
  },
  {
   "cell_type": "markdown",
   "id": "e95ebca7",
   "metadata": {},
   "source": [
    "## Предобработка данных"
   ]
  },
  {
   "cell_type": "markdown",
   "id": "fbc6c5a0",
   "metadata": {},
   "source": [
    "Выполним пошагово следующие действия:\n",
    "- Проверим наличие дубликатов и пропусков в данных и очистим от пропусков и дубликатов датасеты там где это возможно\n",
    "- При необходимости изменим типы данных"
   ]
  },
  {
   "cell_type": "markdown",
   "id": "f9b48c19",
   "metadata": {},
   "source": [
    "### Работа с пропусками\n",
    "При первичном обзоре данных пропуски в датасетах не были обнаружены. Теперь изучим данные подробнее:"
   ]
  },
  {
   "cell_type": "code",
   "execution_count": 6,
   "id": "f2efe39c",
   "metadata": {},
   "outputs": [
    {
     "name": "stdout",
     "output_type": "stream",
     "text": [
      "Количество пропусков в датасете \"users\": 0\n"
     ]
    }
   ],
   "source": [
    "# Проверим пропуски в датасете 'users':\n",
    "print(f'Количество пропусков в датасете \"users\": {users.isna().sum().sum()}')"
   ]
  },
  {
   "cell_type": "code",
   "execution_count": 7,
   "id": "308a2a84",
   "metadata": {},
   "outputs": [
    {
     "name": "stdout",
     "output_type": "stream",
     "text": [
      "Количество пропусков в датасете \"rides\": 0\n"
     ]
    }
   ],
   "source": [
    "# Проверим пропуски в датасете 'rides':\n",
    "print(f'Количество пропусков в датасете \"rides\": {rides.isna().sum().sum()}')"
   ]
  },
  {
   "cell_type": "markdown",
   "id": "3bc7cebb",
   "metadata": {},
   "source": [
    "Пропусков в датасетах `users` и `rides` нет."
   ]
  },
  {
   "cell_type": "markdown",
   "id": "cfea4ce7",
   "metadata": {},
   "source": [
    "### Работа с дубликатами"
   ]
  },
  {
   "cell_type": "markdown",
   "id": "86eeb549",
   "metadata": {},
   "source": [
    "Удалим явные дубликаты (если они есть) из датасетов и проверим какое количество дубликатов было удалено:"
   ]
  },
  {
   "cell_type": "code",
   "execution_count": 8,
   "id": "232fea9b",
   "metadata": {},
   "outputs": [
    {
     "name": "stdout",
     "output_type": "stream",
     "text": [
      "Количество удаленных явных дубликатов в датасете \"users\": 31\n"
     ]
    }
   ],
   "source": [
    "# Обработаем дубликаты в датасете 'users':\n",
    "count_users_before = len(users)\n",
    "users = users.drop_duplicates().reset_index(drop=True)\n",
    "count_users_after = len(users)\n",
    "print(f'Количество удаленных явных дубликатов в датасете \"users\": {count_users_before - count_users_after}')"
   ]
  },
  {
   "cell_type": "markdown",
   "id": "06191d6b",
   "metadata": {},
   "source": [
    "В датасете `users` были обнаружены и удалены явные дубликаты. При этом также возможны дубликаты в параметре `user_id`. Например, у двух или более пользователей `id` могут быть одинаковыми, изучим данные детальнее:"
   ]
  },
  {
   "cell_type": "code",
   "execution_count": 9,
   "id": "06b1ac04",
   "metadata": {},
   "outputs": [
    {
     "data": {
      "text/plain": [
       "1       1\n",
       "1020    1\n",
       "1029    1\n",
       "1028    1\n",
       "1027    1\n",
       "Name: user_id, dtype: int64"
      ]
     },
     "execution_count": 9,
     "metadata": {},
     "output_type": "execute_result"
    }
   ],
   "source": [
    "# Проверим наличие дубликатов в 'user_id':\n",
    "users['user_id'].value_counts(ascending=False).head()"
   ]
  },
  {
   "cell_type": "markdown",
   "id": "7a8f4664",
   "metadata": {},
   "source": [
    "Дубликатов в параметре `user_id` нет"
   ]
  },
  {
   "cell_type": "code",
   "execution_count": 10,
   "id": "7c2b6849",
   "metadata": {},
   "outputs": [
    {
     "name": "stdout",
     "output_type": "stream",
     "text": [
      "Количество удаленных явных дубликатов в датасете \"rides\": 0\n"
     ]
    }
   ],
   "source": [
    "# Обработаем дубликаты в датасете 'rides':\n",
    "count_rides_before = len(rides)\n",
    "rides = rides.drop_duplicates().reset_index(drop=True)\n",
    "count_rides_after = len(rides)\n",
    "print(f'Количество удаленных явных дубликатов в датасете \"rides\": {count_rides_before - count_rides_after}')"
   ]
  },
  {
   "cell_type": "markdown",
   "id": "d80a22af",
   "metadata": {},
   "source": [
    "В датасете `rides` явные дубликаты не обнаружены."
   ]
  },
  {
   "cell_type": "markdown",
   "id": "7beb654a",
   "metadata": {},
   "source": [
    "### Оптимизация типов данных"
   ]
  },
  {
   "cell_type": "markdown",
   "id": "4d44ca4b",
   "metadata": {},
   "source": [
    "Изменим тип данных в датасете `rides` в параметре `date` с `object` на более подходящий тип данных - `datetime`"
   ]
  },
  {
   "cell_type": "code",
   "execution_count": 11,
   "id": "02d90865",
   "metadata": {},
   "outputs": [],
   "source": [
    "#Изменим тип данных в 'date' с object на datetime:\n",
    "rides['date'] = pd.to_datetime(rides['date'], format = '%Y-%m-%d')"
   ]
  },
  {
   "cell_type": "code",
   "execution_count": 12,
   "id": "2a143604",
   "metadata": {},
   "outputs": [
    {
     "name": "stdout",
     "output_type": "stream",
     "text": [
      "Данные в датасете \"rides\" охватывают период с 2021-01-01 00:00:00 по 2021-12-30 00:00:00\n"
     ]
    }
   ],
   "source": [
    "# Проверим за какой период времени у нас представленны данные\n",
    "rides['date'].min()\n",
    "print(f'Данные в датасете \"rides\" охватывают период с {rides[\"date\"].min()} по {rides[\"date\"].max()}')"
   ]
  },
  {
   "cell_type": "markdown",
   "id": "569e8e05",
   "metadata": {},
   "source": [
    "### Результаты предобработки данных"
   ]
  },
  {
   "cell_type": "markdown",
   "id": "a3e043ad",
   "metadata": {},
   "source": [
    "- В датасетах `users` и `rides` пропуски не обнаружены\n",
    "- В датасете `users` удален 31 явный дубликат\n",
    "- Изменен тип данных в `date` датасета `rides` с `object` на более подходящий тип данных - `datetime`\n",
    "\n",
    "Данные в датасетах оказались довольно \"чистыми\"."
   ]
  },
  {
   "cell_type": "markdown",
   "id": "212593c7",
   "metadata": {},
   "source": [
    "## Исследовательский анализ данных"
   ]
  },
  {
   "cell_type": "markdown",
   "id": "08d931eb",
   "metadata": {},
   "source": [
    "Для решения поставленных задач опишем и визуализируем общую информацию о пользователях и поездках:\n",
    "- частота встречаемости городов\n",
    "- соотношение пользователей с подпиской и без подписки\n",
    "- возраст пользователей\n",
    "- расстояние, которое пользователь преодолел за одну поездку\n",
    "- продолжительность поездок\n",
    "\n",
    "\n",
    "- Добавим новый столбец в датасет `rides` с номером месяца на основе столбца `date`\n",
    "- Объединим датасеты `users`, `rides` и `subs` в единий датасет `data`\n",
    "- На основе общего датасета создадим два датасета: с пользователями с подпиской - `data_ultra` и с пользователями без подписки - `data_free`\n",
    "- Визуализируем информацию о расстоянии и времени поездок для пользователей обеих категорий\n",
    "- Расчитаем помесячную выручку, которую принёс каждый пользователь"
   ]
  },
  {
   "cell_type": "markdown",
   "id": "f3d1fa60",
   "metadata": {},
   "source": [
    "### Частота встречаемости городов"
   ]
  },
  {
   "cell_type": "markdown",
   "id": "946298fa",
   "metadata": {},
   "source": [
    "Изучим количество городов представленных в датасете `users`, после чего сгруппируем данные в датасете `users` по городам и изучим количество пользователей в каждом из городов:"
   ]
  },
  {
   "cell_type": "code",
   "execution_count": 13,
   "id": "5aee534a",
   "metadata": {},
   "outputs": [
    {
     "data": {
      "text/plain": [
       "['Екатеринбург',\n",
       " 'Краснодар',\n",
       " 'Москва',\n",
       " 'Омск',\n",
       " 'Пятигорск',\n",
       " 'Ростов-на-Дону',\n",
       " 'Сочи',\n",
       " 'Тюмень']"
      ]
     },
     "execution_count": 13,
     "metadata": {},
     "output_type": "execute_result"
    }
   ],
   "source": [
    "sorted(users['city'].unique())"
   ]
  },
  {
   "cell_type": "markdown",
   "id": "2a778026",
   "metadata": {},
   "source": [
    "Всего в данных представлены 8 городов:\n",
    "- Екатеринбург\n",
    "- Краснодар\n",
    "- Москва\n",
    "- Омск\n",
    "- Пятигорск\n",
    "- Ростов-на-Дону\n",
    "- Сочи\n",
    "- Тюмень"
   ]
  },
  {
   "cell_type": "code",
   "execution_count": 14,
   "id": "6b42eafd",
   "metadata": {},
   "outputs": [
    {
     "data": {
      "text/html": [
       "<div>\n",
       "<style scoped>\n",
       "    .dataframe tbody tr th:only-of-type {\n",
       "        vertical-align: middle;\n",
       "    }\n",
       "\n",
       "    .dataframe tbody tr th {\n",
       "        vertical-align: top;\n",
       "    }\n",
       "\n",
       "    .dataframe thead th {\n",
       "        text-align: right;\n",
       "    }\n",
       "</style>\n",
       "<table border=\"1\" class=\"dataframe\">\n",
       "  <thead>\n",
       "    <tr style=\"text-align: right;\">\n",
       "      <th></th>\n",
       "      <th>city</th>\n",
       "      <th>users_count</th>\n",
       "      <th>ratio</th>\n",
       "    </tr>\n",
       "  </thead>\n",
       "  <tbody>\n",
       "    <tr>\n",
       "      <th>4</th>\n",
       "      <td>Пятигорск</td>\n",
       "      <td>219</td>\n",
       "      <td>14.28%</td>\n",
       "    </tr>\n",
       "    <tr>\n",
       "      <th>0</th>\n",
       "      <td>Екатеринбург</td>\n",
       "      <td>204</td>\n",
       "      <td>13.30%</td>\n",
       "    </tr>\n",
       "    <tr>\n",
       "      <th>5</th>\n",
       "      <td>Ростов-на-Дону</td>\n",
       "      <td>198</td>\n",
       "      <td>12.91%</td>\n",
       "    </tr>\n",
       "    <tr>\n",
       "      <th>1</th>\n",
       "      <td>Краснодар</td>\n",
       "      <td>193</td>\n",
       "      <td>12.58%</td>\n",
       "    </tr>\n",
       "    <tr>\n",
       "      <th>6</th>\n",
       "      <td>Сочи</td>\n",
       "      <td>189</td>\n",
       "      <td>12.32%</td>\n",
       "    </tr>\n",
       "    <tr>\n",
       "      <th>3</th>\n",
       "      <td>Омск</td>\n",
       "      <td>183</td>\n",
       "      <td>11.93%</td>\n",
       "    </tr>\n",
       "    <tr>\n",
       "      <th>7</th>\n",
       "      <td>Тюмень</td>\n",
       "      <td>180</td>\n",
       "      <td>11.73%</td>\n",
       "    </tr>\n",
       "    <tr>\n",
       "      <th>2</th>\n",
       "      <td>Москва</td>\n",
       "      <td>168</td>\n",
       "      <td>10.95%</td>\n",
       "    </tr>\n",
       "  </tbody>\n",
       "</table>\n",
       "</div>"
      ],
      "text/plain": [
       "             city  users_count   ratio\n",
       "4       Пятигорск          219  14.28%\n",
       "0    Екатеринбург          204  13.30%\n",
       "5  Ростов-на-Дону          198  12.91%\n",
       "1       Краснодар          193  12.58%\n",
       "6            Сочи          189  12.32%\n",
       "3            Омск          183  11.93%\n",
       "7          Тюмень          180  11.73%\n",
       "2          Москва          168  10.95%"
      ]
     },
     "execution_count": 14,
     "metadata": {},
     "output_type": "execute_result"
    }
   ],
   "source": [
    "# Используем pivot_table() чтобы расчитать кольчество пользователей в каждом из городов и отсортируем данные по убыванию:  \n",
    "cities = (\n",
    "    users.pivot_table(\n",
    "    index='city', values='user_id', aggfunc='count')\n",
    "    .reset_index()\n",
    "    .sort_values(by='user_id', ascending=False)\n",
    "    )\n",
    "\n",
    "# Изменим наименование колонок\n",
    "cities.rename(columns={'user_id': 'users_count'}, inplace=True)\n",
    "\n",
    "# Расчитаем долю пользователей для каждого города из общего количество пользователей:\n",
    "cities['ratio'] = (cities['users_count'] / cities['users_count'].sum()).apply(lambda x: f'{x:.2%}')\n",
    "\n",
    "# Ознакомимся с результатом:\n",
    "cities"
   ]
  },
  {
   "cell_type": "code",
   "execution_count": 15,
   "id": "b7cf00b2",
   "metadata": {},
   "outputs": [
    {
     "data": {
      "image/png": "[encoded data removed]",
      "text/plain": [
       "<Figure size 800x800 with 1 Axes>"
      ]
     },
     "metadata": {},
     "output_type": "display_data"
    }
   ],
   "source": [
    "# Визуализируем результат:\n",
    "plt.rcParams[\"figure.figsize\"] = (8, 8)\n",
    "colors = ['#4682B4', '#5F9EA0', '#00CED1', '#48D1CC', '#40E0D0', '#7FFFD4', '#AFEEEE', '#E0FFFF']\n",
    "explode = (0.07, 0.07, 0.07, 0.01, 0.01, 0.01, 0.01, 0.01)\n",
    "plt.pie(\n",
    "    cities['users_count'], labels=cities['city'], autopct='%.2f%%', \n",
    "    pctdistance=0.7, colors=colors, explode=explode, textprops={'size': 15}, radius=1\n",
    ")\n",
    "plt.title('Доля пользователей в городах',  fontdict = {'fontsize' : 20})\n",
    "plt.show()"
   ]
  },
  {
   "cell_type": "markdown",
   "id": "8c42651e",
   "metadata": {},
   "source": [
    "По результатам можно сказать следующее:\n",
    "- Больше всего пользователей в городе Пятигорск - 219 пользователей\n",
    "- При этом пользователи распределены по городам равномерно, нет городов, в которых слишком мало или слишком много пользователей\n",
    "- По мере убывания пользователей в каждом последующем городе кольчество пользователей снижается менее чем на 1%\n",
    "- Разница между количеством пользователей в самом популярном (Пятигорск) и самом непопулярном городе (Москва) - 51 пользователь (3.33%)"
   ]
  },
  {
   "cell_type": "markdown",
   "id": "4ef51331",
   "metadata": {},
   "source": [
    "### Соотношение пользователей с подпиской и без подписки"
   ]
  },
  {
   "cell_type": "markdown",
   "id": "43d63f2d",
   "metadata": {},
   "source": [
    "Сгруппируем пользователей по типу подписки и изучим их соотношение:"
   ]
  },
  {
   "cell_type": "code",
   "execution_count": 16,
   "id": "169ea26a",
   "metadata": {},
   "outputs": [
    {
     "data": {
      "text/html": [
       "<div>\n",
       "<style scoped>\n",
       "    .dataframe tbody tr th:only-of-type {\n",
       "        vertical-align: middle;\n",
       "    }\n",
       "\n",
       "    .dataframe tbody tr th {\n",
       "        vertical-align: top;\n",
       "    }\n",
       "\n",
       "    .dataframe thead th {\n",
       "        text-align: right;\n",
       "    }\n",
       "</style>\n",
       "<table border=\"1\" class=\"dataframe\">\n",
       "  <thead>\n",
       "    <tr style=\"text-align: right;\">\n",
       "      <th></th>\n",
       "      <th>subscription_type</th>\n",
       "      <th>users_count</th>\n",
       "      <th>ratio</th>\n",
       "    </tr>\n",
       "  </thead>\n",
       "  <tbody>\n",
       "    <tr>\n",
       "      <th>0</th>\n",
       "      <td>Без подписки</td>\n",
       "      <td>835</td>\n",
       "      <td>54.43%</td>\n",
       "    </tr>\n",
       "    <tr>\n",
       "      <th>1</th>\n",
       "      <td>С подпиской</td>\n",
       "      <td>699</td>\n",
       "      <td>45.57%</td>\n",
       "    </tr>\n",
       "  </tbody>\n",
       "</table>\n",
       "</div>"
      ],
      "text/plain": [
       "  subscription_type  users_count   ratio\n",
       "0      Без подписки          835  54.43%\n",
       "1       С подпиской          699  45.57%"
      ]
     },
     "execution_count": 16,
     "metadata": {},
     "output_type": "execute_result"
    }
   ],
   "source": [
    "# Используем pivot_table() чтобы расчитать количество пользователей с подпиской и без подписки: \n",
    "users_ratio = (\n",
    "    users.pivot_table(\n",
    "    index='subscription_type', values='user_id', aggfunc='count')\n",
    "    .reset_index()\n",
    "    )\n",
    "\n",
    "# Изменим наименование колонок\n",
    "users_ratio.rename(columns={'user_id': 'users_count'}, inplace=True)\n",
    "\n",
    "# Изменим subscription_type с \"free\" и \"ultra\" на \"Без подписки\" и \"С подпиской\" соответственно\n",
    "users_ratio['subscription_type'] = users_ratio['subscription_type'].replace('free', 'Без подписки', regex=True)\n",
    "users_ratio['subscription_type'] = users_ratio['subscription_type'].replace('ultra', 'С подпиской', regex=True)\n",
    "\n",
    "# Расчитаем долю пользователей для каждого города из общего количество пользователей:\n",
    "users_ratio['ratio'] = (users_ratio['users_count'] / users_ratio['users_count'].sum()).apply(lambda x: f'{x:.2%}')\n",
    "\n",
    "# Ознакомимся с результатом:\n",
    "users_ratio"
   ]
  },
  {
   "cell_type": "code",
   "execution_count": 17,
   "id": "6595127d",
   "metadata": {},
   "outputs": [
    {
     "data": {
      "image/png": "[encoded data removed]",
      "text/plain": [
       "<Figure size 800x800 with 1 Axes>"
      ]
     },
     "metadata": {},
     "output_type": "display_data"
    }
   ],
   "source": [
    "# Визуализируем результат:\n",
    "plt.rcParams[\"figure.figsize\"] = (8, 8)\n",
    "plt.pie(\n",
    "    users_ratio['users_count'], labels=users_ratio['subscription_type'], colors=['#66CDAA', '#20B2AA'], autopct='%.2f%%', \n",
    "    pctdistance=0.5, textprops={'size': 15}, radius=1, wedgeprops = { 'linewidth' : 1.5, 'edgecolor' : 'white' }\n",
    ")\n",
    "plt.title('Соотношение пользователей с подпиской и без подписки',  fontdict = {'fontsize' : 20})\n",
    "plt.show()"
   ]
  },
  {
   "cell_type": "markdown",
   "id": "e7694b29",
   "metadata": {},
   "source": [
    "Пользователей без подписки оказалось больше чем пользователей с подпиской, при этом разница составляет ~ 10%"
   ]
  },
  {
   "cell_type": "markdown",
   "id": "95fce1fd",
   "metadata": {},
   "source": [
    "### Возраст пользователей"
   ]
  },
  {
   "cell_type": "markdown",
   "id": "3b239490",
   "metadata": {},
   "source": [
    "Изучим возраст пользователей с помощью метода `describe()` и визуализируем данные с помощью гистограммы:"
   ]
  },
  {
   "cell_type": "code",
   "execution_count": 18,
   "id": "4f9e5363",
   "metadata": {},
   "outputs": [
    {
     "data": {
      "text/plain": [
       "count    1534.000000\n",
       "mean       24.903520\n",
       "std         4.572367\n",
       "min        12.000000\n",
       "25%        22.000000\n",
       "50%        25.000000\n",
       "75%        28.000000\n",
       "max        43.000000\n",
       "Name: age, dtype: float64"
      ]
     },
     "execution_count": 18,
     "metadata": {},
     "output_type": "execute_result"
    }
   ],
   "source": [
    "# Применим 'describe()' к users['age']:\n",
    "users['age'].describe()"
   ]
  },
  {
   "cell_type": "markdown",
   "id": "c25a4002",
   "metadata": {},
   "source": [
    "Средний возраст пользователей ~ 25 лет, при этом самому младщему - 12 лет, а самому старшему - 43 года. "
   ]
  },
  {
   "cell_type": "code",
   "execution_count": 19,
   "id": "e897ab71",
   "metadata": {},
   "outputs": [
    {
     "data": {
      "image/png": "[encoded data removed]",
      "text/plain": [
       "<Figure size 1000x500 with 1 Axes>"
      ]
     },
     "metadata": {},
     "output_type": "display_data"
    }
   ],
   "source": [
    "# Построим и изучим гистограмму по 'age'\n",
    "plt.figure(figsize=(10, 5))\n",
    "plt.hist(users['age'], bins=30)\n",
    "plt.grid()\n",
    "plt.title('Возраст пользователей')\n",
    "plt.xlabel('Возраст')\n",
    "plt.ylabel('Количество пользователей')\n",
    "plt.show()"
   ]
  },
  {
   "cell_type": "code",
   "execution_count": 20,
   "id": "5b8df664",
   "metadata": {},
   "outputs": [
    {
     "data": {
      "image/png": "[encoded data removed]",
      "text/plain": [
       "<Figure size 500x500 with 1 Axes>"
      ]
     },
     "metadata": {},
     "output_type": "display_data"
    }
   ],
   "source": [
    "# Построим и изучим диаграмму размаха 'age':\n",
    "users.boxplot('age', figsize=(5, 5))\n",
    "plt.title('Диаграмма размаха по возрасту пользователей')\n",
    "plt.ylabel('Возраст')\n",
    "plt.show()"
   ]
  },
  {
   "cell_type": "markdown",
   "id": "c819a788",
   "metadata": {},
   "source": [
    "Данные о возрастах пользователей распределены нормально со средним значением в 25 лет."
   ]
  },
  {
   "cell_type": "markdown",
   "id": "a9c08190",
   "metadata": {},
   "source": [
    "### Расстояние, которое пользователь преодолевает за одну поездку"
   ]
  },
  {
   "cell_type": "markdown",
   "id": "d53fb71a",
   "metadata": {},
   "source": [
    "Изучим расстояние, которое преодолевают пользователи за одну поездку. Изучим числовые данные с помощью `describe()` и визуализируем данные:"
   ]
  },
  {
   "cell_type": "code",
   "execution_count": 21,
   "id": "410a5986",
   "metadata": {},
   "outputs": [
    {
     "data": {
      "text/plain": [
       "count    18068.000000\n",
       "mean      3070.659976\n",
       "std       1116.831209\n",
       "min          0.855683\n",
       "25%       2543.226360\n",
       "50%       3133.609994\n",
       "75%       3776.222735\n",
       "max       7211.007745\n",
       "Name: distance, dtype: float64"
      ]
     },
     "execution_count": 21,
     "metadata": {},
     "output_type": "execute_result"
    }
   ],
   "source": [
    "# Применим метод describe()\n",
    "rides['distance'].describe()"
   ]
  },
  {
   "cell_type": "markdown",
   "id": "3ea15359",
   "metadata": {},
   "source": [
    "Среднее расстояние, которое преодолевают пользователи - 3 070 метров. При этом минимальное расстояние меньше метра. Данные выглядят неправдоподобно. Изучим короткие дистанции подробнее:"
   ]
  },
  {
   "cell_type": "code",
   "execution_count": 22,
   "id": "b185c113",
   "metadata": {},
   "outputs": [
    {
     "data": {
      "text/html": [
       "<div>\n",
       "<style scoped>\n",
       "    .dataframe tbody tr th:only-of-type {\n",
       "        vertical-align: middle;\n",
       "    }\n",
       "\n",
       "    .dataframe tbody tr th {\n",
       "        vertical-align: top;\n",
       "    }\n",
       "\n",
       "    .dataframe thead th {\n",
       "        text-align: right;\n",
       "    }\n",
       "</style>\n",
       "<table border=\"1\" class=\"dataframe\">\n",
       "  <thead>\n",
       "    <tr style=\"text-align: right;\">\n",
       "      <th></th>\n",
       "      <th>user_id</th>\n",
       "      <th>distance</th>\n",
       "      <th>duration</th>\n",
       "      <th>date</th>\n",
       "    </tr>\n",
       "  </thead>\n",
       "  <tbody>\n",
       "    <tr>\n",
       "      <th>11555</th>\n",
       "      <td>1069</td>\n",
       "      <td>0.855683</td>\n",
       "      <td>10.001902</td>\n",
       "      <td>2021-01-31</td>\n",
       "    </tr>\n",
       "    <tr>\n",
       "      <th>9541</th>\n",
       "      <td>925</td>\n",
       "      <td>2.570787</td>\n",
       "      <td>3.011018</td>\n",
       "      <td>2021-10-19</td>\n",
       "    </tr>\n",
       "    <tr>\n",
       "      <th>13690</th>\n",
       "      <td>1223</td>\n",
       "      <td>4.329506</td>\n",
       "      <td>4.008958</td>\n",
       "      <td>2021-05-22</td>\n",
       "    </tr>\n",
       "    <tr>\n",
       "      <th>8658</th>\n",
       "      <td>861</td>\n",
       "      <td>6.784447</td>\n",
       "      <td>6.015656</td>\n",
       "      <td>2021-07-21</td>\n",
       "    </tr>\n",
       "    <tr>\n",
       "      <th>7841</th>\n",
       "      <td>796</td>\n",
       "      <td>7.097072</td>\n",
       "      <td>10.026614</td>\n",
       "      <td>2021-11-26</td>\n",
       "    </tr>\n",
       "    <tr>\n",
       "      <th>8906</th>\n",
       "      <td>880</td>\n",
       "      <td>11.283615</td>\n",
       "      <td>2.035632</td>\n",
       "      <td>2021-03-28</td>\n",
       "    </tr>\n",
       "    <tr>\n",
       "      <th>8324</th>\n",
       "      <td>835</td>\n",
       "      <td>12.233115</td>\n",
       "      <td>4.034952</td>\n",
       "      <td>2021-09-19</td>\n",
       "    </tr>\n",
       "    <tr>\n",
       "      <th>13940</th>\n",
       "      <td>1240</td>\n",
       "      <td>15.000606</td>\n",
       "      <td>10.045002</td>\n",
       "      <td>2021-08-20</td>\n",
       "    </tr>\n",
       "    <tr>\n",
       "      <th>15626</th>\n",
       "      <td>1364</td>\n",
       "      <td>15.366168</td>\n",
       "      <td>6.057623</td>\n",
       "      <td>2021-08-22</td>\n",
       "    </tr>\n",
       "    <tr>\n",
       "      <th>11862</th>\n",
       "      <td>1091</td>\n",
       "      <td>15.630873</td>\n",
       "      <td>13.044660</td>\n",
       "      <td>2021-03-29</td>\n",
       "    </tr>\n",
       "    <tr>\n",
       "      <th>17414</th>\n",
       "      <td>1489</td>\n",
       "      <td>22.314412</td>\n",
       "      <td>6.074381</td>\n",
       "      <td>2021-10-06</td>\n",
       "    </tr>\n",
       "    <tr>\n",
       "      <th>15104</th>\n",
       "      <td>1323</td>\n",
       "      <td>22.393227</td>\n",
       "      <td>7.061072</td>\n",
       "      <td>2021-10-25</td>\n",
       "    </tr>\n",
       "    <tr>\n",
       "      <th>6691</th>\n",
       "      <td>712</td>\n",
       "      <td>23.963062</td>\n",
       "      <td>2.053251</td>\n",
       "      <td>2021-11-22</td>\n",
       "    </tr>\n",
       "    <tr>\n",
       "      <th>9784</th>\n",
       "      <td>943</td>\n",
       "      <td>26.784378</td>\n",
       "      <td>5.053569</td>\n",
       "      <td>2021-12-29</td>\n",
       "    </tr>\n",
       "    <tr>\n",
       "      <th>17173</th>\n",
       "      <td>1471</td>\n",
       "      <td>27.965145</td>\n",
       "      <td>3.093217</td>\n",
       "      <td>2021-10-06</td>\n",
       "    </tr>\n",
       "    <tr>\n",
       "      <th>6611</th>\n",
       "      <td>707</td>\n",
       "      <td>28.793204</td>\n",
       "      <td>14.143966</td>\n",
       "      <td>2021-09-12</td>\n",
       "    </tr>\n",
       "    <tr>\n",
       "      <th>6850</th>\n",
       "      <td>724</td>\n",
       "      <td>30.473763</td>\n",
       "      <td>3.166221</td>\n",
       "      <td>2021-05-09</td>\n",
       "    </tr>\n",
       "    <tr>\n",
       "      <th>14676</th>\n",
       "      <td>1293</td>\n",
       "      <td>30.586955</td>\n",
       "      <td>9.096590</td>\n",
       "      <td>2021-01-14</td>\n",
       "    </tr>\n",
       "    <tr>\n",
       "      <th>15870</th>\n",
       "      <td>1381</td>\n",
       "      <td>31.391295</td>\n",
       "      <td>14.099130</td>\n",
       "      <td>2021-06-29</td>\n",
       "    </tr>\n",
       "    <tr>\n",
       "      <th>9128</th>\n",
       "      <td>896</td>\n",
       "      <td>31.803410</td>\n",
       "      <td>8.079509</td>\n",
       "      <td>2021-03-16</td>\n",
       "    </tr>\n",
       "  </tbody>\n",
       "</table>\n",
       "</div>"
      ],
      "text/plain": [
       "       user_id   distance   duration       date\n",
       "11555     1069   0.855683  10.001902 2021-01-31\n",
       "9541       925   2.570787   3.011018 2021-10-19\n",
       "13690     1223   4.329506   4.008958 2021-05-22\n",
       "8658       861   6.784447   6.015656 2021-07-21\n",
       "7841       796   7.097072  10.026614 2021-11-26\n",
       "8906       880  11.283615   2.035632 2021-03-28\n",
       "8324       835  12.233115   4.034952 2021-09-19\n",
       "13940     1240  15.000606  10.045002 2021-08-20\n",
       "15626     1364  15.366168   6.057623 2021-08-22\n",
       "11862     1091  15.630873  13.044660 2021-03-29\n",
       "17414     1489  22.314412   6.074381 2021-10-06\n",
       "15104     1323  22.393227   7.061072 2021-10-25\n",
       "6691       712  23.963062   2.053251 2021-11-22\n",
       "9784       943  26.784378   5.053569 2021-12-29\n",
       "17173     1471  27.965145   3.093217 2021-10-06\n",
       "6611       707  28.793204  14.143966 2021-09-12\n",
       "6850       724  30.473763   3.166221 2021-05-09\n",
       "14676     1293  30.586955   9.096590 2021-01-14\n",
       "15870     1381  31.391295  14.099130 2021-06-29\n",
       "9128       896  31.803410   8.079509 2021-03-16"
      ]
     },
     "execution_count": 22,
     "metadata": {},
     "output_type": "execute_result"
    }
   ],
   "source": [
    "rides.sort_values(by='distance').head(20)"
   ]
  },
  {
   "cell_type": "markdown",
   "id": "4972c988",
   "metadata": {},
   "source": [
    "Нельзя сказать что данных с поездками на короткие дистанции дистанции единицы. Возможно это не аномальные значения, а пользователи, например, изучают приложение и делают первые шаги в изучении сервиса, совершают первые, короткие поездки на самокатах."
   ]
  },
  {
   "cell_type": "code",
   "execution_count": 23,
   "id": "fc67f435",
   "metadata": {},
   "outputs": [
    {
     "data": {
      "image/png": "[encoded data removed]",
      "text/plain": [
       "<Figure size 1000x500 with 1 Axes>"
      ]
     },
     "metadata": {},
     "output_type": "display_data"
    }
   ],
   "source": [
    "# Построим и изучим гистограмму по 'distance'\n",
    "plt.figure(figsize=(10, 5))\n",
    "plt.hist(rides['distance'], bins=30)\n",
    "plt.grid()\n",
    "plt.title('Расстояние, которое преодолевают пользователи за одну поездку')\n",
    "plt.xlabel('Расстояние, м')\n",
    "plt.ylabel('Количество пользователей')\n",
    "plt.show()"
   ]
  },
  {
   "cell_type": "code",
   "execution_count": 24,
   "id": "05b3948e",
   "metadata": {},
   "outputs": [
    {
     "data": {
      "image/png": "[encoded data removed]",
      "text/plain": [
       "<Figure size 500x500 with 1 Axes>"
      ]
     },
     "metadata": {},
     "output_type": "display_data"
    }
   ],
   "source": [
    "# Построим и изучим диаграмму размаха 'distance':\n",
    "rides.boxplot('distance', figsize=(5, 5))\n",
    "plt.title('Диаграмма размаха по дистанции поездок')\n",
    "plt.ylabel('Дистанция, м')\n",
    "plt.show()"
   ]
  },
  {
   "cell_type": "markdown",
   "id": "f59d494b",
   "metadata": {},
   "source": [
    "На гистограмме наблюдается бимодальное распределение данных - пики значений приходятся на уровни ~ 700 метров в меньшей степени и в значительно большей степени на уровень в ~ 3100 - 3200 метров. Если удалить часть данных это может исказить данные о выручке и общие выводы исследования - все данные оставим."
   ]
  },
  {
   "cell_type": "markdown",
   "id": "67b13caa",
   "metadata": {},
   "source": [
    "### Продолжительность поездок"
   ]
  },
  {
   "cell_type": "markdown",
   "id": "bee6df43",
   "metadata": {},
   "source": [
    "Изучим длительность поездок пользователей. Изучим числовые данные с помощью `describe()` и визуализируем данные:"
   ]
  },
  {
   "cell_type": "code",
   "execution_count": 25,
   "id": "3a1bf2bb",
   "metadata": {},
   "outputs": [
    {
     "data": {
      "text/plain": [
       "count    18068.000000\n",
       "mean        17.805011\n",
       "std          6.091051\n",
       "min          0.500000\n",
       "25%         13.597563\n",
       "50%         17.678395\n",
       "75%         21.724800\n",
       "max         40.823963\n",
       "Name: duration, dtype: float64"
      ]
     },
     "execution_count": 25,
     "metadata": {},
     "output_type": "execute_result"
    }
   ],
   "source": [
    "# Применим метод describe()\n",
    "rides['duration'].describe()"
   ]
  },
  {
   "cell_type": "markdown",
   "id": "f0a45117",
   "metadata": {},
   "source": [
    "Среднее время поездок примерно 18 минут. При этом минимальное время поездок меньше минуты, кажется подозрительным. Проверим данные:"
   ]
  },
  {
   "cell_type": "code",
   "execution_count": 26,
   "id": "b7360f7f",
   "metadata": {},
   "outputs": [
    {
     "data": {
      "text/html": [
       "<div>\n",
       "<style scoped>\n",
       "    .dataframe tbody tr th:only-of-type {\n",
       "        vertical-align: middle;\n",
       "    }\n",
       "\n",
       "    .dataframe tbody tr th {\n",
       "        vertical-align: top;\n",
       "    }\n",
       "\n",
       "    .dataframe thead th {\n",
       "        text-align: right;\n",
       "    }\n",
       "</style>\n",
       "<table border=\"1\" class=\"dataframe\">\n",
       "  <thead>\n",
       "    <tr style=\"text-align: right;\">\n",
       "      <th></th>\n",
       "      <th>user_id</th>\n",
       "      <th>distance</th>\n",
       "      <th>duration</th>\n",
       "      <th>date</th>\n",
       "    </tr>\n",
       "  </thead>\n",
       "  <tbody>\n",
       "    <tr>\n",
       "      <th>12013</th>\n",
       "      <td>1102</td>\n",
       "      <td>4602.122401</td>\n",
       "      <td>0.5</td>\n",
       "      <td>2021-08-01</td>\n",
       "    </tr>\n",
       "    <tr>\n",
       "      <th>17314</th>\n",
       "      <td>1483</td>\n",
       "      <td>4445.481070</td>\n",
       "      <td>0.5</td>\n",
       "      <td>2021-03-06</td>\n",
       "    </tr>\n",
       "    <tr>\n",
       "      <th>15029</th>\n",
       "      <td>1318</td>\n",
       "      <td>5894.633314</td>\n",
       "      <td>0.5</td>\n",
       "      <td>2021-03-28</td>\n",
       "    </tr>\n",
       "    <tr>\n",
       "      <th>7437</th>\n",
       "      <td>766</td>\n",
       "      <td>4539.088310</td>\n",
       "      <td>0.5</td>\n",
       "      <td>2021-12-22</td>\n",
       "    </tr>\n",
       "    <tr>\n",
       "      <th>12967</th>\n",
       "      <td>1172</td>\n",
       "      <td>4907.140751</td>\n",
       "      <td>0.5</td>\n",
       "      <td>2021-12-19</td>\n",
       "    </tr>\n",
       "    <tr>\n",
       "      <th>15015</th>\n",
       "      <td>1317</td>\n",
       "      <td>4593.389022</td>\n",
       "      <td>0.5</td>\n",
       "      <td>2021-07-16</td>\n",
       "    </tr>\n",
       "    <tr>\n",
       "      <th>13012</th>\n",
       "      <td>1176</td>\n",
       "      <td>4935.071045</td>\n",
       "      <td>0.5</td>\n",
       "      <td>2021-05-14</td>\n",
       "    </tr>\n",
       "    <tr>\n",
       "      <th>7508</th>\n",
       "      <td>772</td>\n",
       "      <td>4718.820996</td>\n",
       "      <td>0.5</td>\n",
       "      <td>2021-05-22</td>\n",
       "    </tr>\n",
       "    <tr>\n",
       "      <th>16589</th>\n",
       "      <td>1428</td>\n",
       "      <td>5059.187375</td>\n",
       "      <td>0.5</td>\n",
       "      <td>2021-05-06</td>\n",
       "    </tr>\n",
       "    <tr>\n",
       "      <th>9049</th>\n",
       "      <td>890</td>\n",
       "      <td>4848.485014</td>\n",
       "      <td>0.5</td>\n",
       "      <td>2021-11-20</td>\n",
       "    </tr>\n",
       "  </tbody>\n",
       "</table>\n",
       "</div>"
      ],
      "text/plain": [
       "       user_id     distance  duration       date\n",
       "12013     1102  4602.122401       0.5 2021-08-01\n",
       "17314     1483  4445.481070       0.5 2021-03-06\n",
       "15029     1318  5894.633314       0.5 2021-03-28\n",
       "7437       766  4539.088310       0.5 2021-12-22\n",
       "12967     1172  4907.140751       0.5 2021-12-19\n",
       "15015     1317  4593.389022       0.5 2021-07-16\n",
       "13012     1176  4935.071045       0.5 2021-05-14\n",
       "7508       772  4718.820996       0.5 2021-05-22\n",
       "16589     1428  5059.187375       0.5 2021-05-06\n",
       "9049       890  4848.485014       0.5 2021-11-20"
      ]
     },
     "execution_count": 26,
     "metadata": {},
     "output_type": "execute_result"
    }
   ],
   "source": [
    "rides.sort_values(by='duration').head(10)"
   ]
  },
  {
   "cell_type": "code",
   "execution_count": 27,
   "id": "1488e963",
   "metadata": {},
   "outputs": [
    {
     "data": {
      "text/plain": [
       "0.500000     95\n",
       "22.184080     1\n",
       "25.866000     1\n",
       "22.837062     1\n",
       "19.173800     1\n",
       "Name: duration, dtype: int64"
      ]
     },
     "execution_count": 27,
     "metadata": {},
     "output_type": "execute_result"
    }
   ],
   "source": [
    "rides['duration'].value_counts().head()"
   ]
  },
  {
   "cell_type": "markdown",
   "id": "8a75cbba",
   "metadata": {},
   "source": [
    "95 поездок длительностью ровно 30 секунд! Установить причины таких значений, к сожалению, на данном этапе невозможно."
   ]
  },
  {
   "cell_type": "code",
   "execution_count": 28,
   "id": "03ab596c",
   "metadata": {},
   "outputs": [
    {
     "data": {
      "image/png": "[encoded data removed]",
      "text/plain": [
       "<Figure size 1000x500 with 1 Axes>"
      ]
     },
     "metadata": {},
     "output_type": "display_data"
    }
   ],
   "source": [
    "# Построим и изучим гистограмму по 'duration'\n",
    "plt.figure(figsize=(10, 5))\n",
    "plt.hist(rides['duration'], bins=30)\n",
    "plt.grid()\n",
    "plt.title('Длительность одной поездки')\n",
    "plt.xlabel('Длительность, мин')\n",
    "plt.ylabel('Количество пользователей')\n",
    "plt.show()"
   ]
  },
  {
   "cell_type": "code",
   "execution_count": 29,
   "id": "35331c94",
   "metadata": {},
   "outputs": [
    {
     "data": {
      "image/png": "[encoded data removed]",
      "text/plain": [
       "<Figure size 500x500 with 1 Axes>"
      ]
     },
     "metadata": {},
     "output_type": "display_data"
    }
   ],
   "source": [
    "# Построим и изучим диаграмму размаха 'duration':\n",
    "rides.boxplot('duration', figsize=(5, 5))\n",
    "plt.title('Диаграмма размаха по длительности поездок')\n",
    "plt.ylabel('Длительность, мин')\n",
    "plt.show()"
   ]
  },
  {
   "cell_type": "markdown",
   "id": "c4293e55",
   "metadata": {},
   "source": [
    "Данные распределены нормально, при этом есть уже указанное ранее выбивающееся значение в 30 секунд. Данные оставим."
   ]
  },
  {
   "cell_type": "markdown",
   "id": "255d37ff",
   "metadata": {},
   "source": [
    "### Добавление новых данных и объединение датасетов"
   ]
  },
  {
   "cell_type": "markdown",
   "id": "817e8a54",
   "metadata": {},
   "source": [
    "Добавим новый столбец в датасет `rides` с номером месяца на основе столбца `date`. Объединим датасеты `users`, `rides` и `subs` в единий датасет `data`, и на основе общего датасета создадим два датасета: с пользователями с подпиской - `data_ultra` и с пользователями без подписки - `data_free`."
   ]
  },
  {
   "cell_type": "code",
   "execution_count": 30,
   "id": "e9f0db66",
   "metadata": {},
   "outputs": [],
   "source": [
    "# создадим навый параметр в датасете 'rides' - месяц поездки\n",
    "rides['month'] = rides['date'].dt.month"
   ]
  },
  {
   "cell_type": "code",
   "execution_count": 31,
   "id": "23e25c51",
   "metadata": {},
   "outputs": [
    {
     "data": {
      "text/html": [
       "<div>\n",
       "<style scoped>\n",
       "    .dataframe tbody tr th:only-of-type {\n",
       "        vertical-align: middle;\n",
       "    }\n",
       "\n",
       "    .dataframe tbody tr th {\n",
       "        vertical-align: top;\n",
       "    }\n",
       "\n",
       "    .dataframe thead th {\n",
       "        text-align: right;\n",
       "    }\n",
       "</style>\n",
       "<table border=\"1\" class=\"dataframe\">\n",
       "  <thead>\n",
       "    <tr style=\"text-align: right;\">\n",
       "      <th></th>\n",
       "      <th>user_id</th>\n",
       "      <th>name</th>\n",
       "      <th>age</th>\n",
       "      <th>city</th>\n",
       "      <th>subscription_type</th>\n",
       "      <th>distance</th>\n",
       "      <th>duration</th>\n",
       "      <th>date</th>\n",
       "      <th>month</th>\n",
       "      <th>minute_price</th>\n",
       "      <th>start_ride_price</th>\n",
       "      <th>subscription_fee</th>\n",
       "    </tr>\n",
       "  </thead>\n",
       "  <tbody>\n",
       "    <tr>\n",
       "      <th>0</th>\n",
       "      <td>1</td>\n",
       "      <td>Кира</td>\n",
       "      <td>22</td>\n",
       "      <td>Тюмень</td>\n",
       "      <td>ultra</td>\n",
       "      <td>4409.919140</td>\n",
       "      <td>25.599769</td>\n",
       "      <td>2021-01-01</td>\n",
       "      <td>1</td>\n",
       "      <td>6</td>\n",
       "      <td>0</td>\n",
       "      <td>199</td>\n",
       "    </tr>\n",
       "    <tr>\n",
       "      <th>1</th>\n",
       "      <td>1</td>\n",
       "      <td>Кира</td>\n",
       "      <td>22</td>\n",
       "      <td>Тюмень</td>\n",
       "      <td>ultra</td>\n",
       "      <td>2617.592153</td>\n",
       "      <td>15.816871</td>\n",
       "      <td>2021-01-18</td>\n",
       "      <td>1</td>\n",
       "      <td>6</td>\n",
       "      <td>0</td>\n",
       "      <td>199</td>\n",
       "    </tr>\n",
       "    <tr>\n",
       "      <th>2</th>\n",
       "      <td>1</td>\n",
       "      <td>Кира</td>\n",
       "      <td>22</td>\n",
       "      <td>Тюмень</td>\n",
       "      <td>ultra</td>\n",
       "      <td>754.159807</td>\n",
       "      <td>6.232113</td>\n",
       "      <td>2021-04-20</td>\n",
       "      <td>4</td>\n",
       "      <td>6</td>\n",
       "      <td>0</td>\n",
       "      <td>199</td>\n",
       "    </tr>\n",
       "    <tr>\n",
       "      <th>3</th>\n",
       "      <td>1</td>\n",
       "      <td>Кира</td>\n",
       "      <td>22</td>\n",
       "      <td>Тюмень</td>\n",
       "      <td>ultra</td>\n",
       "      <td>2694.783254</td>\n",
       "      <td>18.511000</td>\n",
       "      <td>2021-08-11</td>\n",
       "      <td>8</td>\n",
       "      <td>6</td>\n",
       "      <td>0</td>\n",
       "      <td>199</td>\n",
       "    </tr>\n",
       "    <tr>\n",
       "      <th>4</th>\n",
       "      <td>1</td>\n",
       "      <td>Кира</td>\n",
       "      <td>22</td>\n",
       "      <td>Тюмень</td>\n",
       "      <td>ultra</td>\n",
       "      <td>4028.687306</td>\n",
       "      <td>26.265803</td>\n",
       "      <td>2021-08-28</td>\n",
       "      <td>8</td>\n",
       "      <td>6</td>\n",
       "      <td>0</td>\n",
       "      <td>199</td>\n",
       "    </tr>\n",
       "  </tbody>\n",
       "</table>\n",
       "</div>"
      ],
      "text/plain": [
       "   user_id  name  age    city subscription_type     distance   duration  \\\n",
       "0        1  Кира   22  Тюмень             ultra  4409.919140  25.599769   \n",
       "1        1  Кира   22  Тюмень             ultra  2617.592153  15.816871   \n",
       "2        1  Кира   22  Тюмень             ultra   754.159807   6.232113   \n",
       "3        1  Кира   22  Тюмень             ultra  2694.783254  18.511000   \n",
       "4        1  Кира   22  Тюмень             ultra  4028.687306  26.265803   \n",
       "\n",
       "        date  month  minute_price  start_ride_price  subscription_fee  \n",
       "0 2021-01-01      1             6                 0               199  \n",
       "1 2021-01-18      1             6                 0               199  \n",
       "2 2021-04-20      4             6                 0               199  \n",
       "3 2021-08-11      8             6                 0               199  \n",
       "4 2021-08-28      8             6                 0               199  "
      ]
     },
     "execution_count": 31,
     "metadata": {},
     "output_type": "execute_result"
    }
   ],
   "source": [
    "# объединим датасеты в один\n",
    "data = users.merge(rides, on='user_id').merge(subs, on='subscription_type')\n",
    "\n",
    "# ознакомимся с первыми строками нового датасета:\n",
    "data.head()"
   ]
  },
  {
   "cell_type": "code",
   "execution_count": 32,
   "id": "bc7e690e",
   "metadata": {},
   "outputs": [
    {
     "name": "stdout",
     "output_type": "stream",
     "text": [
      "Количество уникальных пользователей в датасете 'users': 1534\n",
      "Количество уникальных пользователей в датасете 'data': 1534\n",
      "\n",
      "Количество поездок в датасете 'rides': 18068\n",
      "Количество поездок в датасете 'data': 18068\n",
      "\n",
      "Все данные из датасета 'user' перенесены в датасет 'data'\n",
      "Все данные из датасета 'rides' перенесены в датасет 'data'\n",
      "\n",
      "Количество пропущенных значений в датасете 'data': 0\n"
     ]
    }
   ],
   "source": [
    "# Проверим данные в исходных датасетах и объединенном\n",
    "print(f\"Количество уникальных пользователей в датасете 'users': {len(users['user_id'].unique())}\\n\"\n",
    "      f\"Количество уникальных пользователей в датасете 'data': {len(data['user_id'].unique())}\\n\"\n",
    "      f\"\\n\"\n",
    "      f\"Количество поездок в датасете 'rides': {len(rides)}\\n\"\n",
    "      f\"Количество поездок в датасете 'data': {len(data)}\\n\")\n",
    "\n",
    "if len(users['user_id'].unique()) == len(data['user_id'].unique()):\n",
    "    print(\"Все данные из датасета 'user' перенесены в датасет 'data'\")\n",
    "else:\n",
    "    print('Что-то пошло не так!')\n",
    "if len(rides) == len(data):\n",
    "    print(\"Все данные из датасета 'rides' перенесены в датасет 'data'\")\n",
    "else:\n",
    "    print('Что-то пошло не так!')\n",
    "    \n",
    "print(f\"\\nКоличество пропущенных значений в датасете 'data': {data.isna().sum().sum()}\")"
   ]
  },
  {
   "cell_type": "code",
   "execution_count": 33,
   "id": "bc3401ee",
   "metadata": {},
   "outputs": [
    {
     "data": {
      "text/html": [
       "<div>\n",
       "<style scoped>\n",
       "    .dataframe tbody tr th:only-of-type {\n",
       "        vertical-align: middle;\n",
       "    }\n",
       "\n",
       "    .dataframe tbody tr th {\n",
       "        vertical-align: top;\n",
       "    }\n",
       "\n",
       "    .dataframe thead th {\n",
       "        text-align: right;\n",
       "    }\n",
       "</style>\n",
       "<table border=\"1\" class=\"dataframe\">\n",
       "  <thead>\n",
       "    <tr style=\"text-align: right;\">\n",
       "      <th></th>\n",
       "      <th>user_id</th>\n",
       "      <th>name</th>\n",
       "      <th>age</th>\n",
       "      <th>city</th>\n",
       "      <th>subscription_type</th>\n",
       "      <th>distance</th>\n",
       "      <th>duration</th>\n",
       "      <th>date</th>\n",
       "      <th>month</th>\n",
       "      <th>minute_price</th>\n",
       "      <th>start_ride_price</th>\n",
       "      <th>subscription_fee</th>\n",
       "    </tr>\n",
       "  </thead>\n",
       "  <tbody>\n",
       "    <tr>\n",
       "      <th>0</th>\n",
       "      <td>1</td>\n",
       "      <td>Кира</td>\n",
       "      <td>22</td>\n",
       "      <td>Тюмень</td>\n",
       "      <td>ultra</td>\n",
       "      <td>4409.919140</td>\n",
       "      <td>25.599769</td>\n",
       "      <td>2021-01-01</td>\n",
       "      <td>1</td>\n",
       "      <td>6</td>\n",
       "      <td>0</td>\n",
       "      <td>199</td>\n",
       "    </tr>\n",
       "    <tr>\n",
       "      <th>1</th>\n",
       "      <td>1</td>\n",
       "      <td>Кира</td>\n",
       "      <td>22</td>\n",
       "      <td>Тюмень</td>\n",
       "      <td>ultra</td>\n",
       "      <td>2617.592153</td>\n",
       "      <td>15.816871</td>\n",
       "      <td>2021-01-18</td>\n",
       "      <td>1</td>\n",
       "      <td>6</td>\n",
       "      <td>0</td>\n",
       "      <td>199</td>\n",
       "    </tr>\n",
       "    <tr>\n",
       "      <th>2</th>\n",
       "      <td>1</td>\n",
       "      <td>Кира</td>\n",
       "      <td>22</td>\n",
       "      <td>Тюмень</td>\n",
       "      <td>ultra</td>\n",
       "      <td>754.159807</td>\n",
       "      <td>6.232113</td>\n",
       "      <td>2021-04-20</td>\n",
       "      <td>4</td>\n",
       "      <td>6</td>\n",
       "      <td>0</td>\n",
       "      <td>199</td>\n",
       "    </tr>\n",
       "    <tr>\n",
       "      <th>3</th>\n",
       "      <td>1</td>\n",
       "      <td>Кира</td>\n",
       "      <td>22</td>\n",
       "      <td>Тюмень</td>\n",
       "      <td>ultra</td>\n",
       "      <td>2694.783254</td>\n",
       "      <td>18.511000</td>\n",
       "      <td>2021-08-11</td>\n",
       "      <td>8</td>\n",
       "      <td>6</td>\n",
       "      <td>0</td>\n",
       "      <td>199</td>\n",
       "    </tr>\n",
       "    <tr>\n",
       "      <th>4</th>\n",
       "      <td>1</td>\n",
       "      <td>Кира</td>\n",
       "      <td>22</td>\n",
       "      <td>Тюмень</td>\n",
       "      <td>ultra</td>\n",
       "      <td>4028.687306</td>\n",
       "      <td>26.265803</td>\n",
       "      <td>2021-08-28</td>\n",
       "      <td>8</td>\n",
       "      <td>6</td>\n",
       "      <td>0</td>\n",
       "      <td>199</td>\n",
       "    </tr>\n",
       "  </tbody>\n",
       "</table>\n",
       "</div>"
      ],
      "text/plain": [
       "   user_id  name  age    city subscription_type     distance   duration  \\\n",
       "0        1  Кира   22  Тюмень             ultra  4409.919140  25.599769   \n",
       "1        1  Кира   22  Тюмень             ultra  2617.592153  15.816871   \n",
       "2        1  Кира   22  Тюмень             ultra   754.159807   6.232113   \n",
       "3        1  Кира   22  Тюмень             ultra  2694.783254  18.511000   \n",
       "4        1  Кира   22  Тюмень             ultra  4028.687306  26.265803   \n",
       "\n",
       "        date  month  minute_price  start_ride_price  subscription_fee  \n",
       "0 2021-01-01      1             6                 0               199  \n",
       "1 2021-01-18      1             6                 0               199  \n",
       "2 2021-04-20      4             6                 0               199  \n",
       "3 2021-08-11      8             6                 0               199  \n",
       "4 2021-08-28      8             6                 0               199  "
      ]
     },
     "execution_count": 33,
     "metadata": {},
     "output_type": "execute_result"
    }
   ],
   "source": [
    "# создадим датасет с пользователями с подпиской:\n",
    "data_ultra = data.query('subscription_type == \"ultra\"')\n",
    "\n",
    "# ознакомимся с первыми строками нового датасета:\n",
    "data_ultra.head()"
   ]
  },
  {
   "cell_type": "code",
   "execution_count": 34,
   "id": "7b5a1185",
   "metadata": {},
   "outputs": [
    {
     "data": {
      "text/html": [
       "<div>\n",
       "<style scoped>\n",
       "    .dataframe tbody tr th:only-of-type {\n",
       "        vertical-align: middle;\n",
       "    }\n",
       "\n",
       "    .dataframe tbody tr th {\n",
       "        vertical-align: top;\n",
       "    }\n",
       "\n",
       "    .dataframe thead th {\n",
       "        text-align: right;\n",
       "    }\n",
       "</style>\n",
       "<table border=\"1\" class=\"dataframe\">\n",
       "  <thead>\n",
       "    <tr style=\"text-align: right;\">\n",
       "      <th></th>\n",
       "      <th>user_id</th>\n",
       "      <th>name</th>\n",
       "      <th>age</th>\n",
       "      <th>city</th>\n",
       "      <th>subscription_type</th>\n",
       "      <th>distance</th>\n",
       "      <th>duration</th>\n",
       "      <th>date</th>\n",
       "      <th>month</th>\n",
       "      <th>minute_price</th>\n",
       "      <th>start_ride_price</th>\n",
       "      <th>subscription_fee</th>\n",
       "    </tr>\n",
       "  </thead>\n",
       "  <tbody>\n",
       "    <tr>\n",
       "      <th>6500</th>\n",
       "      <td>700</td>\n",
       "      <td>Айдар</td>\n",
       "      <td>22</td>\n",
       "      <td>Омск</td>\n",
       "      <td>free</td>\n",
       "      <td>2515.690719</td>\n",
       "      <td>14.944286</td>\n",
       "      <td>2021-01-02</td>\n",
       "      <td>1</td>\n",
       "      <td>8</td>\n",
       "      <td>50</td>\n",
       "      <td>0</td>\n",
       "    </tr>\n",
       "    <tr>\n",
       "      <th>6501</th>\n",
       "      <td>700</td>\n",
       "      <td>Айдар</td>\n",
       "      <td>22</td>\n",
       "      <td>Омск</td>\n",
       "      <td>free</td>\n",
       "      <td>846.932642</td>\n",
       "      <td>16.234663</td>\n",
       "      <td>2021-02-01</td>\n",
       "      <td>2</td>\n",
       "      <td>8</td>\n",
       "      <td>50</td>\n",
       "      <td>0</td>\n",
       "    </tr>\n",
       "    <tr>\n",
       "      <th>6502</th>\n",
       "      <td>700</td>\n",
       "      <td>Айдар</td>\n",
       "      <td>22</td>\n",
       "      <td>Омск</td>\n",
       "      <td>free</td>\n",
       "      <td>4004.434142</td>\n",
       "      <td>20.016628</td>\n",
       "      <td>2021-02-04</td>\n",
       "      <td>2</td>\n",
       "      <td>8</td>\n",
       "      <td>50</td>\n",
       "      <td>0</td>\n",
       "    </tr>\n",
       "    <tr>\n",
       "      <th>6503</th>\n",
       "      <td>700</td>\n",
       "      <td>Айдар</td>\n",
       "      <td>22</td>\n",
       "      <td>Омск</td>\n",
       "      <td>free</td>\n",
       "      <td>1205.911290</td>\n",
       "      <td>9.782872</td>\n",
       "      <td>2021-02-10</td>\n",
       "      <td>2</td>\n",
       "      <td>8</td>\n",
       "      <td>50</td>\n",
       "      <td>0</td>\n",
       "    </tr>\n",
       "    <tr>\n",
       "      <th>6504</th>\n",
       "      <td>700</td>\n",
       "      <td>Айдар</td>\n",
       "      <td>22</td>\n",
       "      <td>Омск</td>\n",
       "      <td>free</td>\n",
       "      <td>3047.379435</td>\n",
       "      <td>17.427673</td>\n",
       "      <td>2021-02-14</td>\n",
       "      <td>2</td>\n",
       "      <td>8</td>\n",
       "      <td>50</td>\n",
       "      <td>0</td>\n",
       "    </tr>\n",
       "  </tbody>\n",
       "</table>\n",
       "</div>"
      ],
      "text/plain": [
       "      user_id   name  age  city subscription_type     distance   duration  \\\n",
       "6500      700  Айдар   22  Омск              free  2515.690719  14.944286   \n",
       "6501      700  Айдар   22  Омск              free   846.932642  16.234663   \n",
       "6502      700  Айдар   22  Омск              free  4004.434142  20.016628   \n",
       "6503      700  Айдар   22  Омск              free  1205.911290   9.782872   \n",
       "6504      700  Айдар   22  Омск              free  3047.379435  17.427673   \n",
       "\n",
       "           date  month  minute_price  start_ride_price  subscription_fee  \n",
       "6500 2021-01-02      1             8                50                 0  \n",
       "6501 2021-02-01      2             8                50                 0  \n",
       "6502 2021-02-04      2             8                50                 0  \n",
       "6503 2021-02-10      2             8                50                 0  \n",
       "6504 2021-02-14      2             8                50                 0  "
      ]
     },
     "execution_count": 34,
     "metadata": {},
     "output_type": "execute_result"
    }
   ],
   "source": [
    "# создадим датасет с пользователями без подписки:\n",
    "data_free = data.query('subscription_type == \"free\"')\n",
    "\n",
    "# ознакомимся с первыми строками нового датасета:\n",
    "data_free.head()"
   ]
  },
  {
   "cell_type": "markdown",
   "id": "6f8e1f85",
   "metadata": {},
   "source": [
    "Визуализируем информацию о расстоянии и времени поездок для пользователей обеих категорий."
   ]
  },
  {
   "cell_type": "code",
   "execution_count": 35,
   "id": "1947da5d",
   "metadata": {},
   "outputs": [],
   "source": [
    "# создадим функцию, которая будет принимать датасет а возвращать гистограмму по колонке 'distance', если она есть в датасете:\n",
    "def distance_hist(df):\n",
    "    try:\n",
    "        plt.figure(figsize=(10, 5))\n",
    "        plt.hist(df['distance'], bins=70)\n",
    "        plt.grid()\n",
    "        if 'ultra' in df['subscription_type'].unique():\n",
    "            n = 'с подпиской'\n",
    "        else:\n",
    "            n = 'без подписки'\n",
    "        plt.title(f'Расстояние, которое преодолевают пользователи {n} за одну поездку')\n",
    "        plt.xlabel('Расстояние, м')\n",
    "        plt.ylabel('Количество поездок')\n",
    "        return plt.show()\n",
    "    except:\n",
    "        'Данные для постороения гистограммы не найдены.'"
   ]
  },
  {
   "cell_type": "code",
   "execution_count": 36,
   "id": "cb5c7688",
   "metadata": {},
   "outputs": [
    {
     "data": {
      "image/png": "[encoded data removed]",
      "text/plain": [
       "<Figure size 1000x500 with 1 Axes>"
      ]
     },
     "metadata": {},
     "output_type": "display_data"
    }
   ],
   "source": [
    "# Применим функцию к датасету с пользователями без подписки\n",
    "distance_hist(data_free)"
   ]
  },
  {
   "cell_type": "code",
   "execution_count": 37,
   "id": "5787280f",
   "metadata": {},
   "outputs": [
    {
     "data": {
      "image/png": "[encoded data removed]",
      "text/plain": [
       "<Figure size 1000x500 with 1 Axes>"
      ]
     },
     "metadata": {},
     "output_type": "display_data"
    }
   ],
   "source": [
    "# Применим функцию к датасету с пользователями с подпиской\n",
    "distance_hist(data_ultra)"
   ]
  },
  {
   "cell_type": "markdown",
   "id": "b63ce577",
   "metadata": {},
   "source": [
    "Пользователи без подписки в среднем проезжают примерно от 2,5 до 3,5 километров. При этом достаточно много поездок и на короткие дистанции до 1 киллометра. Пользователи с подпиской проезжают в среднем 3 - 3,2 километра, а поездок на короткие дистанции значительно меньше чем у пользователей без подписки."
   ]
  },
  {
   "cell_type": "code",
   "execution_count": 38,
   "id": "375ac439",
   "metadata": {},
   "outputs": [],
   "source": [
    "# создадим функцию, которая будет принимать датасет а возвращать гистограмму по колонке 'duration', если она есть в датасете:\n",
    "def duration_hist(df):\n",
    "    try:\n",
    "        plt.figure(figsize=(10, 5))\n",
    "        plt.hist(df['duration'], bins=50)\n",
    "        plt.grid()\n",
    "        if 'ultra' in df['subscription_type'].unique():\n",
    "            n = 'с подпиской'\n",
    "        else:\n",
    "            n = 'без подписки'\n",
    "        plt.title(f'Длительность одной поездки среди пользователей {n}')\n",
    "        plt.xlabel('Длительность, мин')\n",
    "        plt.ylabel('Количество поездок')\n",
    "        return plt.show()\n",
    "    except:\n",
    "        'Данные для постороения гистограммы не найдены.'"
   ]
  },
  {
   "cell_type": "code",
   "execution_count": 39,
   "id": "862d637d",
   "metadata": {},
   "outputs": [
    {
     "data": {
      "image/png": "[encoded data removed]",
      "text/plain": [
       "<Figure size 1000x500 with 1 Axes>"
      ]
     },
     "metadata": {},
     "output_type": "display_data"
    }
   ],
   "source": [
    "# Применим функцию к датасету с пользователями без подписки\n",
    "duration_hist(data_free)"
   ]
  },
  {
   "cell_type": "code",
   "execution_count": 40,
   "id": "9e06a215",
   "metadata": {},
   "outputs": [
    {
     "data": {
      "image/png": "[encoded data removed]",
      "text/plain": [
       "<Figure size 1000x500 with 1 Axes>"
      ]
     },
     "metadata": {},
     "output_type": "display_data"
    }
   ],
   "source": [
    "# Применим функцию к датасету с пользователями с подпиской\n",
    "duration_hist(data_ultra)"
   ]
  },
  {
   "cell_type": "markdown",
   "id": "4c80adce",
   "metadata": {},
   "source": [
    "Время поездок пользователей без подписки в среднем приходится на интервал от 13 до 21-22 минут, а время поездок пользователей с подпиской в среднем состовляет от 16 до 20 минут. Расброс значений у пользователей без подписки выше чем у пользователей с подпиской."
   ]
  },
  {
   "cell_type": "markdown",
   "id": "402d620f",
   "metadata": {},
   "source": [
    "### Подсчёт выручки"
   ]
  },
  {
   "cell_type": "markdown",
   "id": "f9ecb40e",
   "metadata": {},
   "source": [
    "Для расчета выручки найдем суммарное расстояние, количество поездок и суммарное время для каждого пользователя за каждый месяц. Помесячную выручку расчитаем по формуле: \n",
    "- стоимость старта поездки ×  количество поездок + стоимость одной минуты поездки × общая продолжительность всех поездок в минутах + стоимость подписки."
   ]
  },
  {
   "cell_type": "markdown",
   "id": "617e747b",
   "metadata": {},
   "source": [
    "Стоимость одной минуты поездки списывается как только начинается отсчет новой минуты, поэтому значения из `duration` необходимо огруглить до большего значения, например, если поездка длилась 14,32 минуты то оплата будет за 15 минут а не за 14."
   ]
  },
  {
   "cell_type": "code",
   "execution_count": 41,
   "id": "c3076de4",
   "metadata": {},
   "outputs": [],
   "source": [
    "# каждое значение из столбца duration округляем до большего значения: \n",
    "data['duration'] = np.ceil(data['duration'])"
   ]
  },
  {
   "cell_type": "code",
   "execution_count": 42,
   "id": "89191ed6",
   "metadata": {},
   "outputs": [
    {
     "name": "stdout",
     "output_type": "stream",
     "text": [
      "Количество пропущенных значений в сводной таблице 'total_income': 0\n"
     ]
    },
    {
     "data": {
      "text/html": [
       "<div>\n",
       "<style scoped>\n",
       "    .dataframe tbody tr th:only-of-type {\n",
       "        vertical-align: middle;\n",
       "    }\n",
       "\n",
       "    .dataframe tbody tr th {\n",
       "        vertical-align: top;\n",
       "    }\n",
       "\n",
       "    .dataframe thead th {\n",
       "        text-align: right;\n",
       "    }\n",
       "</style>\n",
       "<table border=\"1\" class=\"dataframe\">\n",
       "  <thead>\n",
       "    <tr style=\"text-align: right;\">\n",
       "      <th></th>\n",
       "      <th></th>\n",
       "      <th>distance</th>\n",
       "      <th>duration</th>\n",
       "      <th>name</th>\n",
       "      <th>subscription_type</th>\n",
       "    </tr>\n",
       "    <tr>\n",
       "      <th>user_id</th>\n",
       "      <th>month</th>\n",
       "      <th></th>\n",
       "      <th></th>\n",
       "      <th></th>\n",
       "      <th></th>\n",
       "    </tr>\n",
       "  </thead>\n",
       "  <tbody>\n",
       "    <tr>\n",
       "      <th rowspan=\"6\" valign=\"top\">1</th>\n",
       "      <th>1</th>\n",
       "      <td>7027.511294</td>\n",
       "      <td>42.0</td>\n",
       "      <td>2</td>\n",
       "      <td>ultra</td>\n",
       "    </tr>\n",
       "    <tr>\n",
       "      <th>4</th>\n",
       "      <td>754.159807</td>\n",
       "      <td>7.0</td>\n",
       "      <td>1</td>\n",
       "      <td>ultra</td>\n",
       "    </tr>\n",
       "    <tr>\n",
       "      <th>8</th>\n",
       "      <td>6723.470560</td>\n",
       "      <td>46.0</td>\n",
       "      <td>2</td>\n",
       "      <td>ultra</td>\n",
       "    </tr>\n",
       "    <tr>\n",
       "      <th>10</th>\n",
       "      <td>5809.911100</td>\n",
       "      <td>32.0</td>\n",
       "      <td>2</td>\n",
       "      <td>ultra</td>\n",
       "    </tr>\n",
       "    <tr>\n",
       "      <th>11</th>\n",
       "      <td>7003.499363</td>\n",
       "      <td>56.0</td>\n",
       "      <td>3</td>\n",
       "      <td>ultra</td>\n",
       "    </tr>\n",
       "    <tr>\n",
       "      <th>12</th>\n",
       "      <td>6751.629942</td>\n",
       "      <td>28.0</td>\n",
       "      <td>2</td>\n",
       "      <td>ultra</td>\n",
       "    </tr>\n",
       "    <tr>\n",
       "      <th rowspan=\"4\" valign=\"top\">2</th>\n",
       "      <th>3</th>\n",
       "      <td>10187.723006</td>\n",
       "      <td>63.0</td>\n",
       "      <td>3</td>\n",
       "      <td>ultra</td>\n",
       "    </tr>\n",
       "    <tr>\n",
       "      <th>4</th>\n",
       "      <td>6164.381824</td>\n",
       "      <td>40.0</td>\n",
       "      <td>2</td>\n",
       "      <td>ultra</td>\n",
       "    </tr>\n",
       "    <tr>\n",
       "      <th>6</th>\n",
       "      <td>3255.338202</td>\n",
       "      <td>14.0</td>\n",
       "      <td>1</td>\n",
       "      <td>ultra</td>\n",
       "    </tr>\n",
       "    <tr>\n",
       "      <th>7</th>\n",
       "      <td>6780.722964</td>\n",
       "      <td>48.0</td>\n",
       "      <td>2</td>\n",
       "      <td>ultra</td>\n",
       "    </tr>\n",
       "  </tbody>\n",
       "</table>\n",
       "</div>"
      ],
      "text/plain": [
       "                   distance  duration  name subscription_type\n",
       "user_id month                                                \n",
       "1       1       7027.511294      42.0     2             ultra\n",
       "        4        754.159807       7.0     1             ultra\n",
       "        8       6723.470560      46.0     2             ultra\n",
       "        10      5809.911100      32.0     2             ultra\n",
       "        11      7003.499363      56.0     3             ultra\n",
       "        12      6751.629942      28.0     2             ultra\n",
       "2       3      10187.723006      63.0     3             ultra\n",
       "        4       6164.381824      40.0     2             ultra\n",
       "        6       3255.338202      14.0     1             ultra\n",
       "        7       6780.722964      48.0     2             ultra"
      ]
     },
     "execution_count": 42,
     "metadata": {},
     "output_type": "execute_result"
    }
   ],
   "source": [
    "# применим pivot_table() и найдем суммарное расстояние, \n",
    "# количество поездок и суммарное время для каждого пользователя за каждый месяц.\n",
    "total_income = (\n",
    "    data.pivot_table(\n",
    "    index=['user_id', 'month'],\n",
    "    values = ['distance', 'duration', 'name', 'subscription_type'],\n",
    "    aggfunc = {\n",
    "        'distance': sum, \n",
    "        'duration' : sum, \n",
    "        'name' : len, \n",
    "        'subscription_type' : min})\n",
    ")\n",
    "\n",
    "# Ознакомимкся с результатом\n",
    "print(f\"Количество пропущенных значений в сводной таблице 'total_income': {total_income.isna().sum().sum()}\")\n",
    "total_income.head(10)"
   ]
  },
  {
   "cell_type": "code",
   "execution_count": 43,
   "id": "4a0baa45",
   "metadata": {},
   "outputs": [],
   "source": [
    "# создадим функцию для расчета выручки по поездкам пользователей за каждый месяц в зависимости от типа подписки\n",
    "def income_calculation(df):\n",
    "    if df['subscription_type'] == 'free':\n",
    "        return 50 * df['name'] + 8 *df['duration']\n",
    "    elif df['subscription_type'] == 'ultra':\n",
    "        return 6 * df['duration'] + 199"
   ]
  },
  {
   "cell_type": "code",
   "execution_count": 44,
   "id": "d7005297",
   "metadata": {},
   "outputs": [
    {
     "data": {
      "text/html": [
       "<div>\n",
       "<style scoped>\n",
       "    .dataframe tbody tr th:only-of-type {\n",
       "        vertical-align: middle;\n",
       "    }\n",
       "\n",
       "    .dataframe tbody tr th {\n",
       "        vertical-align: top;\n",
       "    }\n",
       "\n",
       "    .dataframe thead th {\n",
       "        text-align: right;\n",
       "    }\n",
       "</style>\n",
       "<table border=\"1\" class=\"dataframe\">\n",
       "  <thead>\n",
       "    <tr style=\"text-align: right;\">\n",
       "      <th></th>\n",
       "      <th></th>\n",
       "      <th>distance</th>\n",
       "      <th>duration</th>\n",
       "      <th>name</th>\n",
       "      <th>subscription_type</th>\n",
       "      <th>income</th>\n",
       "    </tr>\n",
       "    <tr>\n",
       "      <th>user_id</th>\n",
       "      <th>month</th>\n",
       "      <th></th>\n",
       "      <th></th>\n",
       "      <th></th>\n",
       "      <th></th>\n",
       "      <th></th>\n",
       "    </tr>\n",
       "  </thead>\n",
       "  <tbody>\n",
       "    <tr>\n",
       "      <th rowspan=\"5\" valign=\"top\">1</th>\n",
       "      <th>1</th>\n",
       "      <td>7027.511294</td>\n",
       "      <td>42.0</td>\n",
       "      <td>2</td>\n",
       "      <td>ultra</td>\n",
       "      <td>451.0</td>\n",
       "    </tr>\n",
       "    <tr>\n",
       "      <th>4</th>\n",
       "      <td>754.159807</td>\n",
       "      <td>7.0</td>\n",
       "      <td>1</td>\n",
       "      <td>ultra</td>\n",
       "      <td>241.0</td>\n",
       "    </tr>\n",
       "    <tr>\n",
       "      <th>8</th>\n",
       "      <td>6723.470560</td>\n",
       "      <td>46.0</td>\n",
       "      <td>2</td>\n",
       "      <td>ultra</td>\n",
       "      <td>475.0</td>\n",
       "    </tr>\n",
       "    <tr>\n",
       "      <th>10</th>\n",
       "      <td>5809.911100</td>\n",
       "      <td>32.0</td>\n",
       "      <td>2</td>\n",
       "      <td>ultra</td>\n",
       "      <td>391.0</td>\n",
       "    </tr>\n",
       "    <tr>\n",
       "      <th>11</th>\n",
       "      <td>7003.499363</td>\n",
       "      <td>56.0</td>\n",
       "      <td>3</td>\n",
       "      <td>ultra</td>\n",
       "      <td>535.0</td>\n",
       "    </tr>\n",
       "    <tr>\n",
       "      <th>...</th>\n",
       "      <th>...</th>\n",
       "      <td>...</td>\n",
       "      <td>...</td>\n",
       "      <td>...</td>\n",
       "      <td>...</td>\n",
       "      <td>...</td>\n",
       "    </tr>\n",
       "    <tr>\n",
       "      <th rowspan=\"5\" valign=\"top\">1534</th>\n",
       "      <th>6</th>\n",
       "      <td>3409.468534</td>\n",
       "      <td>26.0</td>\n",
       "      <td>2</td>\n",
       "      <td>free</td>\n",
       "      <td>308.0</td>\n",
       "    </tr>\n",
       "    <tr>\n",
       "      <th>8</th>\n",
       "      <td>7622.453034</td>\n",
       "      <td>48.0</td>\n",
       "      <td>2</td>\n",
       "      <td>free</td>\n",
       "      <td>484.0</td>\n",
       "    </tr>\n",
       "    <tr>\n",
       "      <th>9</th>\n",
       "      <td>4928.173852</td>\n",
       "      <td>23.0</td>\n",
       "      <td>1</td>\n",
       "      <td>free</td>\n",
       "      <td>234.0</td>\n",
       "    </tr>\n",
       "    <tr>\n",
       "      <th>11</th>\n",
       "      <td>13350.015305</td>\n",
       "      <td>78.0</td>\n",
       "      <td>4</td>\n",
       "      <td>free</td>\n",
       "      <td>824.0</td>\n",
       "    </tr>\n",
       "    <tr>\n",
       "      <th>12</th>\n",
       "      <td>2371.711192</td>\n",
       "      <td>16.0</td>\n",
       "      <td>1</td>\n",
       "      <td>free</td>\n",
       "      <td>178.0</td>\n",
       "    </tr>\n",
       "  </tbody>\n",
       "</table>\n",
       "<p>11331 rows × 5 columns</p>\n",
       "</div>"
      ],
      "text/plain": [
       "                   distance  duration  name subscription_type  income\n",
       "user_id month                                                        \n",
       "1       1       7027.511294      42.0     2             ultra   451.0\n",
       "        4        754.159807       7.0     1             ultra   241.0\n",
       "        8       6723.470560      46.0     2             ultra   475.0\n",
       "        10      5809.911100      32.0     2             ultra   391.0\n",
       "        11      7003.499363      56.0     3             ultra   535.0\n",
       "...                     ...       ...   ...               ...     ...\n",
       "1534    6       3409.468534      26.0     2              free   308.0\n",
       "        8       7622.453034      48.0     2              free   484.0\n",
       "        9       4928.173852      23.0     1              free   234.0\n",
       "        11     13350.015305      78.0     4              free   824.0\n",
       "        12      2371.711192      16.0     1              free   178.0\n",
       "\n",
       "[11331 rows x 5 columns]"
      ]
     },
     "execution_count": 44,
     "metadata": {},
     "output_type": "execute_result"
    }
   ],
   "source": [
    "# создадим новый параметр \"прибыль\" и применим к нему гашу функцию\n",
    "total_income['income'] = total_income.apply(income_calculation, axis=1)\n",
    "\n",
    "# ознакомимся с результатом\n",
    "total_income"
   ]
  },
  {
   "cell_type": "markdown",
   "id": "782abbd3",
   "metadata": {},
   "source": [
    "### Результаты исследовательского анализа данных\n",
    "\n",
    "- Больше всего пользователей в городе Пятигорск - 219 пользователей\n",
    "- При этом пользователи распределены по городам равномерно, нет городов, в которых слишком мало или слишком много пользователей\n",
    "- Пользователей без подписки оказалось больше чем пользователей с подпиской, при этом разница составляет ~ 10%\n",
    "- Средний возраст пользователей 25 лет\n",
    "- Поездки по расстоянию выделяются на уровне ~ 700 метров в меньшей степени (короткие поездки) и в значительно большей степени на уровене в ~ 3100 - 3200 метров (среднее значения расстояния)\n",
    "- Средняя длительность поездок составляет 15 - 20 минут\n",
    "- Была рассчитана помесячная выручка, которую принёс каждый пользователь"
   ]
  },
  {
   "cell_type": "markdown",
   "id": "41545ac0",
   "metadata": {},
   "source": [
    "## Проверка гипотез"
   ]
  },
  {
   "cell_type": "markdown",
   "id": "5fb45a32",
   "metadata": {},
   "source": [
    "### Тратят ли пользователи с подпиской больше времени на поездки чем пользователи без подписки?\n",
    "\n",
    "Если да, то пользователи с подпиской могут быть «выгоднее» для компании. Проверим гипотезу. Для этого сформулируем нулевую (**H_0**) и альтернативную гипотезу(**H_1**):\n",
    "- **H_0**: Пользователи с подпиской тратят время на поездки также как и пользователи без подписки\n",
    "- **H_1**: Пользователи с подпиской трятят больше времени на поездки чем пользователи без подписки\n",
    "\n",
    "Статистическая значимость - 5%"
   ]
  },
  {
   "cell_type": "code",
   "execution_count": 45,
   "id": "99969efa",
   "metadata": {},
   "outputs": [
    {
     "name": "stdout",
     "output_type": "stream",
     "text": [
      "p-значение: 1.2804098316645613e-34\n",
      "Отвергаем нулевую гипотезу\n"
     ]
    }
   ],
   "source": [
    "# Проверим одностороннюю гипотезу с помощью готового метода библиотеки SciPy\n",
    "alpha = 0.05\n",
    "results = st.ttest_ind(\n",
    "    data_ultra['duration'], \n",
    "    data_free['duration'],\n",
    "    alternative = 'greater',\n",
    "    nan_policy='omit'\n",
    ")\n",
    "\n",
    "print('p-значение:', results.pvalue)\n",
    "\n",
    "if results.pvalue < alpha:\n",
    "    print('Отвергаем нулевую гипотезу')\n",
    "else:\n",
    "    print('Не получилось отвергнуть нулевую гипотезу')"
   ]
  },
  {
   "cell_type": "markdown",
   "id": "16f657f1",
   "metadata": {},
   "source": [
    "По результатам преверки нулевая гипотеза была отвергнута, что дает нам основание говорить о том что пользователи с подпиской действительно трятят больше времени на поездки чем пользователи без подписки."
   ]
  },
  {
   "cell_type": "markdown",
   "id": "3fb01110",
   "metadata": {},
   "source": [
    "### Можно ли сказать, что среднее расстояние, которое проезжают пользователи с подпиской за одну поездку, не превышает 3130 метров?\n",
    "\n",
    "Расстояние одной поездки в 3130 метров — оптимальное с точки зрения износа самоката. Проверим гипотезу. Для этого сформулируем нулевую (**H_0**) и альтернативную гипотезу(**H_1**):\n",
    "- **H_0**: Пользователи с подпиской в среднем проезжают 3130 метров\n",
    "- **H_1**: Пользователи с подпиской в среднем проезжают более 3130 метров\n",
    "\n",
    "Статистическая значимость - 5%"
   ]
  },
  {
   "cell_type": "code",
   "execution_count": 46,
   "id": "91dbaa0f",
   "metadata": {},
   "outputs": [
    {
     "name": "stdout",
     "output_type": "stream",
     "text": [
      "p-значение: 0.9195368847849785\n",
      "Не получилось отвергнуть нулевую гипотезу\n"
     ]
    }
   ],
   "source": [
    "# Проверим одностороннюю гипотезу с помощью готового метода библиотеки SciPy\n",
    "alpha = 0.05\n",
    "interested_value = 3130\n",
    "results = st.ttest_1samp(\n",
    "    data_ultra['distance'], \n",
    "    interested_value,\n",
    "    alternative = 'greater'\n",
    ")\n",
    "\n",
    "print('p-значение:', results.pvalue)\n",
    "\n",
    "if results.pvalue < alpha:\n",
    "    print('Отвергаем нулевую гипотезу')\n",
    "else:\n",
    "    print('Не получилось отвергнуть нулевую гипотезу')"
   ]
  },
  {
   "cell_type": "markdown",
   "id": "66c0b784",
   "metadata": {},
   "source": [
    "По результатам преверки нулевая гипотеза не была отвергнута, поэтому у нас нет основания говорить о том что пользователи с подпиской действительно в среднем проезжают более 3130 метров за одну поездку."
   ]
  },
  {
   "cell_type": "markdown",
   "id": "733945e4",
   "metadata": {},
   "source": [
    "### Помесячная выручка от пользователей с подпиской по месяцам выше, чем выручка от пользователей без подписки?\n",
    "\n",
    "Проверим гипотезу. Для этого сформулируем нулевую (**H_0**) и альтернативную гипотезу(**H_1**):\n",
    "- **H_0**: Помесячная выручка от пользователей с подпиской равна помесячной выручке от пользователей без подписки\n",
    "- **H_1**: Помесячная выручка от пользователей с подпиской больше помесячной выручки от пользователей без подписки\n",
    "\n",
    "Статистическая значимость - 5%"
   ]
  },
  {
   "cell_type": "code",
   "execution_count": 47,
   "id": "95cd1d51",
   "metadata": {},
   "outputs": [
    {
     "name": "stdout",
     "output_type": "stream",
     "text": [
      "p-значение: 1.8850394384715216e-31\n",
      "Отвергаем нулевую гипотезу\n"
     ]
    }
   ],
   "source": [
    "# Проверим одностороннюю гипотезу с помощью готового метода библиотеки SciPy\n",
    "total_income_ultra = total_income.query('subscription_type == \"ultra\"')\n",
    "total_income_free = total_income.query('subscription_type == \"free\"')\n",
    "alpha = 0.05\n",
    "results = st.ttest_ind(\n",
    "    total_income_ultra['income'], \n",
    "    total_income_free['income'],\n",
    "    alternative = 'greater'\n",
    ")\n",
    "\n",
    "print('p-значение:', results.pvalue)\n",
    "\n",
    "if results.pvalue < alpha:\n",
    "    print('Отвергаем нулевую гипотезу')\n",
    "else:\n",
    "    print('Не получилось отвергнуть нулевую гипотезу')"
   ]
  },
  {
   "cell_type": "markdown",
   "id": "ac3646cb",
   "metadata": {},
   "source": [
    "По результатам преверки нулевая гипотеза была отвергнута, что дает нам основание говорить о том что помесячная выручка от пользователей с подпиской действительно больше помесячной выручки от пользователей без подписки."
   ]
  },
  {
   "cell_type": "markdown",
   "id": "5a59b54c",
   "metadata": {},
   "source": [
    "**Техническая команда сервиса обновила сервера, с которыми взаимодействует мобильное приложение. Она надеется, что из-за этого количество обращений в техподдержку значимо снизилось. Некоторый файл содержит для каждого пользователя данные о количестве обращений до обновления и после него. Какой тест вам понадобился бы для проверки этой гипотезы?**\n",
    "\n",
    "В этом примере необходимо сформулировать следующие нулевую и альтернативную гипотезу:\n",
    "\n",
    "- **H_0**: Количество обращений в техподдержку не изменилось после обновления сервера (=)\n",
    "- **H_1**: Количество обращений в техподдержку значимо снизилось после обновления сервера (<)\n",
    "\n",
    "А для проверки используем готовый метод библиотеки SciPy `scipy.stats.ttest_rel()` с параметром `alternative = 'less'`. Этот метод подходит для проверки гипотез о равенстве среднего генеральной совокупности для зависимых (парных) выборок, как в нашем примере, до и после изменений."
   ]
  },
  {
   "cell_type": "markdown",
   "id": "445adce1",
   "metadata": {},
   "source": [
    "## Общие выводы\n",
    "\n",
    "Были проанализированы данные о некоторых пользователях из нескольких городов, а также об их поездках в рамках сервиса аренды самокатов GoFast и были получены следующие результаты:\n",
    "\n",
    "- Больше всего пользователей в городе Пятигорск - 219 пользователей\n",
    "- При этом пользователи распределены по городам равномерно, нет городов, в которых слишком мало или слишком много пользователей\n",
    "- Пользователей без подписки оказалось больше чем пользователей с подпиской, при этом разница составляет ~ 10%\n",
    "- Основная часть пользователей возрастом от 22 до 28 лет\n",
    "- Поездки по расстоянию выделяются на уровне ~ до 1500 метров в меньшей степени (короткие поездки) и в значительно большей степени на уровене в ~ 2500 - 3800 метров (среднее значения расстояния)\n",
    "- Средняя длительность поездок составляет 15 - 20 минут\n",
    "- Была рассчитана помесячная выручка, которую принёс каждый пользователь\n",
    "\n",
    "\n",
    "- Проверены несколько гипотез, которые могут помочь бизнесу вырасти:\n",
    "  - **Тратят ли пользователи с подпиской больше времени на поездки чем пользователи без подписки?**\n",
    "    - Есть основание говорить о том что пользователи с подпиской действительно трятят больше времени на поездки чем пользователи без подписки\n",
    "  - **Расстояние одной поездки в 3130 метров — оптимальное с точки зрения износа самоката. Можно ли сказать, что среднее расстояние, которое проезжают пользователи с подпиской за одну поездку, не превышает 3130 метров?**\n",
    "    - Оснований говорить о том что пользователи с подпиской действительно в среднем проезжают более 3130 метров за одну поездку нет\n",
    "  - **Помесячная выручка от пользователей с подпиской по месяцам выше, чем выручка от пользователей без подписки?**\n",
    "    - Есть основание говорить о том что помесячная выручка от пользователей с подпиской действительно больше помесячной выручки от пользователей без подписки\n",
    "    \n",
    "**Рекомендации:**\n",
    "\n",
    "Пользователей с подпиской немного меньше, тем не менее у компании-прокатчика есть неплохая база постоянных клиентов (45.57% из всех пользователей - это пользователи с подпиской) при этом как показало исследование: пользователи с подпиской приносят компании больше прибыли. Поэтому есть основания для рекомндации проведения маркетинговых акций, которые приведут к увеличению количества пользователей с подпиской."
   ]
  }
 ],
 "metadata": {
  "ExecuteTimeLog": [
   {
    "duration": 439,
    "start_time": "2023-12-18T08:33:21.721Z"
   },
   {
    "duration": 57,
    "start_time": "2023-12-18T15:00:35.462Z"
   },
   {
    "duration": 430,
    "start_time": "2023-12-18T15:00:41.692Z"
   },
   {
    "duration": 196,
    "start_time": "2023-12-18T15:00:43.871Z"
   },
   {
    "duration": 15,
    "start_time": "2023-12-18T15:01:06.855Z"
   },
   {
    "duration": 9,
    "start_time": "2023-12-18T15:01:23.549Z"
   },
   {
    "duration": 8,
    "start_time": "2023-12-18T15:01:38.378Z"
   },
   {
    "duration": 2,
    "start_time": "2023-12-18T15:04:27.187Z"
   },
   {
    "duration": 15,
    "start_time": "2023-12-18T15:04:39.362Z"
   },
   {
    "duration": 3,
    "start_time": "2023-12-18T15:05:17.079Z"
   },
   {
    "duration": 40,
    "start_time": "2023-12-18T15:05:20.670Z"
   },
   {
    "duration": 72,
    "start_time": "2023-12-18T15:08:07.960Z"
   },
   {
    "duration": 19,
    "start_time": "2023-12-18T15:08:14.830Z"
   },
   {
    "duration": 81,
    "start_time": "2023-12-18T15:08:23.579Z"
   },
   {
    "duration": 110,
    "start_time": "2023-12-18T15:08:30.439Z"
   },
   {
    "duration": 2,
    "start_time": "2023-12-18T15:09:07.572Z"
   },
   {
    "duration": 18,
    "start_time": "2023-12-18T15:09:08.924Z"
   },
   {
    "duration": 17,
    "start_time": "2023-12-18T15:09:11.498Z"
   },
   {
    "duration": 3,
    "start_time": "2023-12-18T15:09:13.968Z"
   },
   {
    "duration": 17,
    "start_time": "2023-12-18T15:09:15.808Z"
   },
   {
    "duration": 17,
    "start_time": "2023-12-18T15:09:22.243Z"
   },
   {
    "duration": 85,
    "start_time": "2023-12-18T15:09:24.357Z"
   },
   {
    "duration": 3,
    "start_time": "2023-12-18T15:09:32.668Z"
   },
   {
    "duration": 14,
    "start_time": "2023-12-18T15:09:34.414Z"
   },
   {
    "duration": 4,
    "start_time": "2023-12-18T15:11:25.428Z"
   },
   {
    "duration": 14,
    "start_time": "2023-12-18T15:11:27.195Z"
   },
   {
    "duration": 3,
    "start_time": "2023-12-18T15:11:41.973Z"
   },
   {
    "duration": 14,
    "start_time": "2023-12-18T15:11:43.322Z"
   },
   {
    "duration": 3,
    "start_time": "2023-12-18T15:11:54.866Z"
   },
   {
    "duration": 14,
    "start_time": "2023-12-18T15:11:57.386Z"
   },
   {
    "duration": 3,
    "start_time": "2023-12-18T15:15:37.602Z"
   },
   {
    "duration": 13,
    "start_time": "2023-12-18T15:15:39.371Z"
   },
   {
    "duration": 3,
    "start_time": "2023-12-18T15:20:03.454Z"
   },
   {
    "duration": 17,
    "start_time": "2023-12-18T15:20:05.934Z"
   },
   {
    "duration": 16,
    "start_time": "2023-12-18T15:21:33.933Z"
   },
   {
    "duration": 7,
    "start_time": "2023-12-18T15:30:05.474Z"
   },
   {
    "duration": 20,
    "start_time": "2023-12-18T15:30:46.710Z"
   },
   {
    "duration": 24,
    "start_time": "2023-12-18T16:05:34.296Z"
   },
   {
    "duration": 932,
    "start_time": "2023-12-18T16:11:20.866Z"
   },
   {
    "duration": 18,
    "start_time": "2023-12-18T16:11:41.165Z"
   },
   {
    "duration": 20,
    "start_time": "2023-12-18T16:11:53.468Z"
   },
   {
    "duration": 6,
    "start_time": "2023-12-18T16:25:22.198Z"
   },
   {
    "duration": 6,
    "start_time": "2023-12-18T16:25:47.629Z"
   },
   {
    "duration": 7,
    "start_time": "2023-12-18T16:25:53.455Z"
   },
   {
    "duration": 8,
    "start_time": "2023-12-18T16:34:54.505Z"
   },
   {
    "duration": 10,
    "start_time": "2023-12-18T16:36:25.879Z"
   },
   {
    "duration": 430,
    "start_time": "2023-12-18T16:38:37.227Z"
   },
   {
    "duration": 69,
    "start_time": "2023-12-18T16:38:37.659Z"
   },
   {
    "duration": 25,
    "start_time": "2023-12-18T16:38:37.729Z"
   },
   {
    "duration": 39,
    "start_time": "2023-12-18T16:38:37.755Z"
   },
   {
    "duration": 15,
    "start_time": "2023-12-18T16:38:37.796Z"
   },
   {
    "duration": 62,
    "start_time": "2023-12-18T16:38:37.812Z"
   },
   {
    "duration": 12,
    "start_time": "2023-12-18T16:38:37.876Z"
   },
   {
    "duration": 14,
    "start_time": "2023-12-18T16:38:37.889Z"
   },
   {
    "duration": 28,
    "start_time": "2023-12-18T16:38:37.904Z"
   },
   {
    "duration": 6,
    "start_time": "2023-12-18T16:44:42.133Z"
   },
   {
    "duration": 6,
    "start_time": "2023-12-18T16:45:13.074Z"
   },
   {
    "duration": 5,
    "start_time": "2023-12-18T16:45:32.893Z"
   },
   {
    "duration": 5,
    "start_time": "2023-12-18T16:45:51.972Z"
   },
   {
    "duration": 5,
    "start_time": "2023-12-18T16:48:19.042Z"
   },
   {
    "duration": 6,
    "start_time": "2023-12-18T17:06:05.111Z"
   },
   {
    "duration": 9,
    "start_time": "2023-12-18T17:06:19.515Z"
   },
   {
    "duration": 5,
    "start_time": "2023-12-18T17:06:21.872Z"
   },
   {
    "duration": 10,
    "start_time": "2023-12-18T17:06:30.907Z"
   },
   {
    "duration": 52,
    "start_time": "2023-12-18T17:06:56.273Z"
   },
   {
    "duration": 5,
    "start_time": "2023-12-18T17:23:00.080Z"
   },
   {
    "duration": 6,
    "start_time": "2023-12-18T17:23:03.620Z"
   },
   {
    "duration": 5,
    "start_time": "2023-12-18T17:23:27.470Z"
   },
   {
    "duration": 4,
    "start_time": "2023-12-18T17:23:29.130Z"
   },
   {
    "duration": 5,
    "start_time": "2023-12-18T17:23:54.366Z"
   },
   {
    "duration": 4,
    "start_time": "2023-12-18T17:23:56.326Z"
   },
   {
    "duration": 4,
    "start_time": "2023-12-18T17:24:02.130Z"
   },
   {
    "duration": 5,
    "start_time": "2023-12-18T17:24:03.400Z"
   },
   {
    "duration": 6,
    "start_time": "2023-12-18T17:24:43.152Z"
   },
   {
    "duration": 5,
    "start_time": "2023-12-18T17:24:45.049Z"
   },
   {
    "duration": 5,
    "start_time": "2023-12-18T17:24:54.900Z"
   },
   {
    "duration": 6,
    "start_time": "2023-12-18T17:24:56.120Z"
   },
   {
    "duration": 4,
    "start_time": "2023-12-18T17:25:01.668Z"
   },
   {
    "duration": 5,
    "start_time": "2023-12-18T17:25:03.297Z"
   },
   {
    "duration": 5,
    "start_time": "2023-12-18T17:25:16.131Z"
   },
   {
    "duration": 4,
    "start_time": "2023-12-18T17:25:37.483Z"
   },
   {
    "duration": 4,
    "start_time": "2023-12-18T17:25:44.104Z"
   },
   {
    "duration": 7,
    "start_time": "2023-12-18T17:26:31.416Z"
   },
   {
    "duration": 8,
    "start_time": "2023-12-18T17:29:55.542Z"
   },
   {
    "duration": 6,
    "start_time": "2023-12-18T17:32:02.646Z"
   },
   {
    "duration": 5,
    "start_time": "2023-12-18T17:34:17.132Z"
   },
   {
    "duration": 70,
    "start_time": "2023-12-18T17:34:23.004Z"
   },
   {
    "duration": 9,
    "start_time": "2023-12-18T17:34:27.472Z"
   },
   {
    "duration": 5,
    "start_time": "2023-12-18T17:34:45.777Z"
   },
   {
    "duration": 5,
    "start_time": "2023-12-18T17:34:56.045Z"
   },
   {
    "duration": 11,
    "start_time": "2023-12-18T17:36:05.063Z"
   },
   {
    "duration": 7,
    "start_time": "2023-12-18T17:36:11.484Z"
   },
   {
    "duration": 1433,
    "start_time": "2023-12-18T17:37:38.186Z"
   },
   {
    "duration": 4,
    "start_time": "2023-12-18T17:37:57.272Z"
   },
   {
    "duration": 6,
    "start_time": "2023-12-18T17:38:02.245Z"
   },
   {
    "duration": 4,
    "start_time": "2023-12-18T17:38:33.751Z"
   },
   {
    "duration": 10,
    "start_time": "2023-12-18T17:41:05.910Z"
   },
   {
    "duration": 6,
    "start_time": "2023-12-18T17:41:09.392Z"
   },
   {
    "duration": 9,
    "start_time": "2023-12-18T17:41:29.276Z"
   },
   {
    "duration": 6,
    "start_time": "2023-12-18T17:41:31.063Z"
   },
   {
    "duration": 14,
    "start_time": "2023-12-18T17:42:27.242Z"
   },
   {
    "duration": 10,
    "start_time": "2023-12-18T17:42:52.777Z"
   },
   {
    "duration": 7,
    "start_time": "2023-12-18T17:42:54.891Z"
   },
   {
    "duration": 10,
    "start_time": "2023-12-18T17:43:42.415Z"
   },
   {
    "duration": 7,
    "start_time": "2023-12-18T17:43:44.411Z"
   },
   {
    "duration": 10,
    "start_time": "2023-12-18T17:44:05.946Z"
   },
   {
    "duration": 7,
    "start_time": "2023-12-18T17:44:14.639Z"
   },
   {
    "duration": 10,
    "start_time": "2023-12-18T17:44:17.886Z"
   },
   {
    "duration": 139,
    "start_time": "2023-12-18T17:45:28.582Z"
   },
   {
    "duration": 7,
    "start_time": "2023-12-18T17:45:58.764Z"
   },
   {
    "duration": 8,
    "start_time": "2023-12-18T17:46:04.294Z"
   },
   {
    "duration": 9,
    "start_time": "2023-12-18T17:47:13.203Z"
   },
   {
    "duration": 16,
    "start_time": "2023-12-18T17:47:50.676Z"
   },
   {
    "duration": 10,
    "start_time": "2023-12-18T17:48:07.959Z"
   },
   {
    "duration": 10,
    "start_time": "2023-12-18T17:48:30.067Z"
   },
   {
    "duration": 3,
    "start_time": "2023-12-18T17:48:34.096Z"
   },
   {
    "duration": 2,
    "start_time": "2023-12-18T17:48:35.974Z"
   },
   {
    "duration": 404,
    "start_time": "2023-12-18T17:48:45.444Z"
   },
   {
    "duration": 69,
    "start_time": "2023-12-18T17:48:45.850Z"
   },
   {
    "duration": 25,
    "start_time": "2023-12-18T17:48:45.920Z"
   },
   {
    "duration": 19,
    "start_time": "2023-12-18T17:48:45.946Z"
   },
   {
    "duration": 21,
    "start_time": "2023-12-18T17:48:45.967Z"
   },
   {
    "duration": 33,
    "start_time": "2023-12-18T17:48:45.989Z"
   },
   {
    "duration": 6,
    "start_time": "2023-12-18T17:48:46.024Z"
   },
   {
    "duration": 20,
    "start_time": "2023-12-18T17:48:46.031Z"
   },
   {
    "duration": 6,
    "start_time": "2023-12-18T17:48:46.053Z"
   },
   {
    "duration": 14,
    "start_time": "2023-12-18T17:48:46.060Z"
   },
   {
    "duration": 12,
    "start_time": "2023-12-18T17:48:46.075Z"
   },
   {
    "duration": 14,
    "start_time": "2023-12-18T17:48:46.089Z"
   },
   {
    "duration": 26,
    "start_time": "2023-12-18T17:48:46.104Z"
   },
   {
    "duration": 12,
    "start_time": "2023-12-18T17:48:46.133Z"
   },
   {
    "duration": 3,
    "start_time": "2023-12-18T17:48:46.147Z"
   },
   {
    "duration": 2,
    "start_time": "2023-12-18T17:48:59.439Z"
   },
   {
    "duration": 3,
    "start_time": "2023-12-18T17:49:11.011Z"
   },
   {
    "duration": 9,
    "start_time": "2023-12-18T17:49:20.322Z"
   },
   {
    "duration": 5,
    "start_time": "2023-12-18T17:49:22.005Z"
   },
   {
    "duration": 10,
    "start_time": "2023-12-18T17:49:38.491Z"
   },
   {
    "duration": 7,
    "start_time": "2023-12-18T17:49:41.564Z"
   },
   {
    "duration": 11,
    "start_time": "2023-12-18T17:51:49.531Z"
   },
   {
    "duration": 5,
    "start_time": "2023-12-18T17:57:39.049Z"
   },
   {
    "duration": 9,
    "start_time": "2023-12-18T17:57:46.017Z"
   },
   {
    "duration": 79,
    "start_time": "2023-12-18T18:00:32.323Z"
   },
   {
    "duration": 19,
    "start_time": "2023-12-18T18:01:06.141Z"
   },
   {
    "duration": 20,
    "start_time": "2023-12-18T18:01:34.458Z"
   },
   {
    "duration": 25,
    "start_time": "2023-12-18T18:01:59.722Z"
   },
   {
    "duration": 12,
    "start_time": "2023-12-18T18:02:29.383Z"
   },
   {
    "duration": 9,
    "start_time": "2023-12-18T18:02:31.319Z"
   },
   {
    "duration": 13,
    "start_time": "2023-12-18T18:03:15.628Z"
   },
   {
    "duration": 8,
    "start_time": "2023-12-18T18:03:17.595Z"
   },
   {
    "duration": 11,
    "start_time": "2023-12-18T18:04:15.558Z"
   },
   {
    "duration": 18,
    "start_time": "2023-12-18T18:04:54.879Z"
   },
   {
    "duration": 19,
    "start_time": "2023-12-18T18:05:42.770Z"
   },
   {
    "duration": 4,
    "start_time": "2023-12-18T18:06:15.730Z"
   },
   {
    "duration": 250,
    "start_time": "2023-12-18T18:16:36.479Z"
   },
   {
    "duration": 136,
    "start_time": "2023-12-18T18:17:00.892Z"
   },
   {
    "duration": 121,
    "start_time": "2023-12-18T18:17:15.392Z"
   },
   {
    "duration": 74,
    "start_time": "2023-12-18T18:17:30.320Z"
   },
   {
    "duration": 107,
    "start_time": "2023-12-18T18:18:30.336Z"
   },
   {
    "duration": 107,
    "start_time": "2023-12-18T18:18:47.754Z"
   },
   {
    "duration": 9,
    "start_time": "2023-12-18T18:20:16.971Z"
   },
   {
    "duration": 167,
    "start_time": "2023-12-18T18:20:27.820Z"
   },
   {
    "duration": 79,
    "start_time": "2023-12-18T18:26:00.661Z"
   },
   {
    "duration": 8,
    "start_time": "2023-12-18T18:26:24.925Z"
   },
   {
    "duration": 74,
    "start_time": "2023-12-18T18:26:44.081Z"
   },
   {
    "duration": 79,
    "start_time": "2023-12-18T18:26:54.681Z"
   },
   {
    "duration": 85,
    "start_time": "2023-12-18T18:27:01.300Z"
   },
   {
    "duration": 109,
    "start_time": "2023-12-18T18:27:09.343Z"
   },
   {
    "duration": 102,
    "start_time": "2023-12-18T18:28:12.228Z"
   },
   {
    "duration": 130,
    "start_time": "2023-12-18T18:28:18.177Z"
   },
   {
    "duration": 133,
    "start_time": "2023-12-18T18:28:36.506Z"
   },
   {
    "duration": 4,
    "start_time": "2023-12-18T18:29:07.778Z"
   },
   {
    "duration": 134,
    "start_time": "2023-12-18T18:29:19.241Z"
   },
   {
    "duration": 128,
    "start_time": "2023-12-18T18:29:27.874Z"
   },
   {
    "duration": 213,
    "start_time": "2023-12-18T18:30:58.397Z"
   },
   {
    "duration": 130,
    "start_time": "2023-12-18T18:31:04.099Z"
   },
   {
    "duration": 157,
    "start_time": "2023-12-18T18:33:37.489Z"
   },
   {
    "duration": 10,
    "start_time": "2023-12-18T18:33:55.996Z"
   },
   {
    "duration": 147,
    "start_time": "2023-12-18T18:34:02.248Z"
   },
   {
    "duration": 184,
    "start_time": "2023-12-18T18:35:11.207Z"
   },
   {
    "duration": 146,
    "start_time": "2023-12-18T18:35:35.970Z"
   },
   {
    "duration": 150,
    "start_time": "2023-12-18T18:35:42.477Z"
   },
   {
    "duration": 10,
    "start_time": "2023-12-18T18:37:24.786Z"
   },
   {
    "duration": 139,
    "start_time": "2023-12-18T18:38:24.525Z"
   },
   {
    "duration": 135,
    "start_time": "2023-12-18T18:38:40.059Z"
   },
   {
    "duration": 170,
    "start_time": "2023-12-18T18:38:56.267Z"
   },
   {
    "duration": 160,
    "start_time": "2023-12-18T18:39:17.622Z"
   },
   {
    "duration": 232,
    "start_time": "2023-12-18T18:46:49.101Z"
   },
   {
    "duration": 163,
    "start_time": "2023-12-18T18:46:53.599Z"
   },
   {
    "duration": 830,
    "start_time": "2023-12-18T18:47:04.539Z"
   },
   {
    "duration": 157,
    "start_time": "2023-12-18T18:47:10.220Z"
   },
   {
    "duration": 169,
    "start_time": "2023-12-18T18:48:57.482Z"
   },
   {
    "duration": 145,
    "start_time": "2023-12-18T18:50:49.574Z"
   },
   {
    "duration": 167,
    "start_time": "2023-12-18T18:51:05.087Z"
   },
   {
    "duration": 157,
    "start_time": "2023-12-18T18:55:05.163Z"
   },
   {
    "duration": 86,
    "start_time": "2023-12-18T18:55:19.165Z"
   },
   {
    "duration": 149,
    "start_time": "2023-12-18T18:55:27.145Z"
   },
   {
    "duration": 511,
    "start_time": "2023-12-18T18:55:32.520Z"
   },
   {
    "duration": 170,
    "start_time": "2023-12-18T18:55:38.615Z"
   },
   {
    "duration": 245,
    "start_time": "2023-12-18T18:58:13.170Z"
   },
   {
    "duration": 170,
    "start_time": "2023-12-18T18:59:03.467Z"
   },
   {
    "duration": 81,
    "start_time": "2023-12-18T18:59:15.241Z"
   },
   {
    "duration": 169,
    "start_time": "2023-12-18T18:59:20.804Z"
   },
   {
    "duration": 168,
    "start_time": "2023-12-18T19:09:33.091Z"
   },
   {
    "duration": 11,
    "start_time": "2023-12-18T19:14:14.306Z"
   },
   {
    "duration": 10,
    "start_time": "2023-12-18T19:14:53.250Z"
   },
   {
    "duration": 138,
    "start_time": "2023-12-18T19:15:01.789Z"
   },
   {
    "duration": 173,
    "start_time": "2023-12-18T19:16:13.798Z"
   },
   {
    "duration": 171,
    "start_time": "2023-12-18T19:19:06.401Z"
   },
   {
    "duration": 165,
    "start_time": "2023-12-18T19:20:10.948Z"
   },
   {
    "duration": 170,
    "start_time": "2023-12-18T19:21:06.084Z"
   },
   {
    "duration": 154,
    "start_time": "2023-12-18T19:21:22.926Z"
   },
   {
    "duration": 145,
    "start_time": "2023-12-18T19:21:32.357Z"
   },
   {
    "duration": 245,
    "start_time": "2023-12-18T19:21:36.206Z"
   },
   {
    "duration": 175,
    "start_time": "2023-12-18T19:22:19.014Z"
   },
   {
    "duration": 175,
    "start_time": "2023-12-18T19:22:28.885Z"
   },
   {
    "duration": 163,
    "start_time": "2023-12-18T19:22:36.786Z"
   },
   {
    "duration": 166,
    "start_time": "2023-12-18T19:22:51.149Z"
   },
   {
    "duration": 194,
    "start_time": "2023-12-18T19:23:50.580Z"
   },
   {
    "duration": 176,
    "start_time": "2023-12-18T19:24:05.354Z"
   },
   {
    "duration": 171,
    "start_time": "2023-12-18T19:24:55.807Z"
   },
   {
    "duration": 170,
    "start_time": "2023-12-18T19:28:59.622Z"
   },
   {
    "duration": 169,
    "start_time": "2023-12-18T19:29:04.176Z"
   },
   {
    "duration": 181,
    "start_time": "2023-12-18T19:29:49.651Z"
   },
   {
    "duration": 239,
    "start_time": "2023-12-18T19:30:00.780Z"
   },
   {
    "duration": 130,
    "start_time": "2023-12-18T19:47:29.079Z"
   },
   {
    "duration": 140,
    "start_time": "2023-12-18T20:50:39.712Z"
   },
   {
    "duration": 171,
    "start_time": "2023-12-18T20:50:48.022Z"
   },
   {
    "duration": 10,
    "start_time": "2023-12-18T21:00:53.298Z"
   },
   {
    "duration": 14,
    "start_time": "2023-12-18T21:00:58.161Z"
   },
   {
    "duration": 11,
    "start_time": "2023-12-18T21:02:11.864Z"
   },
   {
    "duration": 17,
    "start_time": "2023-12-18T21:02:15.950Z"
   },
   {
    "duration": 113,
    "start_time": "2023-12-18T21:03:28.811Z"
   },
   {
    "duration": 13,
    "start_time": "2023-12-18T21:06:45.834Z"
   },
   {
    "duration": 116,
    "start_time": "2023-12-18T21:06:48.863Z"
   },
   {
    "duration": 18,
    "start_time": "2023-12-18T21:09:44.369Z"
   },
   {
    "duration": 73,
    "start_time": "2023-12-18T21:11:09.272Z"
   },
   {
    "duration": 135,
    "start_time": "2023-12-18T21:11:14.008Z"
   },
   {
    "duration": 143,
    "start_time": "2023-12-18T21:11:40.965Z"
   },
   {
    "duration": 120,
    "start_time": "2023-12-18T21:12:02.617Z"
   },
   {
    "duration": 127,
    "start_time": "2023-12-18T21:12:29.157Z"
   },
   {
    "duration": 121,
    "start_time": "2023-12-18T21:13:20.424Z"
   },
   {
    "duration": 185,
    "start_time": "2023-12-18T21:14:56.400Z"
   },
   {
    "duration": 113,
    "start_time": "2023-12-18T21:15:04.532Z"
   },
   {
    "duration": 112,
    "start_time": "2023-12-18T21:15:39.882Z"
   },
   {
    "duration": 116,
    "start_time": "2023-12-18T21:15:58.850Z"
   },
   {
    "duration": 113,
    "start_time": "2023-12-18T21:16:54.609Z"
   },
   {
    "duration": 111,
    "start_time": "2023-12-18T21:17:24.977Z"
   },
   {
    "duration": 113,
    "start_time": "2023-12-18T21:17:36.127Z"
   },
   {
    "duration": 113,
    "start_time": "2023-12-18T21:17:58.728Z"
   },
   {
    "duration": 115,
    "start_time": "2023-12-18T21:18:21.820Z"
   },
   {
    "duration": 117,
    "start_time": "2023-12-18T21:19:21.137Z"
   },
   {
    "duration": 121,
    "start_time": "2023-12-18T21:19:40.750Z"
   },
   {
    "duration": 117,
    "start_time": "2023-12-18T21:19:58.927Z"
   },
   {
    "duration": 179,
    "start_time": "2023-12-18T21:20:32.080Z"
   },
   {
    "duration": 111,
    "start_time": "2023-12-18T21:21:20.218Z"
   },
   {
    "duration": 109,
    "start_time": "2023-12-18T21:21:31.989Z"
   },
   {
    "duration": 116,
    "start_time": "2023-12-18T21:21:41.466Z"
   },
   {
    "duration": 117,
    "start_time": "2023-12-18T21:22:01.820Z"
   },
   {
    "duration": 114,
    "start_time": "2023-12-18T21:26:13.581Z"
   },
   {
    "duration": 120,
    "start_time": "2023-12-18T21:26:34.011Z"
   },
   {
    "duration": 9,
    "start_time": "2023-12-18T21:29:27.820Z"
   },
   {
    "duration": 8,
    "start_time": "2023-12-18T21:29:44.151Z"
   },
   {
    "duration": 216,
    "start_time": "2023-12-18T21:31:50.349Z"
   },
   {
    "duration": 171,
    "start_time": "2023-12-18T21:32:09.280Z"
   },
   {
    "duration": 12,
    "start_time": "2023-12-18T21:48:31.162Z"
   },
   {
    "duration": 12,
    "start_time": "2023-12-18T21:52:02.893Z"
   },
   {
    "duration": 14,
    "start_time": "2023-12-18T21:52:20.384Z"
   },
   {
    "duration": 15,
    "start_time": "2023-12-18T21:52:25.392Z"
   },
   {
    "duration": 16,
    "start_time": "2023-12-18T22:00:34.989Z"
   },
   {
    "duration": 13,
    "start_time": "2023-12-18T22:01:05.808Z"
   },
   {
    "duration": 211,
    "start_time": "2023-12-18T22:06:18.259Z"
   },
   {
    "duration": 298,
    "start_time": "2023-12-18T22:06:23.276Z"
   },
   {
    "duration": 295,
    "start_time": "2023-12-18T22:06:35.410Z"
   },
   {
    "duration": 235,
    "start_time": "2023-12-18T22:07:31.587Z"
   },
   {
    "duration": 10,
    "start_time": "2023-12-18T22:19:25.929Z"
   },
   {
    "duration": 14,
    "start_time": "2023-12-18T22:21:50.733Z"
   },
   {
    "duration": 8,
    "start_time": "2023-12-18T22:22:56.039Z"
   },
   {
    "duration": 7,
    "start_time": "2023-12-18T22:23:06.437Z"
   },
   {
    "duration": 250,
    "start_time": "2023-12-18T22:27:35.008Z"
   },
   {
    "duration": 12,
    "start_time": "2023-12-18T22:28:57.603Z"
   },
   {
    "duration": 6,
    "start_time": "2023-12-18T22:29:03.236Z"
   },
   {
    "duration": 6,
    "start_time": "2023-12-18T22:29:08.328Z"
   },
   {
    "duration": 260,
    "start_time": "2023-12-18T22:30:56.237Z"
   },
   {
    "duration": 6,
    "start_time": "2023-12-18T23:05:43.128Z"
   },
   {
    "duration": 15,
    "start_time": "2023-12-18T23:05:46.883Z"
   },
   {
    "duration": 15,
    "start_time": "2023-12-18T23:14:20.802Z"
   },
   {
    "duration": 12,
    "start_time": "2023-12-18T23:14:29.137Z"
   },
   {
    "duration": 31,
    "start_time": "2023-12-18T23:16:16.340Z"
   },
   {
    "duration": 7,
    "start_time": "2023-12-18T23:16:23.389Z"
   },
   {
    "duration": 18,
    "start_time": "2023-12-18T23:16:26.653Z"
   },
   {
    "duration": 6,
    "start_time": "2023-12-18T23:16:56.032Z"
   },
   {
    "duration": 75,
    "start_time": "2023-12-18T23:22:18.380Z"
   },
   {
    "duration": 3,
    "start_time": "2023-12-18T23:22:44.580Z"
   },
   {
    "duration": 131,
    "start_time": "2023-12-18T23:26:19.214Z"
   },
   {
    "duration": 4,
    "start_time": "2023-12-18T23:26:33.853Z"
   },
   {
    "duration": 237,
    "start_time": "2023-12-18T23:26:43.104Z"
   },
   {
    "duration": 242,
    "start_time": "2023-12-18T23:26:57.826Z"
   },
   {
    "duration": 4,
    "start_time": "2023-12-18T23:28:38.934Z"
   },
   {
    "duration": 4,
    "start_time": "2023-12-18T23:36:55.129Z"
   },
   {
    "duration": 236,
    "start_time": "2023-12-18T23:37:45.658Z"
   },
   {
    "duration": 5,
    "start_time": "2023-12-18T23:38:11.689Z"
   },
   {
    "duration": 234,
    "start_time": "2023-12-18T23:38:13.494Z"
   },
   {
    "duration": 348,
    "start_time": "2023-12-18T23:38:20.509Z"
   },
   {
    "duration": 219,
    "start_time": "2023-12-18T23:38:23.030Z"
   },
   {
    "duration": 270,
    "start_time": "2023-12-18T23:38:44.746Z"
   },
   {
    "duration": 241,
    "start_time": "2023-12-18T23:39:21.427Z"
   },
   {
    "duration": 233,
    "start_time": "2023-12-18T23:39:26.121Z"
   },
   {
    "duration": 344,
    "start_time": "2023-12-18T23:40:54.391Z"
   },
   {
    "duration": 5,
    "start_time": "2023-12-18T23:40:59.434Z"
   },
   {
    "duration": 225,
    "start_time": "2023-12-18T23:41:01.035Z"
   },
   {
    "duration": 251,
    "start_time": "2023-12-18T23:41:04.077Z"
   },
   {
    "duration": 4,
    "start_time": "2023-12-18T23:41:07.460Z"
   },
   {
    "duration": 237,
    "start_time": "2023-12-18T23:41:12.791Z"
   },
   {
    "duration": 238,
    "start_time": "2023-12-18T23:41:15.444Z"
   },
   {
    "duration": 5,
    "start_time": "2023-12-18T23:56:08.921Z"
   },
   {
    "duration": 211,
    "start_time": "2023-12-18T23:56:10.947Z"
   },
   {
    "duration": 216,
    "start_time": "2023-12-18T23:56:14.264Z"
   },
   {
    "duration": 4,
    "start_time": "2023-12-19T00:00:37.572Z"
   },
   {
    "duration": 10,
    "start_time": "2023-12-19T00:10:50.992Z"
   },
   {
    "duration": 14,
    "start_time": "2023-12-19T00:10:55.095Z"
   },
   {
    "duration": 10,
    "start_time": "2023-12-19T00:11:26.571Z"
   },
   {
    "duration": 11,
    "start_time": "2023-12-19T00:11:29.147Z"
   },
   {
    "duration": 15,
    "start_time": "2023-12-19T00:11:55.259Z"
   },
   {
    "duration": 13,
    "start_time": "2023-12-19T00:11:56.927Z"
   },
   {
    "duration": 109,
    "start_time": "2023-12-19T00:13:02.341Z"
   },
   {
    "duration": 16,
    "start_time": "2023-12-19T00:13:12.700Z"
   },
   {
    "duration": 134,
    "start_time": "2023-12-19T00:13:20.790Z"
   },
   {
    "duration": 9,
    "start_time": "2023-12-19T00:13:22.305Z"
   },
   {
    "duration": 15,
    "start_time": "2023-12-19T00:13:26.868Z"
   },
   {
    "duration": 15,
    "start_time": "2023-12-19T00:13:28.797Z"
   },
   {
    "duration": 17,
    "start_time": "2023-12-19T00:20:09.059Z"
   },
   {
    "duration": 24,
    "start_time": "2023-12-19T00:20:33.216Z"
   },
   {
    "duration": 17,
    "start_time": "2023-12-19T00:20:35.849Z"
   },
   {
    "duration": 4,
    "start_time": "2023-12-19T00:24:56.092Z"
   },
   {
    "duration": 25,
    "start_time": "2023-12-19T00:25:10.763Z"
   },
   {
    "duration": 16,
    "start_time": "2023-12-19T00:25:13.137Z"
   },
   {
    "duration": 16,
    "start_time": "2023-12-19T00:25:26.146Z"
   },
   {
    "duration": 315,
    "start_time": "2023-12-19T00:29:10.484Z"
   },
   {
    "duration": 3,
    "start_time": "2023-12-19T00:29:30.702Z"
   },
   {
    "duration": 13,
    "start_time": "2023-12-19T00:29:33.829Z"
   },
   {
    "duration": 12,
    "start_time": "2023-12-19T00:29:47.088Z"
   },
   {
    "duration": 12,
    "start_time": "2023-12-19T00:30:37.218Z"
   },
   {
    "duration": 12,
    "start_time": "2023-12-19T00:30:42.106Z"
   },
   {
    "duration": 14,
    "start_time": "2023-12-19T00:30:52.475Z"
   },
   {
    "duration": 900,
    "start_time": "2023-12-19T00:31:41.056Z"
   },
   {
    "duration": 109,
    "start_time": "2023-12-19T00:31:41.958Z"
   },
   {
    "duration": 61,
    "start_time": "2023-12-19T00:31:42.069Z"
   },
   {
    "duration": 20,
    "start_time": "2023-12-19T00:31:42.131Z"
   },
   {
    "duration": 69,
    "start_time": "2023-12-19T00:31:42.153Z"
   },
   {
    "duration": 11,
    "start_time": "2023-12-19T00:31:42.224Z"
   },
   {
    "duration": 11,
    "start_time": "2023-12-19T00:31:42.237Z"
   },
   {
    "duration": 20,
    "start_time": "2023-12-19T00:31:42.250Z"
   },
   {
    "duration": 51,
    "start_time": "2023-12-19T00:31:42.272Z"
   },
   {
    "duration": 36,
    "start_time": "2023-12-19T00:31:42.325Z"
   },
   {
    "duration": 8,
    "start_time": "2023-12-19T00:31:42.362Z"
   },
   {
    "duration": 11,
    "start_time": "2023-12-19T00:31:42.372Z"
   },
   {
    "duration": 20,
    "start_time": "2023-12-19T00:31:42.422Z"
   },
   {
    "duration": 315,
    "start_time": "2023-12-19T00:31:42.445Z"
   },
   {
    "duration": 72,
    "start_time": "2023-12-19T00:31:42.761Z"
   },
   {
    "duration": 148,
    "start_time": "2023-12-19T00:31:42.835Z"
   },
   {
    "duration": 8,
    "start_time": "2023-12-19T00:31:42.985Z"
   },
   {
    "duration": 203,
    "start_time": "2023-12-19T00:31:42.995Z"
   },
   {
    "duration": 10,
    "start_time": "2023-12-19T00:31:43.199Z"
   },
   {
    "duration": 27,
    "start_time": "2023-12-19T00:31:43.210Z"
   },
   {
    "duration": 314,
    "start_time": "2023-12-19T00:31:43.238Z"
   },
   {
    "duration": 9,
    "start_time": "2023-12-19T00:31:43.554Z"
   },
   {
    "duration": 22,
    "start_time": "2023-12-19T00:31:43.564Z"
   },
   {
    "duration": 5,
    "start_time": "2023-12-19T00:31:43.588Z"
   },
   {
    "duration": 272,
    "start_time": "2023-12-19T00:31:43.595Z"
   },
   {
    "duration": 6,
    "start_time": "2023-12-19T00:31:43.869Z"
   },
   {
    "duration": 16,
    "start_time": "2023-12-19T00:31:43.876Z"
   },
   {
    "duration": 8,
    "start_time": "2023-12-19T00:31:43.894Z"
   },
   {
    "duration": 14,
    "start_time": "2023-12-19T00:31:43.903Z"
   },
   {
    "duration": 7,
    "start_time": "2023-12-19T00:31:43.919Z"
   },
   {
    "duration": 316,
    "start_time": "2023-12-19T00:31:43.928Z"
   },
   {
    "duration": 270,
    "start_time": "2023-12-19T00:31:44.246Z"
   },
   {
    "duration": 6,
    "start_time": "2023-12-19T00:31:44.518Z"
   },
   {
    "duration": 226,
    "start_time": "2023-12-19T00:31:44.526Z"
   },
   {
    "duration": 241,
    "start_time": "2023-12-19T00:31:44.754Z"
   },
   {
    "duration": 2,
    "start_time": "2023-12-19T00:31:44.997Z"
   },
   {
    "duration": 94,
    "start_time": "2023-12-19T00:31:45.001Z"
   },
   {
    "duration": 10,
    "start_time": "2023-12-19T00:31:45.097Z"
   },
   {
    "duration": 52,
    "start_time": "2023-12-19T00:31:45.109Z"
   },
   {
    "duration": 4,
    "start_time": "2023-12-19T00:32:18.732Z"
   },
   {
    "duration": 24,
    "start_time": "2023-12-19T00:32:20.780Z"
   },
   {
    "duration": 3,
    "start_time": "2023-12-19T00:32:23.140Z"
   },
   {
    "duration": 15,
    "start_time": "2023-12-19T00:32:31.549Z"
   },
   {
    "duration": 3,
    "start_time": "2023-12-19T00:33:17.894Z"
   },
   {
    "duration": 14,
    "start_time": "2023-12-19T00:33:19.194Z"
   },
   {
    "duration": 20,
    "start_time": "2023-12-19T00:35:59.534Z"
   },
   {
    "duration": 4,
    "start_time": "2023-12-19T00:36:48.856Z"
   },
   {
    "duration": 3,
    "start_time": "2023-12-19T00:37:08.080Z"
   },
   {
    "duration": 5,
    "start_time": "2023-12-19T00:37:10.788Z"
   },
   {
    "duration": 93,
    "start_time": "2023-12-19T00:37:27.561Z"
   },
   {
    "duration": 6,
    "start_time": "2023-12-19T00:37:29.798Z"
   },
   {
    "duration": 19,
    "start_time": "2023-12-19T00:38:00.045Z"
   },
   {
    "duration": 3,
    "start_time": "2023-12-19T00:38:19.726Z"
   },
   {
    "duration": 18,
    "start_time": "2023-12-19T00:38:25.405Z"
   },
   {
    "duration": 72,
    "start_time": "2023-12-19T00:39:51.614Z"
   },
   {
    "duration": 10,
    "start_time": "2023-12-19T00:39:57.696Z"
   },
   {
    "duration": 140,
    "start_time": "2023-12-19T00:40:04.253Z"
   },
   {
    "duration": 6,
    "start_time": "2023-12-19T00:40:06.819Z"
   },
   {
    "duration": 8,
    "start_time": "2023-12-19T00:40:19.069Z"
   },
   {
    "duration": 8,
    "start_time": "2023-12-19T00:40:32.541Z"
   },
   {
    "duration": 87,
    "start_time": "2023-12-19T00:40:36.438Z"
   },
   {
    "duration": 6,
    "start_time": "2023-12-19T00:40:39.169Z"
   },
   {
    "duration": 17,
    "start_time": "2023-12-19T00:44:12.010Z"
   },
   {
    "duration": 887,
    "start_time": "2023-12-19T00:44:36.001Z"
   },
   {
    "duration": 17,
    "start_time": "2023-12-19T00:44:53.240Z"
   },
   {
    "duration": 12,
    "start_time": "2023-12-19T00:45:50.146Z"
   },
   {
    "duration": 963,
    "start_time": "2023-12-19T00:46:33.427Z"
   },
   {
    "duration": 897,
    "start_time": "2023-12-19T00:47:12.969Z"
   },
   {
    "duration": 44,
    "start_time": "2023-12-19T10:43:30.294Z"
   },
   {
    "duration": 5,
    "start_time": "2023-12-19T10:43:37.905Z"
   },
   {
    "duration": 5,
    "start_time": "2023-12-19T10:43:41.088Z"
   },
   {
    "duration": 688,
    "start_time": "2023-12-19T10:43:45.720Z"
   },
   {
    "duration": 192,
    "start_time": "2023-12-19T10:43:46.410Z"
   },
   {
    "duration": 25,
    "start_time": "2023-12-19T10:43:46.604Z"
   },
   {
    "duration": 13,
    "start_time": "2023-12-19T10:43:46.631Z"
   },
   {
    "duration": 65,
    "start_time": "2023-12-19T10:43:46.645Z"
   },
   {
    "duration": 21,
    "start_time": "2023-12-19T10:43:46.711Z"
   },
   {
    "duration": 14,
    "start_time": "2023-12-19T10:43:46.733Z"
   },
   {
    "duration": 8,
    "start_time": "2023-12-19T10:43:46.748Z"
   },
   {
    "duration": 3,
    "start_time": "2023-12-19T10:43:46.758Z"
   },
   {
    "duration": 7,
    "start_time": "2023-12-19T10:43:46.803Z"
   },
   {
    "duration": 5,
    "start_time": "2023-12-19T10:43:46.811Z"
   },
   {
    "duration": 3,
    "start_time": "2023-12-19T10:43:46.817Z"
   },
   {
    "duration": 16,
    "start_time": "2023-12-19T10:43:46.821Z"
   },
   {
    "duration": 266,
    "start_time": "2023-12-19T10:43:46.839Z"
   },
   {
    "duration": 13,
    "start_time": "2023-12-19T10:43:47.106Z"
   },
   {
    "duration": 181,
    "start_time": "2023-12-19T10:43:47.120Z"
   },
   {
    "duration": 6,
    "start_time": "2023-12-19T10:43:47.303Z"
   },
   {
    "duration": 296,
    "start_time": "2023-12-19T10:43:47.311Z"
   },
   {
    "duration": 8,
    "start_time": "2023-12-19T10:43:47.608Z"
   },
   {
    "duration": 21,
    "start_time": "2023-12-19T10:43:47.617Z"
   },
   {
    "duration": 217,
    "start_time": "2023-12-19T10:43:47.639Z"
   },
   {
    "duration": 7,
    "start_time": "2023-12-19T10:43:47.857Z"
   },
   {
    "duration": 18,
    "start_time": "2023-12-19T10:43:47.865Z"
   },
   {
    "duration": 4,
    "start_time": "2023-12-19T10:43:47.884Z"
   },
   {
    "duration": 198,
    "start_time": "2023-12-19T10:43:47.890Z"
   },
   {
    "duration": 3,
    "start_time": "2023-12-19T10:43:48.090Z"
   },
   {
    "duration": 20,
    "start_time": "2023-12-19T10:43:48.102Z"
   },
   {
    "duration": 22,
    "start_time": "2023-12-19T10:43:48.124Z"
   },
   {
    "duration": 47,
    "start_time": "2023-12-19T10:43:48.148Z"
   },
   {
    "duration": 41,
    "start_time": "2023-12-19T10:43:48.196Z"
   },
   {
    "duration": 212,
    "start_time": "2023-12-19T10:43:48.238Z"
   },
   {
    "duration": 206,
    "start_time": "2023-12-19T10:43:48.451Z"
   },
   {
    "duration": 4,
    "start_time": "2023-12-19T10:43:48.658Z"
   },
   {
    "duration": 183,
    "start_time": "2023-12-19T10:43:48.663Z"
   },
   {
    "duration": 168,
    "start_time": "2023-12-19T10:43:48.847Z"
   },
   {
    "duration": 3,
    "start_time": "2023-12-19T10:43:49.016Z"
   },
   {
    "duration": 831,
    "start_time": "2023-12-19T10:43:49.020Z"
   },
   {
    "duration": 78,
    "start_time": "2023-12-19T10:43:49.852Z"
   },
   {
    "duration": 0,
    "start_time": "2023-12-19T10:43:49.932Z"
   },
   {
    "duration": 10,
    "start_time": "2023-12-19T10:43:54.821Z"
   },
   {
    "duration": 2,
    "start_time": "2023-12-19T11:38:26.078Z"
   },
   {
    "duration": 1180,
    "start_time": "2023-12-19T11:39:31.686Z"
   },
   {
    "duration": 10,
    "start_time": "2023-12-19T11:40:58.879Z"
   },
   {
    "duration": 2,
    "start_time": "2023-12-19T11:42:49.746Z"
   },
   {
    "duration": 6,
    "start_time": "2023-12-19T11:44:44.210Z"
   },
   {
    "duration": 810,
    "start_time": "2023-12-19T11:44:50.628Z"
   },
   {
    "duration": 2,
    "start_time": "2023-12-19T11:44:55.555Z"
   },
   {
    "duration": 6,
    "start_time": "2023-12-19T11:45:32.451Z"
   },
   {
    "duration": 15,
    "start_time": "2023-12-19T11:46:02.326Z"
   },
   {
    "duration": 7,
    "start_time": "2023-12-19T11:54:56.791Z"
   },
   {
    "duration": 1290,
    "start_time": "2023-12-19T11:58:30.169Z"
   },
   {
    "duration": 111,
    "start_time": "2023-12-19T11:59:03.116Z"
   },
   {
    "duration": 15,
    "start_time": "2023-12-19T11:59:13.842Z"
   },
   {
    "duration": 2,
    "start_time": "2023-12-19T12:00:03.036Z"
   },
   {
    "duration": 113,
    "start_time": "2023-12-19T12:00:04.978Z"
   },
   {
    "duration": 14,
    "start_time": "2023-12-19T12:00:07.505Z"
   },
   {
    "duration": 816,
    "start_time": "2023-12-19T12:02:10.170Z"
   },
   {
    "duration": 169,
    "start_time": "2023-12-19T12:04:20.825Z"
   },
   {
    "duration": 6,
    "start_time": "2023-12-19T12:07:38.514Z"
   },
   {
    "duration": 6,
    "start_time": "2023-12-19T12:07:54.304Z"
   },
   {
    "duration": 5,
    "start_time": "2023-12-19T12:07:57.310Z"
   },
   {
    "duration": 102,
    "start_time": "2023-12-19T12:13:44.113Z"
   },
   {
    "duration": 118,
    "start_time": "2023-12-19T12:14:03.342Z"
   },
   {
    "duration": 99,
    "start_time": "2023-12-19T12:14:08.825Z"
   },
   {
    "duration": 331,
    "start_time": "2023-12-19T12:53:02.233Z"
   },
   {
    "duration": 32,
    "start_time": "2023-12-19T12:54:59.471Z"
   },
   {
    "duration": 13,
    "start_time": "2023-12-19T12:55:21.280Z"
   },
   {
    "duration": 5,
    "start_time": "2023-12-19T12:55:52.802Z"
   },
   {
    "duration": 4,
    "start_time": "2023-12-19T13:06:51.110Z"
   },
   {
    "duration": 4,
    "start_time": "2023-12-19T13:07:32.491Z"
   },
   {
    "duration": 4,
    "start_time": "2023-12-19T13:07:37.437Z"
   },
   {
    "duration": 7,
    "start_time": "2023-12-19T13:16:11.599Z"
   },
   {
    "duration": 9,
    "start_time": "2023-12-19T13:16:54.200Z"
   },
   {
    "duration": 107,
    "start_time": "2023-12-19T13:20:36.531Z"
   },
   {
    "duration": 147,
    "start_time": "2023-12-19T13:20:45.462Z"
   },
   {
    "duration": 130,
    "start_time": "2023-12-19T13:20:53.569Z"
   },
   {
    "duration": 123,
    "start_time": "2023-12-19T13:20:57.172Z"
   },
   {
    "duration": 87,
    "start_time": "2023-12-19T13:21:09.709Z"
   },
   {
    "duration": 1156,
    "start_time": "2023-12-19T15:26:53.350Z"
   },
   {
    "duration": 81,
    "start_time": "2023-12-19T15:26:54.510Z"
   },
   {
    "duration": 35,
    "start_time": "2023-12-19T15:26:54.593Z"
   },
   {
    "duration": 18,
    "start_time": "2023-12-19T15:26:54.630Z"
   },
   {
    "duration": 15,
    "start_time": "2023-12-19T15:26:54.649Z"
   },
   {
    "duration": 10,
    "start_time": "2023-12-19T15:26:54.666Z"
   },
   {
    "duration": 15,
    "start_time": "2023-12-19T15:26:54.678Z"
   },
   {
    "duration": 22,
    "start_time": "2023-12-19T15:26:54.694Z"
   },
   {
    "duration": 8,
    "start_time": "2023-12-19T15:26:54.718Z"
   },
   {
    "duration": 30,
    "start_time": "2023-12-19T15:26:54.730Z"
   },
   {
    "duration": 11,
    "start_time": "2023-12-19T15:26:54.761Z"
   },
   {
    "duration": 26,
    "start_time": "2023-12-19T15:26:54.773Z"
   },
   {
    "duration": 30,
    "start_time": "2023-12-19T15:26:54.800Z"
   },
   {
    "duration": 169,
    "start_time": "2023-12-19T15:26:54.832Z"
   },
   {
    "duration": 21,
    "start_time": "2023-12-19T15:26:55.002Z"
   },
   {
    "duration": 123,
    "start_time": "2023-12-19T15:26:55.025Z"
   },
   {
    "duration": 8,
    "start_time": "2023-12-19T15:26:55.149Z"
   },
   {
    "duration": 200,
    "start_time": "2023-12-19T15:26:55.159Z"
   },
   {
    "duration": 9,
    "start_time": "2023-12-19T15:26:55.360Z"
   },
   {
    "duration": 20,
    "start_time": "2023-12-19T15:26:55.370Z"
   },
   {
    "duration": 236,
    "start_time": "2023-12-19T15:26:55.392Z"
   },
   {
    "duration": 11,
    "start_time": "2023-12-19T15:26:55.630Z"
   },
   {
    "duration": 12,
    "start_time": "2023-12-19T15:26:55.643Z"
   },
   {
    "duration": 6,
    "start_time": "2023-12-19T15:26:55.656Z"
   },
   {
    "duration": 265,
    "start_time": "2023-12-19T15:26:55.664Z"
   },
   {
    "duration": 5,
    "start_time": "2023-12-19T15:26:55.930Z"
   },
   {
    "duration": 30,
    "start_time": "2023-12-19T15:26:55.937Z"
   },
   {
    "duration": 12,
    "start_time": "2023-12-19T15:26:55.971Z"
   },
   {
    "duration": 17,
    "start_time": "2023-12-19T15:26:55.985Z"
   },
   {
    "duration": 19,
    "start_time": "2023-12-19T15:26:56.004Z"
   },
   {
    "duration": 222,
    "start_time": "2023-12-19T15:26:56.025Z"
   },
   {
    "duration": 310,
    "start_time": "2023-12-19T15:26:56.249Z"
   },
   {
    "duration": 5,
    "start_time": "2023-12-19T15:26:56.560Z"
   },
   {
    "duration": 223,
    "start_time": "2023-12-19T15:26:56.566Z"
   },
   {
    "duration": 216,
    "start_time": "2023-12-19T15:26:56.791Z"
   },
   {
    "duration": 3,
    "start_time": "2023-12-19T15:26:57.010Z"
   },
   {
    "duration": 929,
    "start_time": "2023-12-19T15:26:57.015Z"
   },
   {
    "duration": 5,
    "start_time": "2023-12-19T15:26:57.946Z"
   },
   {
    "duration": 168,
    "start_time": "2023-12-19T15:26:57.953Z"
   },
   {
    "duration": 7,
    "start_time": "2023-12-19T15:26:58.122Z"
   },
   {
    "duration": 6,
    "start_time": "2023-12-19T15:26:58.131Z"
   },
   {
    "duration": 16,
    "start_time": "2023-12-19T15:26:58.138Z"
   },
   {
    "duration": 62,
    "start_time": "2023-12-19T16:04:08.287Z"
   },
   {
    "duration": 1638,
    "start_time": "2023-12-19T16:04:14.894Z"
   },
   {
    "duration": 332,
    "start_time": "2023-12-19T16:04:16.541Z"
   },
   {
    "duration": 24,
    "start_time": "2023-12-19T16:04:16.874Z"
   },
   {
    "duration": 26,
    "start_time": "2023-12-19T16:04:16.933Z"
   },
   {
    "duration": 91,
    "start_time": "2023-12-19T16:04:16.962Z"
   },
   {
    "duration": 6,
    "start_time": "2023-12-19T16:04:17.055Z"
   },
   {
    "duration": 9,
    "start_time": "2023-12-19T16:04:17.063Z"
   },
   {
    "duration": 6,
    "start_time": "2023-12-19T16:04:17.074Z"
   },
   {
    "duration": 6,
    "start_time": "2023-12-19T16:04:17.082Z"
   },
   {
    "duration": 57,
    "start_time": "2023-12-19T16:04:17.090Z"
   },
   {
    "duration": 8,
    "start_time": "2023-12-19T16:04:17.151Z"
   },
   {
    "duration": 17,
    "start_time": "2023-12-19T16:04:17.161Z"
   },
   {
    "duration": 15,
    "start_time": "2023-12-19T16:04:17.232Z"
   },
   {
    "duration": 20,
    "start_time": "2023-12-19T16:04:17.250Z"
   },
   {
    "duration": 403,
    "start_time": "2023-12-19T16:04:17.272Z"
   },
   {
    "duration": 20,
    "start_time": "2023-12-19T16:04:17.677Z"
   },
   {
    "duration": 137,
    "start_time": "2023-12-19T16:04:17.737Z"
   },
   {
    "duration": 8,
    "start_time": "2023-12-19T16:04:17.876Z"
   },
   {
    "duration": 229,
    "start_time": "2023-12-19T16:04:17.885Z"
   },
   {
    "duration": 25,
    "start_time": "2023-12-19T16:04:18.116Z"
   },
   {
    "duration": 36,
    "start_time": "2023-12-19T16:04:18.146Z"
   },
   {
    "duration": 268,
    "start_time": "2023-12-19T16:04:18.185Z"
   },
   {
    "duration": 10,
    "start_time": "2023-12-19T16:04:18.455Z"
   },
   {
    "duration": 20,
    "start_time": "2023-12-19T16:04:18.466Z"
   },
   {
    "duration": 12,
    "start_time": "2023-12-19T16:04:18.488Z"
   },
   {
    "duration": 296,
    "start_time": "2023-12-19T16:04:18.501Z"
   },
   {
    "duration": 5,
    "start_time": "2023-12-19T16:04:18.799Z"
   },
   {
    "duration": 30,
    "start_time": "2023-12-19T16:04:18.805Z"
   },
   {
    "duration": 19,
    "start_time": "2023-12-19T16:04:18.838Z"
   },
   {
    "duration": 32,
    "start_time": "2023-12-19T16:04:18.858Z"
   },
   {
    "duration": 12,
    "start_time": "2023-12-19T16:04:18.891Z"
   },
   {
    "duration": 260,
    "start_time": "2023-12-19T16:04:18.905Z"
   },
   {
    "duration": 344,
    "start_time": "2023-12-19T16:04:19.167Z"
   },
   {
    "duration": 6,
    "start_time": "2023-12-19T16:04:19.513Z"
   },
   {
    "duration": 240,
    "start_time": "2023-12-19T16:04:19.521Z"
   },
   {
    "duration": 219,
    "start_time": "2023-12-19T16:04:19.763Z"
   },
   {
    "duration": 4,
    "start_time": "2023-12-19T16:04:19.984Z"
   },
   {
    "duration": 930,
    "start_time": "2023-12-19T16:04:19.989Z"
   },
   {
    "duration": 16,
    "start_time": "2023-12-19T16:04:20.921Z"
   },
   {
    "duration": 160,
    "start_time": "2023-12-19T16:04:20.943Z"
   },
   {
    "duration": 7,
    "start_time": "2023-12-19T16:04:21.108Z"
   },
   {
    "duration": 27,
    "start_time": "2023-12-19T16:04:21.116Z"
   },
   {
    "duration": 15,
    "start_time": "2023-12-19T16:04:21.147Z"
   },
   {
    "duration": 5,
    "start_time": "2023-12-19T16:04:43.078Z"
   },
   {
    "duration": 6,
    "start_time": "2023-12-19T16:04:59.808Z"
   },
   {
    "duration": 4,
    "start_time": "2023-12-19T16:05:23.459Z"
   },
   {
    "duration": 64,
    "start_time": "2023-12-19T16:07:23.647Z"
   },
   {
    "duration": 12,
    "start_time": "2023-12-19T16:07:45.426Z"
   },
   {
    "duration": 137,
    "start_time": "2023-12-19T16:11:32.889Z"
   },
   {
    "duration": 95,
    "start_time": "2023-12-19T16:12:04.954Z"
   },
   {
    "duration": 109,
    "start_time": "2023-12-19T16:12:13.454Z"
   },
   {
    "duration": 117,
    "start_time": "2023-12-19T16:12:19.441Z"
   },
   {
    "duration": 109,
    "start_time": "2023-12-19T16:12:26.945Z"
   },
   {
    "duration": 182,
    "start_time": "2023-12-19T16:12:33.002Z"
   },
   {
    "duration": 235,
    "start_time": "2023-12-19T16:13:58.530Z"
   },
   {
    "duration": 214,
    "start_time": "2023-12-19T16:19:16.094Z"
   },
   {
    "duration": 99,
    "start_time": "2023-12-19T16:23:06.428Z"
   },
   {
    "duration": 115,
    "start_time": "2023-12-19T16:23:45.785Z"
   },
   {
    "duration": 112,
    "start_time": "2023-12-19T16:24:30.243Z"
   },
   {
    "duration": 227,
    "start_time": "2023-12-19T16:25:31.248Z"
   },
   {
    "duration": 146,
    "start_time": "2023-12-19T16:25:46.129Z"
   },
   {
    "duration": 143,
    "start_time": "2023-12-19T16:26:19.316Z"
   },
   {
    "duration": 134,
    "start_time": "2023-12-19T16:26:21.158Z"
   },
   {
    "duration": 144,
    "start_time": "2023-12-19T16:26:26.575Z"
   },
   {
    "duration": 257,
    "start_time": "2023-12-19T16:28:02.310Z"
   },
   {
    "duration": 5,
    "start_time": "2023-12-19T16:33:02.932Z"
   },
   {
    "duration": 4,
    "start_time": "2023-12-19T16:34:03.511Z"
   },
   {
    "duration": 6,
    "start_time": "2023-12-19T16:34:34.028Z"
   },
   {
    "duration": 8,
    "start_time": "2023-12-19T16:34:37.579Z"
   },
   {
    "duration": 9,
    "start_time": "2023-12-19T16:38:09.073Z"
   },
   {
    "duration": 3,
    "start_time": "2023-12-19T16:38:13.847Z"
   },
   {
    "duration": 11,
    "start_time": "2023-12-19T16:40:13.898Z"
   },
   {
    "duration": 4,
    "start_time": "2023-12-19T16:40:41.222Z"
   },
   {
    "duration": 74,
    "start_time": "2023-12-19T16:41:45.398Z"
   },
   {
    "duration": 4,
    "start_time": "2023-12-19T16:41:59.463Z"
   },
   {
    "duration": 4,
    "start_time": "2023-12-19T16:42:20.515Z"
   },
   {
    "duration": 5,
    "start_time": "2023-12-19T16:44:02.440Z"
   },
   {
    "duration": 20,
    "start_time": "2023-12-19T16:45:21.331Z"
   },
   {
    "duration": 5,
    "start_time": "2023-12-19T16:45:23.379Z"
   },
   {
    "duration": 5,
    "start_time": "2023-12-19T16:47:59.655Z"
   },
   {
    "duration": 5,
    "start_time": "2023-12-19T16:48:08.068Z"
   },
   {
    "duration": 7,
    "start_time": "2023-12-19T16:48:58.019Z"
   },
   {
    "duration": 6,
    "start_time": "2023-12-19T16:49:05.205Z"
   },
   {
    "duration": 82,
    "start_time": "2023-12-19T16:49:40.575Z"
   },
   {
    "duration": 8,
    "start_time": "2023-12-19T16:49:46.141Z"
   },
   {
    "duration": 7,
    "start_time": "2023-12-19T16:49:54.548Z"
   },
   {
    "duration": 12,
    "start_time": "2023-12-19T16:51:36.517Z"
   },
   {
    "duration": 15,
    "start_time": "2023-12-19T16:51:53.569Z"
   },
   {
    "duration": 23,
    "start_time": "2023-12-19T16:53:10.385Z"
   },
   {
    "duration": 18,
    "start_time": "2023-12-19T16:53:55.147Z"
   },
   {
    "duration": 17,
    "start_time": "2023-12-19T16:54:03.845Z"
   },
   {
    "duration": 946,
    "start_time": "2023-12-19T16:59:47.655Z"
   },
   {
    "duration": 6,
    "start_time": "2023-12-19T17:02:38.185Z"
   },
   {
    "duration": 8,
    "start_time": "2023-12-19T17:02:48.432Z"
   },
   {
    "duration": 6,
    "start_time": "2023-12-19T17:03:12.187Z"
   },
   {
    "duration": 1044,
    "start_time": "2023-12-19T18:48:26.746Z"
   },
   {
    "duration": 66,
    "start_time": "2023-12-19T18:48:27.791Z"
   },
   {
    "duration": 18,
    "start_time": "2023-12-19T18:48:27.859Z"
   },
   {
    "duration": 15,
    "start_time": "2023-12-19T18:48:27.879Z"
   },
   {
    "duration": 13,
    "start_time": "2023-12-19T18:48:27.896Z"
   },
   {
    "duration": 8,
    "start_time": "2023-12-19T18:48:27.911Z"
   },
   {
    "duration": 9,
    "start_time": "2023-12-19T18:48:27.920Z"
   },
   {
    "duration": 9,
    "start_time": "2023-12-19T18:48:27.930Z"
   },
   {
    "duration": 5,
    "start_time": "2023-12-19T18:48:27.941Z"
   },
   {
    "duration": 8,
    "start_time": "2023-12-19T18:48:27.947Z"
   },
   {
    "duration": 6,
    "start_time": "2023-12-19T18:48:27.956Z"
   },
   {
    "duration": 3,
    "start_time": "2023-12-19T18:48:27.963Z"
   },
   {
    "duration": 3,
    "start_time": "2023-12-19T18:48:27.968Z"
   },
   {
    "duration": 48,
    "start_time": "2023-12-19T18:48:27.974Z"
   },
   {
    "duration": 153,
    "start_time": "2023-12-19T18:48:28.023Z"
   },
   {
    "duration": 16,
    "start_time": "2023-12-19T18:48:28.177Z"
   },
   {
    "duration": 117,
    "start_time": "2023-12-19T18:48:28.194Z"
   },
   {
    "duration": 7,
    "start_time": "2023-12-19T18:48:28.312Z"
   },
   {
    "duration": 182,
    "start_time": "2023-12-19T18:48:28.321Z"
   },
   {
    "duration": 120,
    "start_time": "2023-12-19T18:48:28.505Z"
   },
   {
    "duration": 10,
    "start_time": "2023-12-19T18:48:28.626Z"
   },
   {
    "duration": 11,
    "start_time": "2023-12-19T18:48:28.638Z"
   },
   {
    "duration": 212,
    "start_time": "2023-12-19T18:48:28.651Z"
   },
   {
    "duration": 128,
    "start_time": "2023-12-19T18:48:28.864Z"
   },
   {
    "duration": 17,
    "start_time": "2023-12-19T18:48:28.994Z"
   },
   {
    "duration": 11,
    "start_time": "2023-12-19T18:48:29.012Z"
   },
   {
    "duration": 7,
    "start_time": "2023-12-19T18:48:29.024Z"
   },
   {
    "duration": 193,
    "start_time": "2023-12-19T18:48:29.032Z"
   },
   {
    "duration": 119,
    "start_time": "2023-12-19T18:48:29.227Z"
   },
   {
    "duration": 5,
    "start_time": "2023-12-19T18:48:29.347Z"
   },
   {
    "duration": 23,
    "start_time": "2023-12-19T18:48:29.353Z"
   },
   {
    "duration": 10,
    "start_time": "2023-12-19T18:48:29.378Z"
   },
   {
    "duration": 15,
    "start_time": "2023-12-19T18:48:29.410Z"
   },
   {
    "duration": 13,
    "start_time": "2023-12-19T18:48:29.427Z"
   },
   {
    "duration": 11,
    "start_time": "2023-12-19T18:48:29.441Z"
   },
   {
    "duration": 282,
    "start_time": "2023-12-19T18:48:29.454Z"
   },
   {
    "duration": 244,
    "start_time": "2023-12-19T18:48:29.738Z"
   },
   {
    "duration": 4,
    "start_time": "2023-12-19T18:48:29.984Z"
   },
   {
    "duration": 186,
    "start_time": "2023-12-19T18:48:29.989Z"
   },
   {
    "duration": 196,
    "start_time": "2023-12-19T18:48:30.177Z"
   },
   {
    "duration": 3,
    "start_time": "2023-12-19T18:48:30.377Z"
   },
   {
    "duration": 845,
    "start_time": "2023-12-19T18:48:30.382Z"
   },
   {
    "duration": 3,
    "start_time": "2023-12-19T18:48:31.228Z"
   },
   {
    "duration": 167,
    "start_time": "2023-12-19T18:48:31.233Z"
   },
   {
    "duration": 10,
    "start_time": "2023-12-19T18:48:31.401Z"
   },
   {
    "duration": 38,
    "start_time": "2023-12-19T18:48:31.413Z"
   },
   {
    "duration": 23,
    "start_time": "2023-12-19T18:48:31.452Z"
   }
  ],
  "kernelspec": {
   "display_name": "Python 3 (ipykernel)",
   "language": "python",
   "name": "python3"
  },
  "language_info": {
   "codemirror_mode": {
    "name": "ipython",
    "version": 3
   },
   "file_extension": ".py",
   "mimetype": "text/x-python",
   "name": "python",
   "nbconvert_exporter": "python",
   "pygments_lexer": "ipython3",
   "version": "3.9.18"
  },
  "toc": {
   "base_numbering": 1,
   "nav_menu": {},
   "number_sections": true,
   "sideBar": true,
   "skip_h1_title": true,
   "title_cell": "Table of Contents",
   "title_sidebar": "Contents",
   "toc_cell": false,
   "toc_position": {
    "height": "calc(100% - 180px)",
    "left": "10px",
    "top": "150px",
    "width": "292.8px"
   },
   "toc_section_display": true,
   "toc_window_display": true
  }
 },
 "nbformat": 4,
 "nbformat_minor": 5
}
