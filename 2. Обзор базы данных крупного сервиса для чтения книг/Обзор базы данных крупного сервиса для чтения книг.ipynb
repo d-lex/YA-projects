{
 "cells": [
  {
   "cell_type": "markdown",
   "metadata": {},
   "source": [
    "# Обзор базы данных крупного сервиса для чтения книг по подписке\n",
    "\n",
    "**Описание:**\n",
    "\n",
    "Коронавирус застал мир врасплох, изменив привычный порядок вещей. На какое-то время жители городов перестали выходить на улицу, посещать кафе и торговые центры. Зато стало больше времени для книг. Это заметили стартаперы — и бросились создавать приложения для тех, кто любит читать. Заказчик решил быть на волне и купил крупный сервис для чтения книг по подписке. \n",
    "\n",
    "**Исходные материалы:**\n",
    "\n",
    "\n",
    "В нашем распоряжении база данных куда входят:\n",
    "- Таблица `books` — Содержит данные о книгах\n",
    "- Таблица `authors` — Содержит данные об авторах\n",
    "- Таблица `publishers` — Содержит данные об издательствах\n",
    "- Таблица `ratings` — Содержит данные о пользовательских оценках книг\n",
    "- Таблица `reviews` — Содержит данные о пользовательских обзорах\n",
    "\n",
    "**Цели:**\n",
    " - Проанализировать базу данных.\n",
    "\n",
    "\n",
    "**Ход выполнения:**\n",
    "- Получим доступ к базе данных\n",
    "- Ознакомимся с данными\n",
    "- Исследуем базу данных и сделаем следующее:\n",
    "    - Выясним сколько книг вышло после 1 января 2000 года\n",
    "    - Для каждой книги посчитаем количество обзоров и среднюю оценку\n",
    "    - Найдем самое крупное издательство по объему выпущенных книг толщиной более 50 страниц\n",
    "    - Выясним какой автор имеют самую высокую среднюю оценку среди книг, у которых есть 50 оценок и более\n",
    "    - Посчитаем среднее количество обзоров от пользователей, которые поставили больше 48 оценок\n",
    "- Сформируем выводы"
   ]
  },
  {
   "cell_type": "code",
   "execution_count": 1,
   "metadata": {},
   "outputs": [],
   "source": [
    "# импортируем библиотеки\n",
    "import pandas as pd\n",
    "from sqlalchemy import text, create_engine"
   ]
  },
  {
   "cell_type": "markdown",
   "metadata": {},
   "source": [
    "## Первый взгляд на данные"
   ]
  },
  {
   "cell_type": "markdown",
   "metadata": {},
   "source": [
    "В первую очередь необходимо получить данные, для этого подключимся к базе данных:"
   ]
  },
  {
   "cell_type": "code",
   "execution_count": 2,
   "metadata": {},
   "outputs": [],
   "source": [
    "# устанавливаем параметры соединения\n",
    "db_config = {\n",
    "    'user': '***',                                 # имя пользователя\n",
    "    'pwd': '***',                                  # пароль\n",
    "    'host': '***',\n",
    "    'port': ***,                                   # порт подключения\n",
    "    'db': '***'                                    # название базы данных\n",
    "}\n",
    "connection_string = 'postgresql://{user}:{pwd}@{host}:{port}/{db}'.format(**db_config)"
   ]
  },
  {
   "cell_type": "code",
   "execution_count": 3,
   "metadata": {},
   "outputs": [],
   "source": [
    "# сохраняем коннектор\n",
    "engine = create_engine(connection_string, connect_args={'sslmode':'require'})"
   ]
  },
  {
   "cell_type": "code",
   "execution_count": 4,
   "metadata": {},
   "outputs": [],
   "source": [
    "# чтобы выполнить SQL-запрос, пишем функцию с использованием Pandas\n",
    "def get_sql_data(query):\n",
    "    con=engine.connect()\n",
    "    return pd.io.sql.read_sql(sql=text(query), con = con)"
   ]
  },
  {
   "cell_type": "code",
   "execution_count": 5,
   "metadata": {},
   "outputs": [
    {
     "data": {
      "text/html": [
       "<div>\n",
       "<style scoped>\n",
       "    .dataframe tbody tr th:only-of-type {\n",
       "        vertical-align: middle;\n",
       "    }\n",
       "\n",
       "    .dataframe tbody tr th {\n",
       "        vertical-align: top;\n",
       "    }\n",
       "\n",
       "    .dataframe thead th {\n",
       "        text-align: right;\n",
       "    }\n",
       "</style>\n",
       "<table border=\"1\" class=\"dataframe\">\n",
       "  <thead>\n",
       "    <tr style=\"text-align: right;\">\n",
       "      <th></th>\n",
       "      <th>book_id</th>\n",
       "      <th>author_id</th>\n",
       "      <th>title</th>\n",
       "      <th>num_pages</th>\n",
       "      <th>publication_date</th>\n",
       "      <th>publisher_id</th>\n",
       "    </tr>\n",
       "  </thead>\n",
       "  <tbody>\n",
       "    <tr>\n",
       "      <th>0</th>\n",
       "      <td>1</td>\n",
       "      <td>546</td>\n",
       "      <td>'Salem's Lot</td>\n",
       "      <td>594</td>\n",
       "      <td>2005-11-01</td>\n",
       "      <td>93</td>\n",
       "    </tr>\n",
       "    <tr>\n",
       "      <th>1</th>\n",
       "      <td>2</td>\n",
       "      <td>465</td>\n",
       "      <td>1 000 Places to See Before You Die</td>\n",
       "      <td>992</td>\n",
       "      <td>2003-05-22</td>\n",
       "      <td>336</td>\n",
       "    </tr>\n",
       "    <tr>\n",
       "      <th>2</th>\n",
       "      <td>3</td>\n",
       "      <td>407</td>\n",
       "      <td>13 Little Blue Envelopes (Little Blue Envelope...</td>\n",
       "      <td>322</td>\n",
       "      <td>2010-12-21</td>\n",
       "      <td>135</td>\n",
       "    </tr>\n",
       "    <tr>\n",
       "      <th>3</th>\n",
       "      <td>4</td>\n",
       "      <td>82</td>\n",
       "      <td>1491: New Revelations of the Americas Before C...</td>\n",
       "      <td>541</td>\n",
       "      <td>2006-10-10</td>\n",
       "      <td>309</td>\n",
       "    </tr>\n",
       "    <tr>\n",
       "      <th>4</th>\n",
       "      <td>5</td>\n",
       "      <td>125</td>\n",
       "      <td>1776</td>\n",
       "      <td>386</td>\n",
       "      <td>2006-07-04</td>\n",
       "      <td>268</td>\n",
       "    </tr>\n",
       "  </tbody>\n",
       "</table>\n",
       "</div>"
      ],
      "text/plain": [
       "   book_id  author_id                                              title  \\\n",
       "0        1        546                                       'Salem's Lot   \n",
       "1        2        465                 1 000 Places to See Before You Die   \n",
       "2        3        407  13 Little Blue Envelopes (Little Blue Envelope...   \n",
       "3        4         82  1491: New Revelations of the Americas Before C...   \n",
       "4        5        125                                               1776   \n",
       "\n",
       "   num_pages publication_date  publisher_id  \n",
       "0        594       2005-11-01            93  \n",
       "1        992       2003-05-22           336  \n",
       "2        322       2010-12-21           135  \n",
       "3        541       2006-10-10           309  \n",
       "4        386       2006-07-04           268  "
      ]
     },
     "execution_count": 5,
     "metadata": {},
     "output_type": "execute_result"
    }
   ],
   "source": [
    "# проверим корректность работы. Сформируем первый запрос\n",
    "query = (\n",
    "    '''SELECT *\n",
    "       FROM books\n",
    "       LIMIT 5'''\n",
    ")\n",
    "\n",
    "# выполняем запрос\n",
    "get_sql_data(query)"
   ]
  },
  {
   "cell_type": "markdown",
   "metadata": {},
   "source": [
    "Доступ к базе данных получен. Посмотрим на первые строки таблиц и оценим их объем. Первые строки Таблицы `books` уже есть, посмотрим сколько всего в таблице данных:"
   ]
  },
  {
   "cell_type": "code",
   "execution_count": 6,
   "metadata": {},
   "outputs": [
    {
     "data": {
      "text/html": [
       "<div>\n",
       "<style scoped>\n",
       "    .dataframe tbody tr th:only-of-type {\n",
       "        vertical-align: middle;\n",
       "    }\n",
       "\n",
       "    .dataframe tbody tr th {\n",
       "        vertical-align: top;\n",
       "    }\n",
       "\n",
       "    .dataframe thead th {\n",
       "        text-align: right;\n",
       "    }\n",
       "</style>\n",
       "<table border=\"1\" class=\"dataframe\">\n",
       "  <thead>\n",
       "    <tr style=\"text-align: right;\">\n",
       "      <th></th>\n",
       "      <th>count</th>\n",
       "    </tr>\n",
       "  </thead>\n",
       "  <tbody>\n",
       "    <tr>\n",
       "      <th>0</th>\n",
       "      <td>1000</td>\n",
       "    </tr>\n",
       "  </tbody>\n",
       "</table>\n",
       "</div>"
      ],
      "text/plain": [
       "   count\n",
       "0   1000"
      ]
     },
     "execution_count": 6,
     "metadata": {},
     "output_type": "execute_result"
    }
   ],
   "source": [
    "# найдем количество строк в `books`\n",
    "query = (\n",
    "    '''SELECT COUNT(*)\n",
    "       FROM books'''\n",
    ")\n",
    "get_sql_data(query)"
   ]
  },
  {
   "cell_type": "markdown",
   "metadata": {},
   "source": [
    "В таблице `books` - 1 000 записей."
   ]
  },
  {
   "cell_type": "markdown",
   "metadata": {},
   "source": [
    "Изучим информацию о других таблицах"
   ]
  },
  {
   "cell_type": "code",
   "execution_count": 7,
   "metadata": {},
   "outputs": [],
   "source": [
    "# функция, которая формирует SQL-запрос для вывода первых 5 строк таблицы\n",
    "def get_table_head(table):\n",
    "    return f'SELECT * FROM {table} LIMIT 5'"
   ]
  },
  {
   "cell_type": "code",
   "execution_count": 8,
   "metadata": {},
   "outputs": [
    {
     "data": {
      "text/html": [
       "<div>\n",
       "<style scoped>\n",
       "    .dataframe tbody tr th:only-of-type {\n",
       "        vertical-align: middle;\n",
       "    }\n",
       "\n",
       "    .dataframe tbody tr th {\n",
       "        vertical-align: top;\n",
       "    }\n",
       "\n",
       "    .dataframe thead th {\n",
       "        text-align: right;\n",
       "    }\n",
       "</style>\n",
       "<table border=\"1\" class=\"dataframe\">\n",
       "  <thead>\n",
       "    <tr style=\"text-align: right;\">\n",
       "      <th></th>\n",
       "      <th>author_id</th>\n",
       "      <th>author</th>\n",
       "    </tr>\n",
       "  </thead>\n",
       "  <tbody>\n",
       "    <tr>\n",
       "      <th>0</th>\n",
       "      <td>1</td>\n",
       "      <td>A.S. Byatt</td>\n",
       "    </tr>\n",
       "    <tr>\n",
       "      <th>1</th>\n",
       "      <td>2</td>\n",
       "      <td>Aesop/Laura Harris/Laura Gibbs</td>\n",
       "    </tr>\n",
       "    <tr>\n",
       "      <th>2</th>\n",
       "      <td>3</td>\n",
       "      <td>Agatha Christie</td>\n",
       "    </tr>\n",
       "    <tr>\n",
       "      <th>3</th>\n",
       "      <td>4</td>\n",
       "      <td>Alan Brennert</td>\n",
       "    </tr>\n",
       "    <tr>\n",
       "      <th>4</th>\n",
       "      <td>5</td>\n",
       "      <td>Alan Moore/David   Lloyd</td>\n",
       "    </tr>\n",
       "  </tbody>\n",
       "</table>\n",
       "</div>"
      ],
      "text/plain": [
       "   author_id                          author\n",
       "0          1                      A.S. Byatt\n",
       "1          2  Aesop/Laura Harris/Laura Gibbs\n",
       "2          3                 Agatha Christie\n",
       "3          4                   Alan Brennert\n",
       "4          5        Alan Moore/David   Lloyd"
      ]
     },
     "execution_count": 8,
     "metadata": {},
     "output_type": "execute_result"
    }
   ],
   "source": [
    "# посмотрим на первые строки 'authors'\n",
    "get_sql_data(get_table_head('authors'))"
   ]
  },
  {
   "cell_type": "code",
   "execution_count": 9,
   "metadata": {},
   "outputs": [
    {
     "data": {
      "text/html": [
       "<div>\n",
       "<style scoped>\n",
       "    .dataframe tbody tr th:only-of-type {\n",
       "        vertical-align: middle;\n",
       "    }\n",
       "\n",
       "    .dataframe tbody tr th {\n",
       "        vertical-align: top;\n",
       "    }\n",
       "\n",
       "    .dataframe thead th {\n",
       "        text-align: right;\n",
       "    }\n",
       "</style>\n",
       "<table border=\"1\" class=\"dataframe\">\n",
       "  <thead>\n",
       "    <tr style=\"text-align: right;\">\n",
       "      <th></th>\n",
       "      <th>publisher_id</th>\n",
       "      <th>publisher</th>\n",
       "    </tr>\n",
       "  </thead>\n",
       "  <tbody>\n",
       "    <tr>\n",
       "      <th>0</th>\n",
       "      <td>1</td>\n",
       "      <td>Ace</td>\n",
       "    </tr>\n",
       "    <tr>\n",
       "      <th>1</th>\n",
       "      <td>2</td>\n",
       "      <td>Ace Book</td>\n",
       "    </tr>\n",
       "    <tr>\n",
       "      <th>2</th>\n",
       "      <td>3</td>\n",
       "      <td>Ace Books</td>\n",
       "    </tr>\n",
       "    <tr>\n",
       "      <th>3</th>\n",
       "      <td>4</td>\n",
       "      <td>Ace Hardcover</td>\n",
       "    </tr>\n",
       "    <tr>\n",
       "      <th>4</th>\n",
       "      <td>5</td>\n",
       "      <td>Addison Wesley Publishing Company</td>\n",
       "    </tr>\n",
       "  </tbody>\n",
       "</table>\n",
       "</div>"
      ],
      "text/plain": [
       "   publisher_id                          publisher\n",
       "0             1                                Ace\n",
       "1             2                           Ace Book\n",
       "2             3                          Ace Books\n",
       "3             4                      Ace Hardcover\n",
       "4             5  Addison Wesley Publishing Company"
      ]
     },
     "execution_count": 9,
     "metadata": {},
     "output_type": "execute_result"
    }
   ],
   "source": [
    "# 'publishers'\n",
    "get_sql_data(get_table_head('publishers'))"
   ]
  },
  {
   "cell_type": "code",
   "execution_count": 10,
   "metadata": {},
   "outputs": [
    {
     "data": {
      "text/html": [
       "<div>\n",
       "<style scoped>\n",
       "    .dataframe tbody tr th:only-of-type {\n",
       "        vertical-align: middle;\n",
       "    }\n",
       "\n",
       "    .dataframe tbody tr th {\n",
       "        vertical-align: top;\n",
       "    }\n",
       "\n",
       "    .dataframe thead th {\n",
       "        text-align: right;\n",
       "    }\n",
       "</style>\n",
       "<table border=\"1\" class=\"dataframe\">\n",
       "  <thead>\n",
       "    <tr style=\"text-align: right;\">\n",
       "      <th></th>\n",
       "      <th>rating_id</th>\n",
       "      <th>book_id</th>\n",
       "      <th>username</th>\n",
       "      <th>rating</th>\n",
       "    </tr>\n",
       "  </thead>\n",
       "  <tbody>\n",
       "    <tr>\n",
       "      <th>0</th>\n",
       "      <td>1</td>\n",
       "      <td>1</td>\n",
       "      <td>ryanfranco</td>\n",
       "      <td>4</td>\n",
       "    </tr>\n",
       "    <tr>\n",
       "      <th>1</th>\n",
       "      <td>2</td>\n",
       "      <td>1</td>\n",
       "      <td>grantpatricia</td>\n",
       "      <td>2</td>\n",
       "    </tr>\n",
       "    <tr>\n",
       "      <th>2</th>\n",
       "      <td>3</td>\n",
       "      <td>1</td>\n",
       "      <td>brandtandrea</td>\n",
       "      <td>5</td>\n",
       "    </tr>\n",
       "    <tr>\n",
       "      <th>3</th>\n",
       "      <td>4</td>\n",
       "      <td>2</td>\n",
       "      <td>lorichen</td>\n",
       "      <td>3</td>\n",
       "    </tr>\n",
       "    <tr>\n",
       "      <th>4</th>\n",
       "      <td>5</td>\n",
       "      <td>2</td>\n",
       "      <td>mariokeller</td>\n",
       "      <td>2</td>\n",
       "    </tr>\n",
       "  </tbody>\n",
       "</table>\n",
       "</div>"
      ],
      "text/plain": [
       "   rating_id  book_id       username  rating\n",
       "0          1        1     ryanfranco       4\n",
       "1          2        1  grantpatricia       2\n",
       "2          3        1   brandtandrea       5\n",
       "3          4        2       lorichen       3\n",
       "4          5        2    mariokeller       2"
      ]
     },
     "execution_count": 10,
     "metadata": {},
     "output_type": "execute_result"
    }
   ],
   "source": [
    "# 'ratings'\n",
    "get_sql_data(get_table_head('ratings'))"
   ]
  },
  {
   "cell_type": "code",
   "execution_count": 11,
   "metadata": {},
   "outputs": [
    {
     "data": {
      "text/html": [
       "<div>\n",
       "<style scoped>\n",
       "    .dataframe tbody tr th:only-of-type {\n",
       "        vertical-align: middle;\n",
       "    }\n",
       "\n",
       "    .dataframe tbody tr th {\n",
       "        vertical-align: top;\n",
       "    }\n",
       "\n",
       "    .dataframe thead th {\n",
       "        text-align: right;\n",
       "    }\n",
       "</style>\n",
       "<table border=\"1\" class=\"dataframe\">\n",
       "  <thead>\n",
       "    <tr style=\"text-align: right;\">\n",
       "      <th></th>\n",
       "      <th>review_id</th>\n",
       "      <th>book_id</th>\n",
       "      <th>username</th>\n",
       "      <th>text</th>\n",
       "    </tr>\n",
       "  </thead>\n",
       "  <tbody>\n",
       "    <tr>\n",
       "      <th>0</th>\n",
       "      <td>1</td>\n",
       "      <td>1</td>\n",
       "      <td>brandtandrea</td>\n",
       "      <td>Mention society tell send professor analysis. ...</td>\n",
       "    </tr>\n",
       "    <tr>\n",
       "      <th>1</th>\n",
       "      <td>2</td>\n",
       "      <td>1</td>\n",
       "      <td>ryanfranco</td>\n",
       "      <td>Foot glass pretty audience hit themselves. Amo...</td>\n",
       "    </tr>\n",
       "    <tr>\n",
       "      <th>2</th>\n",
       "      <td>3</td>\n",
       "      <td>2</td>\n",
       "      <td>lorichen</td>\n",
       "      <td>Listen treat keep worry. Miss husband tax but ...</td>\n",
       "    </tr>\n",
       "    <tr>\n",
       "      <th>3</th>\n",
       "      <td>4</td>\n",
       "      <td>3</td>\n",
       "      <td>johnsonamanda</td>\n",
       "      <td>Finally month interesting blue could nature cu...</td>\n",
       "    </tr>\n",
       "    <tr>\n",
       "      <th>4</th>\n",
       "      <td>5</td>\n",
       "      <td>3</td>\n",
       "      <td>scotttamara</td>\n",
       "      <td>Nation purpose heavy give wait song will. List...</td>\n",
       "    </tr>\n",
       "  </tbody>\n",
       "</table>\n",
       "</div>"
      ],
      "text/plain": [
       "   review_id  book_id       username  \\\n",
       "0          1        1   brandtandrea   \n",
       "1          2        1     ryanfranco   \n",
       "2          3        2       lorichen   \n",
       "3          4        3  johnsonamanda   \n",
       "4          5        3    scotttamara   \n",
       "\n",
       "                                                text  \n",
       "0  Mention society tell send professor analysis. ...  \n",
       "1  Foot glass pretty audience hit themselves. Amo...  \n",
       "2  Listen treat keep worry. Miss husband tax but ...  \n",
       "3  Finally month interesting blue could nature cu...  \n",
       "4  Nation purpose heavy give wait song will. List...  "
      ]
     },
     "execution_count": 11,
     "metadata": {},
     "output_type": "execute_result"
    }
   ],
   "source": [
    "# 'reviews'\n",
    "get_sql_data(get_table_head('reviews'))"
   ]
  },
  {
   "cell_type": "markdown",
   "metadata": {},
   "source": [
    "Мы изучили первые строки каждой таблици, теперь изучим их объем."
   ]
  },
  {
   "cell_type": "code",
   "execution_count": 12,
   "metadata": {},
   "outputs": [],
   "source": [
    "# функция, которая формирует SQL-запрос для вывода количества строк в таблице\n",
    "def get_table_rows(table):\n",
    "    return f'SELECT COUNT(*) FROM {table}'"
   ]
  },
  {
   "cell_type": "code",
   "execution_count": 13,
   "metadata": {},
   "outputs": [
    {
     "data": {
      "text/html": [
       "<div>\n",
       "<style scoped>\n",
       "    .dataframe tbody tr th:only-of-type {\n",
       "        vertical-align: middle;\n",
       "    }\n",
       "\n",
       "    .dataframe tbody tr th {\n",
       "        vertical-align: top;\n",
       "    }\n",
       "\n",
       "    .dataframe thead th {\n",
       "        text-align: right;\n",
       "    }\n",
       "</style>\n",
       "<table border=\"1\" class=\"dataframe\">\n",
       "  <thead>\n",
       "    <tr style=\"text-align: right;\">\n",
       "      <th></th>\n",
       "      <th>count</th>\n",
       "    </tr>\n",
       "  </thead>\n",
       "  <tbody>\n",
       "    <tr>\n",
       "      <th>0</th>\n",
       "      <td>636</td>\n",
       "    </tr>\n",
       "  </tbody>\n",
       "</table>\n",
       "</div>"
      ],
      "text/plain": [
       "   count\n",
       "0    636"
      ]
     },
     "execution_count": 13,
     "metadata": {},
     "output_type": "execute_result"
    }
   ],
   "source": [
    "# посмотрим на объем 'authors'\n",
    "get_sql_data(get_table_rows('authors'))"
   ]
  },
  {
   "cell_type": "code",
   "execution_count": 14,
   "metadata": {},
   "outputs": [
    {
     "data": {
      "text/html": [
       "<div>\n",
       "<style scoped>\n",
       "    .dataframe tbody tr th:only-of-type {\n",
       "        vertical-align: middle;\n",
       "    }\n",
       "\n",
       "    .dataframe tbody tr th {\n",
       "        vertical-align: top;\n",
       "    }\n",
       "\n",
       "    .dataframe thead th {\n",
       "        text-align: right;\n",
       "    }\n",
       "</style>\n",
       "<table border=\"1\" class=\"dataframe\">\n",
       "  <thead>\n",
       "    <tr style=\"text-align: right;\">\n",
       "      <th></th>\n",
       "      <th>count</th>\n",
       "    </tr>\n",
       "  </thead>\n",
       "  <tbody>\n",
       "    <tr>\n",
       "      <th>0</th>\n",
       "      <td>340</td>\n",
       "    </tr>\n",
       "  </tbody>\n",
       "</table>\n",
       "</div>"
      ],
      "text/plain": [
       "   count\n",
       "0    340"
      ]
     },
     "execution_count": 14,
     "metadata": {},
     "output_type": "execute_result"
    }
   ],
   "source": [
    "# 'publishers'\n",
    "get_sql_data(get_table_rows('publishers'))"
   ]
  },
  {
   "cell_type": "code",
   "execution_count": 15,
   "metadata": {},
   "outputs": [
    {
     "data": {
      "text/html": [
       "<div>\n",
       "<style scoped>\n",
       "    .dataframe tbody tr th:only-of-type {\n",
       "        vertical-align: middle;\n",
       "    }\n",
       "\n",
       "    .dataframe tbody tr th {\n",
       "        vertical-align: top;\n",
       "    }\n",
       "\n",
       "    .dataframe thead th {\n",
       "        text-align: right;\n",
       "    }\n",
       "</style>\n",
       "<table border=\"1\" class=\"dataframe\">\n",
       "  <thead>\n",
       "    <tr style=\"text-align: right;\">\n",
       "      <th></th>\n",
       "      <th>count</th>\n",
       "    </tr>\n",
       "  </thead>\n",
       "  <tbody>\n",
       "    <tr>\n",
       "      <th>0</th>\n",
       "      <td>6456</td>\n",
       "    </tr>\n",
       "  </tbody>\n",
       "</table>\n",
       "</div>"
      ],
      "text/plain": [
       "   count\n",
       "0   6456"
      ]
     },
     "execution_count": 15,
     "metadata": {},
     "output_type": "execute_result"
    }
   ],
   "source": [
    "# 'ratings'\n",
    "get_sql_data(get_table_rows('ratings'))"
   ]
  },
  {
   "cell_type": "code",
   "execution_count": 16,
   "metadata": {},
   "outputs": [
    {
     "data": {
      "text/html": [
       "<div>\n",
       "<style scoped>\n",
       "    .dataframe tbody tr th:only-of-type {\n",
       "        vertical-align: middle;\n",
       "    }\n",
       "\n",
       "    .dataframe tbody tr th {\n",
       "        vertical-align: top;\n",
       "    }\n",
       "\n",
       "    .dataframe thead th {\n",
       "        text-align: right;\n",
       "    }\n",
       "</style>\n",
       "<table border=\"1\" class=\"dataframe\">\n",
       "  <thead>\n",
       "    <tr style=\"text-align: right;\">\n",
       "      <th></th>\n",
       "      <th>count</th>\n",
       "    </tr>\n",
       "  </thead>\n",
       "  <tbody>\n",
       "    <tr>\n",
       "      <th>0</th>\n",
       "      <td>2793</td>\n",
       "    </tr>\n",
       "  </tbody>\n",
       "</table>\n",
       "</div>"
      ],
      "text/plain": [
       "   count\n",
       "0   2793"
      ]
     },
     "execution_count": 16,
     "metadata": {},
     "output_type": "execute_result"
    }
   ],
   "source": [
    "# 'reviews'\n",
    "get_sql_data(get_table_rows('reviews'))"
   ]
  },
  {
   "cell_type": "markdown",
   "metadata": {},
   "source": [
    "### Результаты обзора данных\n",
    "\n",
    "В нашем распоряжении база данных куда входят:\n",
    "\n",
    "\n",
    "- Таблица **`books`** — Содержит 1000 записей о книгах:\n",
    "    - `book_id` — идентификатор книги\n",
    "    - `author_id` — идентификатор автора\n",
    "    - `title` — название книги\n",
    "    - `num_pages` — количество страниц\n",
    "    - `publication_date` — дата публикации книги\n",
    "    - `publisher_id` — идентификатор издателя\n",
    "    \n",
    "    \n",
    "- Таблица **`authors`** — Содержит 636 записей об авторах книг:\n",
    "    - `author_id` — идентификатор автора\n",
    "    - `author` — имя автора\n",
    "    \n",
    "    \n",
    "- Таблица **`publishers`** — Содержит 340 записей об издательствах:\n",
    "    - `publisher_id` — идентификатор издательства\n",
    "    - `publisher` — название издательства\n",
    "    \n",
    "    \n",
    "- Таблица **`ratings`** — Содержит 6456 записей о пользовательских оценках книг:\n",
    "    - `rating_id` — идентификатор оценки\n",
    "    - `book_id` — идентификатор книги\n",
    "    - `username` — имя пользователя, оставившего оценку\n",
    "    - `rating` — оценка книги\n",
    "\n",
    "\n",
    "- Таблица **`reviews`** — Содержит 2793 записи о пользовательских обзорах:\n",
    "    - `review_id` — идентификатор обзора\n",
    "    - `book_id` — идентификатор книги\n",
    "    - `username` — имя автора обзора\n",
    "    - `text` — текст обзора\n",
    "    \n",
    "    \n",
    "Ожидаемо меньше всего данных с издательствами(340 записей), а больше всего данных о пользовательских активностях: оценки (6 456 записей) и обзоры (2 393 записи)"
   ]
  },
  {
   "cell_type": "markdown",
   "metadata": {},
   "source": [
    "## Исследование базы данных\n",
    "### Cколько книг вышло после 1 января 2000 года?"
   ]
  },
  {
   "cell_type": "code",
   "execution_count": 17,
   "metadata": {},
   "outputs": [
    {
     "data": {
      "text/html": [
       "<div>\n",
       "<style scoped>\n",
       "    .dataframe tbody tr th:only-of-type {\n",
       "        vertical-align: middle;\n",
       "    }\n",
       "\n",
       "    .dataframe tbody tr th {\n",
       "        vertical-align: top;\n",
       "    }\n",
       "\n",
       "    .dataframe thead th {\n",
       "        text-align: right;\n",
       "    }\n",
       "</style>\n",
       "<table border=\"1\" class=\"dataframe\">\n",
       "  <thead>\n",
       "    <tr style=\"text-align: right;\">\n",
       "      <th></th>\n",
       "      <th>count</th>\n",
       "    </tr>\n",
       "  </thead>\n",
       "  <tbody>\n",
       "    <tr>\n",
       "      <th>0</th>\n",
       "      <td>818</td>\n",
       "    </tr>\n",
       "  </tbody>\n",
       "</table>\n",
       "</div>"
      ],
      "text/plain": [
       "   count\n",
       "0    818"
      ]
     },
     "execution_count": 17,
     "metadata": {},
     "output_type": "execute_result"
    }
   ],
   "source": [
    "# в теории одна и таже книга может выходить несколько раз разными изданиями\n",
    "# поэтому найдем общее количество уникальных названий книг дата издания которых позже 2000-01-01\n",
    "query_task_1 = (\n",
    "    '''SELECT COUNT(DISTINCT title)\n",
    "       FROM books \n",
    "       WHERE CAST(publication_date AS DATE) > '2000-01-01';'''\n",
    ")\n",
    "\n",
    "# выполняем запрос\n",
    "get_sql_data(query_task_1)"
   ]
  },
  {
   "cell_type": "code",
   "execution_count": 18,
   "metadata": {},
   "outputs": [
    {
     "data": {
      "text/html": [
       "<div>\n",
       "<style scoped>\n",
       "    .dataframe tbody tr th:only-of-type {\n",
       "        vertical-align: middle;\n",
       "    }\n",
       "\n",
       "    .dataframe tbody tr th {\n",
       "        vertical-align: top;\n",
       "    }\n",
       "\n",
       "    .dataframe thead th {\n",
       "        text-align: right;\n",
       "    }\n",
       "</style>\n",
       "<table border=\"1\" class=\"dataframe\">\n",
       "  <thead>\n",
       "    <tr style=\"text-align: right;\">\n",
       "      <th></th>\n",
       "      <th>count</th>\n",
       "    </tr>\n",
       "  </thead>\n",
       "  <tbody>\n",
       "    <tr>\n",
       "      <th>0</th>\n",
       "      <td>819</td>\n",
       "    </tr>\n",
       "  </tbody>\n",
       "</table>\n",
       "</div>"
      ],
      "text/plain": [
       "   count\n",
       "0    819"
      ]
     },
     "execution_count": 18,
     "metadata": {},
     "output_type": "execute_result"
    }
   ],
   "source": [
    "# проверим есть ли книги с одинаковыми названиями\n",
    "query_task_1_1 = (\n",
    "    '''SELECT COUNT(title)\n",
    "       FROM books \n",
    "       WHERE CAST(publication_date AS DATE) > '2000-01-01';'''\n",
    ")\n",
    "\n",
    "# выполняем запрос\n",
    "get_sql_data(query_task_1_1)"
   ]
  },
  {
   "cell_type": "markdown",
   "metadata": {},
   "source": [
    "Действительно, есть 2 книги с одинаковыми названиями, посмотрим это одна и таже книга разных лет или просто совпадение:"
   ]
  },
  {
   "cell_type": "code",
   "execution_count": 19,
   "metadata": {},
   "outputs": [
    {
     "data": {
      "text/html": [
       "<div>\n",
       "<style scoped>\n",
       "    .dataframe tbody tr th:only-of-type {\n",
       "        vertical-align: middle;\n",
       "    }\n",
       "\n",
       "    .dataframe tbody tr th {\n",
       "        vertical-align: top;\n",
       "    }\n",
       "\n",
       "    .dataframe thead th {\n",
       "        text-align: right;\n",
       "    }\n",
       "</style>\n",
       "<table border=\"1\" class=\"dataframe\">\n",
       "  <thead>\n",
       "    <tr style=\"text-align: right;\">\n",
       "      <th></th>\n",
       "      <th>book_id</th>\n",
       "      <th>author_id</th>\n",
       "      <th>title</th>\n",
       "      <th>num_pages</th>\n",
       "      <th>publication_date</th>\n",
       "      <th>publisher_id</th>\n",
       "    </tr>\n",
       "  </thead>\n",
       "  <tbody>\n",
       "    <tr>\n",
       "      <th>0</th>\n",
       "      <td>426</td>\n",
       "      <td>39</td>\n",
       "      <td>Memoirs of a Geisha</td>\n",
       "      <td>434</td>\n",
       "      <td>2005-11-15</td>\n",
       "      <td>241</td>\n",
       "    </tr>\n",
       "    <tr>\n",
       "      <th>1</th>\n",
       "      <td>427</td>\n",
       "      <td>39</td>\n",
       "      <td>Memoirs of a Geisha</td>\n",
       "      <td>503</td>\n",
       "      <td>2005-11-22</td>\n",
       "      <td>311</td>\n",
       "    </tr>\n",
       "  </tbody>\n",
       "</table>\n",
       "</div>"
      ],
      "text/plain": [
       "   book_id  author_id                title  num_pages publication_date  \\\n",
       "0      426         39  Memoirs of a Geisha        434       2005-11-15   \n",
       "1      427         39  Memoirs of a Geisha        503       2005-11-22   \n",
       "\n",
       "   publisher_id  \n",
       "0           241  \n",
       "1           311  "
      ]
     },
     "execution_count": 19,
     "metadata": {},
     "output_type": "execute_result"
    }
   ],
   "source": [
    "# проверим есть ли книги с одинаковыми названиями\n",
    "query_task_1_1_1 = (\n",
    "    '''SELECT *\n",
    "       FROM books\n",
    "       WHERE title IN (SELECT title\n",
    "                       FROM books \n",
    "                       WHERE CAST(publication_date AS DATE) > '2000-01-01'\n",
    "                       GROUP BY title\n",
    "                       ORDER BY COUNT(title) DESC\n",
    "                       LIMIT 1);'''\n",
    ")\n",
    "\n",
    "# выполняем запрос\n",
    "get_sql_data(query_task_1_1_1)"
   ]
  },
  {
   "cell_type": "code",
   "execution_count": 20,
   "metadata": {},
   "outputs": [
    {
     "data": {
      "text/html": [
       "<div>\n",
       "<style scoped>\n",
       "    .dataframe tbody tr th:only-of-type {\n",
       "        vertical-align: middle;\n",
       "    }\n",
       "\n",
       "    .dataframe tbody tr th {\n",
       "        vertical-align: top;\n",
       "    }\n",
       "\n",
       "    .dataframe thead th {\n",
       "        text-align: right;\n",
       "    }\n",
       "</style>\n",
       "<table border=\"1\" class=\"dataframe\">\n",
       "  <thead>\n",
       "    <tr style=\"text-align: right;\">\n",
       "      <th></th>\n",
       "      <th>author</th>\n",
       "    </tr>\n",
       "  </thead>\n",
       "  <tbody>\n",
       "    <tr>\n",
       "      <th>0</th>\n",
       "      <td>Arthur Golden</td>\n",
       "    </tr>\n",
       "  </tbody>\n",
       "</table>\n",
       "</div>"
      ],
      "text/plain": [
       "          author\n",
       "0  Arthur Golden"
      ]
     },
     "execution_count": 20,
     "metadata": {},
     "output_type": "execute_result"
    }
   ],
   "source": [
    "# посмотрим на автора\n",
    "author = (\n",
    "    '''SELECT author\n",
    "       FROM authors\n",
    "       WHERE author_id = 39'''\n",
    ")\n",
    "\n",
    "# выполняем запрос\n",
    "get_sql_data(author)"
   ]
  },
  {
   "cell_type": "markdown",
   "metadata": {},
   "source": [
    "С 2000 года вышли 2 книги \"Мемуары Гейши\" Артура Голдена в разных изданиях, при чем впервые этот роман увидел свет в 1997 году. \n",
    "\n",
    "После 1 января 2000 года вышло 819 книг, но книга \"Мемуары Гейши\" выходила дважды."
   ]
  },
  {
   "cell_type": "markdown",
   "metadata": {},
   "source": [
    "### Количество обзоров и средняя оценка книг"
   ]
  },
  {
   "cell_type": "code",
   "execution_count": 21,
   "metadata": {},
   "outputs": [
    {
     "data": {
      "text/html": [
       "<div>\n",
       "<style scoped>\n",
       "    .dataframe tbody tr th:only-of-type {\n",
       "        vertical-align: middle;\n",
       "    }\n",
       "\n",
       "    .dataframe tbody tr th {\n",
       "        vertical-align: top;\n",
       "    }\n",
       "\n",
       "    .dataframe thead th {\n",
       "        text-align: right;\n",
       "    }\n",
       "</style>\n",
       "<table border=\"1\" class=\"dataframe\">\n",
       "  <thead>\n",
       "    <tr style=\"text-align: right;\">\n",
       "      <th></th>\n",
       "      <th>title</th>\n",
       "      <th>total_reviews</th>\n",
       "      <th>avg_rating</th>\n",
       "    </tr>\n",
       "  </thead>\n",
       "  <tbody>\n",
       "    <tr>\n",
       "      <th>0</th>\n",
       "      <td>The Body in the Library (Miss Marple  #3)</td>\n",
       "      <td>2.0</td>\n",
       "      <td>4.50</td>\n",
       "    </tr>\n",
       "    <tr>\n",
       "      <th>1</th>\n",
       "      <td>Galápagos</td>\n",
       "      <td>2.0</td>\n",
       "      <td>4.50</td>\n",
       "    </tr>\n",
       "    <tr>\n",
       "      <th>2</th>\n",
       "      <td>A Tree Grows in Brooklyn</td>\n",
       "      <td>5.0</td>\n",
       "      <td>4.25</td>\n",
       "    </tr>\n",
       "    <tr>\n",
       "      <th>3</th>\n",
       "      <td>Undaunted Courage: The Pioneering First Missio...</td>\n",
       "      <td>2.0</td>\n",
       "      <td>4.00</td>\n",
       "    </tr>\n",
       "    <tr>\n",
       "      <th>4</th>\n",
       "      <td>The Prophet</td>\n",
       "      <td>4.0</td>\n",
       "      <td>4.29</td>\n",
       "    </tr>\n",
       "    <tr>\n",
       "      <th>...</th>\n",
       "      <td>...</td>\n",
       "      <td>...</td>\n",
       "      <td>...</td>\n",
       "    </tr>\n",
       "    <tr>\n",
       "      <th>995</th>\n",
       "      <td>Alice in Wonderland</td>\n",
       "      <td>4.0</td>\n",
       "      <td>4.23</td>\n",
       "    </tr>\n",
       "    <tr>\n",
       "      <th>996</th>\n",
       "      <td>A Woman of Substance (Emma Harte Saga #1)</td>\n",
       "      <td>2.0</td>\n",
       "      <td>5.00</td>\n",
       "    </tr>\n",
       "    <tr>\n",
       "      <th>997</th>\n",
       "      <td>Christine</td>\n",
       "      <td>3.0</td>\n",
       "      <td>3.43</td>\n",
       "    </tr>\n",
       "    <tr>\n",
       "      <th>998</th>\n",
       "      <td>The Magicians' Guild (Black Magician Trilogy  #1)</td>\n",
       "      <td>2.0</td>\n",
       "      <td>3.50</td>\n",
       "    </tr>\n",
       "    <tr>\n",
       "      <th>999</th>\n",
       "      <td>The Plot Against America</td>\n",
       "      <td>2.0</td>\n",
       "      <td>3.00</td>\n",
       "    </tr>\n",
       "  </tbody>\n",
       "</table>\n",
       "<p>1000 rows × 3 columns</p>\n",
       "</div>"
      ],
      "text/plain": [
       "                                                 title  total_reviews  \\\n",
       "0            The Body in the Library (Miss Marple  #3)            2.0   \n",
       "1                                            Galápagos            2.0   \n",
       "2                             A Tree Grows in Brooklyn            5.0   \n",
       "3    Undaunted Courage: The Pioneering First Missio...            2.0   \n",
       "4                                          The Prophet            4.0   \n",
       "..                                                 ...            ...   \n",
       "995                                Alice in Wonderland            4.0   \n",
       "996          A Woman of Substance (Emma Harte Saga #1)            2.0   \n",
       "997                                          Christine            3.0   \n",
       "998  The Magicians' Guild (Black Magician Trilogy  #1)            2.0   \n",
       "999                           The Plot Against America            2.0   \n",
       "\n",
       "     avg_rating  \n",
       "0          4.50  \n",
       "1          4.50  \n",
       "2          4.25  \n",
       "3          4.00  \n",
       "4          4.29  \n",
       "..          ...  \n",
       "995        4.23  \n",
       "996        5.00  \n",
       "997        3.43  \n",
       "998        3.50  \n",
       "999        3.00  \n",
       "\n",
       "[1000 rows x 3 columns]"
      ]
     },
     "execution_count": 21,
     "metadata": {},
     "output_type": "execute_result"
    }
   ],
   "source": [
    "# сначала найдем общее количество обзоров\n",
    "# далее для каждой книги найдем средний рейтинг\n",
    "# полученные данные присоединим к основной таблице с книгами с помощью LEFT JOIN\n",
    "# так в итогой таблице будут все исходные книги, не зависимо от того есть ли у этой книги оценки или обзоры\n",
    "query_task_2 = (\n",
    "    '''WITH rev AS (SELECT book_id,\n",
    "                           COUNT(review_id) AS total_reviews\n",
    "                    FROM reviews\n",
    "                    GROUP BY book_id),\n",
    "            rat AS (SELECT book_id,\n",
    "                           ROUND(AVG(rating), 2) AS avg_rating\n",
    "                    FROM ratings\n",
    "                    GROUP BY book_id)\n",
    "    \n",
    "       SELECT b.title,'''\n",
    "              'CAST(rev.total_reviews AS int4),' # не понимаю почему остается десятичный знак а не целое число((\n",
    "              '''rat.avg_rating\n",
    "       FROM books AS b \n",
    "       LEFT JOIN rev ON b.book_id=rev.book_id\n",
    "       LEFT JOIN rat ON b.book_id=rat.book_id;'''\n",
    ")\n",
    "\n",
    "# выполняем запрос\n",
    "get_sql_data(query_task_2)"
   ]
  },
  {
   "cell_type": "markdown",
   "metadata": {},
   "source": [
    "Таблица с количеством обзоров и средней оценкой для каждой книги готова"
   ]
  },
  {
   "cell_type": "markdown",
   "metadata": {},
   "source": [
    "### Издательство, которое выпустило наибольшее число книг толще 50 страниц "
   ]
  },
  {
   "cell_type": "code",
   "execution_count": 22,
   "metadata": {},
   "outputs": [
    {
     "data": {
      "text/html": [
       "<div>\n",
       "<style scoped>\n",
       "    .dataframe tbody tr th:only-of-type {\n",
       "        vertical-align: middle;\n",
       "    }\n",
       "\n",
       "    .dataframe tbody tr th {\n",
       "        vertical-align: top;\n",
       "    }\n",
       "\n",
       "    .dataframe thead th {\n",
       "        text-align: right;\n",
       "    }\n",
       "</style>\n",
       "<table border=\"1\" class=\"dataframe\">\n",
       "  <thead>\n",
       "    <tr style=\"text-align: right;\">\n",
       "      <th></th>\n",
       "      <th>publisher</th>\n",
       "    </tr>\n",
       "  </thead>\n",
       "  <tbody>\n",
       "    <tr>\n",
       "      <th>0</th>\n",
       "      <td>Penguin Books</td>\n",
       "    </tr>\n",
       "  </tbody>\n",
       "</table>\n",
       "</div>"
      ],
      "text/plain": [
       "       publisher\n",
       "0  Penguin Books"
      ]
     },
     "execution_count": 22,
     "metadata": {},
     "output_type": "execute_result"
    }
   ],
   "source": [
    "# получим идентификатор издателя, который выпустил больше всех книг толще 50 страниц\n",
    "# и найдем наименование издательства по его идентификатору\n",
    "query_task_3 = (\n",
    "    '''SELECT publisher\n",
    "       FROM publishers\n",
    "       WHERE publisher_id = (\n",
    "                               SELECT publisher_id                                      \n",
    "                               FROM books\n",
    "                               WHERE num_pages > 50\n",
    "                               GROUP BY publisher_id\n",
    "                               ORDER BY COUNT(book_id) DESC\n",
    "                               LIMIT 1\n",
    "                            )'''\n",
    ")\n",
    "\n",
    "# выполняем запрос\n",
    "get_sql_data(query_task_3)"
   ]
  },
  {
   "cell_type": "code",
   "execution_count": 23,
   "metadata": {},
   "outputs": [
    {
     "data": {
      "text/html": [
       "<div>\n",
       "<style scoped>\n",
       "    .dataframe tbody tr th:only-of-type {\n",
       "        vertical-align: middle;\n",
       "    }\n",
       "\n",
       "    .dataframe tbody tr th {\n",
       "        vertical-align: top;\n",
       "    }\n",
       "\n",
       "    .dataframe thead th {\n",
       "        text-align: right;\n",
       "    }\n",
       "</style>\n",
       "<table border=\"1\" class=\"dataframe\">\n",
       "  <thead>\n",
       "    <tr style=\"text-align: right;\">\n",
       "      <th></th>\n",
       "      <th>publisher</th>\n",
       "    </tr>\n",
       "  </thead>\n",
       "  <tbody>\n",
       "    <tr>\n",
       "      <th>0</th>\n",
       "      <td>Penguin Books</td>\n",
       "    </tr>\n",
       "  </tbody>\n",
       "</table>\n",
       "</div>"
      ],
      "text/plain": [
       "       publisher\n",
       "0  Penguin Books"
      ]
     },
     "execution_count": 23,
     "metadata": {},
     "output_type": "execute_result"
    }
   ],
   "source": [
    "# проверим какое издательство выпустило больше всего уникальных книг толще 50 страниц\n",
    "query_task_3_1 = (\n",
    "    '''SELECT publisher\n",
    "       FROM publishers\n",
    "       WHERE publisher_id = (\n",
    "                               SELECT publisher_id\n",
    "                               FROM books\n",
    "                               WHERE num_pages > 50\n",
    "                               GROUP BY publisher_id\n",
    "                               ORDER BY COUNT(DISTINCT book_id) DESC\n",
    "                               LIMIT 1\n",
    "                            )'''\n",
    ")\n",
    "\n",
    "# выполняем запрос\n",
    "get_sql_data(query_task_3_1)"
   ]
  },
  {
   "cell_type": "markdown",
   "metadata": {},
   "source": [
    "Издательство, выпустившее наибольшее число книг толще 50 страниц - \"Penguin Books\""
   ]
  },
  {
   "cell_type": "markdown",
   "metadata": {},
   "source": [
    "### Какой автор имеют самую высокую среднюю оценку среди книг, у которых есть 50 и более оценок?"
   ]
  },
  {
   "cell_type": "code",
   "execution_count": 24,
   "metadata": {},
   "outputs": [
    {
     "data": {
      "text/html": [
       "<div>\n",
       "<style scoped>\n",
       "    .dataframe tbody tr th:only-of-type {\n",
       "        vertical-align: middle;\n",
       "    }\n",
       "\n",
       "    .dataframe tbody tr th {\n",
       "        vertical-align: top;\n",
       "    }\n",
       "\n",
       "    .dataframe thead th {\n",
       "        text-align: right;\n",
       "    }\n",
       "</style>\n",
       "<table border=\"1\" class=\"dataframe\">\n",
       "  <thead>\n",
       "    <tr style=\"text-align: right;\">\n",
       "      <th></th>\n",
       "      <th>author</th>\n",
       "      <th>avg_rating</th>\n",
       "    </tr>\n",
       "  </thead>\n",
       "  <tbody>\n",
       "    <tr>\n",
       "      <th>0</th>\n",
       "      <td>J.K. Rowling/Mary GrandPré</td>\n",
       "      <td>4.285</td>\n",
       "    </tr>\n",
       "    <tr>\n",
       "      <th>1</th>\n",
       "      <td>Markus Zusak/Cao Xuân Việt Khương</td>\n",
       "      <td>4.260</td>\n",
       "    </tr>\n",
       "    <tr>\n",
       "      <th>2</th>\n",
       "      <td>J.R.R. Tolkien</td>\n",
       "      <td>4.260</td>\n",
       "    </tr>\n",
       "    <tr>\n",
       "      <th>3</th>\n",
       "      <td>Louisa May Alcott</td>\n",
       "      <td>4.190</td>\n",
       "    </tr>\n",
       "    <tr>\n",
       "      <th>4</th>\n",
       "      <td>Rick Riordan</td>\n",
       "      <td>4.080</td>\n",
       "    </tr>\n",
       "  </tbody>\n",
       "</table>\n",
       "</div>"
      ],
      "text/plain": [
       "                              author  avg_rating\n",
       "0         J.K. Rowling/Mary GrandPré       4.285\n",
       "1  Markus Zusak/Cao Xuân Việt Khương       4.260\n",
       "2                     J.R.R. Tolkien       4.260\n",
       "3                  Louisa May Alcott       4.190\n",
       "4                       Rick Riordan       4.080"
      ]
     },
     "execution_count": 24,
     "metadata": {},
     "output_type": "execute_result"
    }
   ],
   "source": [
    "# сначала найдем все книги, у которых есть 50 оценок и более\n",
    "# далее для каждой книги посчитаем среднюю оценку и объединим данные\n",
    "# сгруппируем полученные данные по id авторов и найдем среднюю оценку их книг, \n",
    "# отсортируем и оставим пятерых у кого средняя оценка книг выше всех\n",
    "query_task_4 = (\n",
    "    '''WITH b AS (SELECT *\n",
    "                  FROM books\n",
    "                  WHERE book_id IN (SELECT book_id\n",
    "                                    FROM ratings\n",
    "                                    GROUP BY book_id\n",
    "                                    HAVING COUNT(rating_id) >= 50)),\n",
    "                                    \n",
    "            r AS (SELECT book_id,\n",
    "                         ROUND(AVG(rating), 2) AS avg_rating\n",
    "                  FROM ratings\n",
    "                  GROUP BY book_id),\n",
    "\n",
    "            top_author AS (SELECT author_id,\n",
    "                                  AVG(avg_rating) AS avg_rating\n",
    "                                  FROM b LEFT JOIN r ON b.book_id=r.book_id\n",
    "                                  GROUP BY author_id\n",
    "                                  ORDER BY AVG(avg_rating) DESC\n",
    "                                  LIMIT 5)\n",
    "                                  \n",
    "       SELECT a.author,\n",
    "              tp.avg_rating\n",
    "       FROM authors AS a INNER JOIN top_author AS tp ON a.author_id=tp.author_id\n",
    "       '''\n",
    ")\n",
    "\n",
    "# выполняем запрос\n",
    "get_sql_data(query_task_4)"
   ]
  },
  {
   "cell_type": "markdown",
   "metadata": {},
   "source": [
    "В Топ-5 авторов с самыми высокооцененными работами вошли: Рик Риордан, Луиза Мэй Олкотт, Дж.Р.Р. Толкин и Маркус Зузак.\n",
    "А первое место со средней оценкой книг 4.285 достается Джоан Роулинг."
   ]
  },
  {
   "cell_type": "markdown",
   "metadata": {},
   "source": [
    "### Среднее количество обзоров от пользователей, которые поставили больше 48 оценок"
   ]
  },
  {
   "cell_type": "code",
   "execution_count": 25,
   "metadata": {},
   "outputs": [
    {
     "data": {
      "text/html": [
       "<div>\n",
       "<style scoped>\n",
       "    .dataframe tbody tr th:only-of-type {\n",
       "        vertical-align: middle;\n",
       "    }\n",
       "\n",
       "    .dataframe tbody tr th {\n",
       "        vertical-align: top;\n",
       "    }\n",
       "\n",
       "    .dataframe thead th {\n",
       "        text-align: right;\n",
       "    }\n",
       "</style>\n",
       "<table border=\"1\" class=\"dataframe\">\n",
       "  <thead>\n",
       "    <tr style=\"text-align: right;\">\n",
       "      <th></th>\n",
       "      <th>avg</th>\n",
       "    </tr>\n",
       "  </thead>\n",
       "  <tbody>\n",
       "    <tr>\n",
       "      <th>0</th>\n",
       "      <td>24.0</td>\n",
       "    </tr>\n",
       "  </tbody>\n",
       "</table>\n",
       "</div>"
      ],
      "text/plain": [
       "    avg\n",
       "0  24.0"
      ]
     },
     "execution_count": 25,
     "metadata": {},
     "output_type": "execute_result"
    }
   ],
   "source": [
    "# сначала найдем пользователей, которые поставили более 48 оценок\n",
    "# потом для для каждого пользователя который входит в число первых найдем количество обзоров\n",
    "# после чего найдем среднее количество обзоров среди этих пользователей\n",
    "query_task_5 = (\n",
    "        '''SELECT AVG(total_reviews)\n",
    "           FROM (SELECT username,\n",
    "                        COUNT(review_id) AS total_reviews\n",
    "                 FROM reviews\n",
    "                 WHERE username IN (SELECT DISTINCT username\n",
    "                                    FROM ratings\n",
    "                                    GROUP BY username\n",
    "                                    HAVING COUNT(rating_id) > 48)\n",
    "                                    GROUP BY username) AS top_rew'''\n",
    ")\n",
    "\n",
    "# выполняем запрос\n",
    "get_sql_data(query_task_5)"
   ]
  },
  {
   "cell_type": "markdown",
   "metadata": {},
   "source": [
    "Среднее количество обзоров от пользователей, которые поставили больше 48 оценок: 24 обзора"
   ]
  },
  {
   "cell_type": "markdown",
   "metadata": {},
   "source": [
    "## Выводы:\n",
    "\n",
    "\n",
    "- Доступ к базе данных настроен\n",
    "- Приведено описание данных во всех таблицах\n",
    "    - Таблица **`books`** — Содержит 1000 записей о книгах\n",
    "    - Таблица **`authors`** — Содержит 636 записей об авторах книг\n",
    "    - Таблица **`publishers`** — Содержит 340 записей об издательствах\n",
    "    - Таблица **`ratings`** — Содержит 6456 записей о пользовательских оценках книг\n",
    "    - Таблица **`reviews`** — Содержит 2793 записи о пользовательских обзорах\n",
    "\n",
    "**Исследование базы данных:**\n",
    "\n",
    "- После 1 января 2000 года вышло 819 книг, но книга \"Мемуары Гейши\" выходила дважды\n",
    "- Таблица с количеством обзоров и средней оценкой для каждой книги сформирована\n",
    "- Издательство, выпустившее наибольшее число книг толще 50 страниц - \"Penguin Books\"\n",
    "- Джоан Роулинг имеет самую высокую среднюю оценку среди книг, у которых есть более 50 оценок (**4.285**)\n",
    "- Среднее количество обзоров от пользователей, которые поставили больше 48 оценок: 24 обзора"
   ]
  }
 ],
 "metadata": {
  "ExecuteTimeLog": [
   {
    "duration": 479,
    "start_time": "2024-05-07T15:48:00.406Z"
   },
   {
    "duration": 3,
    "start_time": "2024-05-07T15:48:00.887Z"
   },
   {
    "duration": 5217,
    "start_time": "2024-05-07T15:48:00.892Z"
   },
   {
    "duration": 3,
    "start_time": "2024-05-07T15:48:06.111Z"
   },
   {
    "duration": 273,
    "start_time": "2024-05-07T15:48:06.116Z"
   },
   {
    "duration": 51,
    "start_time": "2024-05-07T15:48:06.391Z"
   },
   {
    "duration": 62,
    "start_time": "2024-05-07T15:48:06.443Z"
   },
   {
    "duration": 50,
    "start_time": "2024-05-07T15:48:06.507Z"
   },
   {
    "duration": 121,
    "start_time": "2024-05-07T15:48:06.559Z"
   },
   {
    "duration": 0,
    "start_time": "2024-05-07T15:48:06.682Z"
   },
   {
    "duration": 50,
    "start_time": "2024-05-07T15:50:00.449Z"
   },
   {
    "duration": 55,
    "start_time": "2024-05-07T15:50:31.576Z"
   },
   {
    "duration": 50,
    "start_time": "2024-05-07T15:54:37.336Z"
   },
   {
    "duration": 54,
    "start_time": "2024-05-07T17:01:01.624Z"
   },
   {
    "duration": 64,
    "start_time": "2024-05-07T17:28:31.949Z"
   },
   {
    "duration": 59,
    "start_time": "2024-05-07T17:28:46.675Z"
   },
   {
    "duration": 70,
    "start_time": "2024-05-07T17:28:56.954Z"
   },
   {
    "duration": 54,
    "start_time": "2024-05-07T17:29:08.039Z"
   },
   {
    "duration": 52,
    "start_time": "2024-05-07T17:35:17.588Z"
   },
   {
    "duration": 50,
    "start_time": "2024-05-07T17:39:14.888Z"
   },
   {
    "duration": 3,
    "start_time": "2024-05-07T17:43:29.387Z"
   },
   {
    "duration": 2,
    "start_time": "2024-05-07T17:43:56.244Z"
   },
   {
    "duration": 53,
    "start_time": "2024-05-07T17:44:34.749Z"
   },
   {
    "duration": 62,
    "start_time": "2024-05-07T17:45:00.718Z"
   },
   {
    "duration": 49,
    "start_time": "2024-05-07T17:45:04.938Z"
   },
   {
    "duration": 51,
    "start_time": "2024-05-07T17:56:41.042Z"
   },
   {
    "duration": 51,
    "start_time": "2024-05-07T17:57:32.196Z"
   },
   {
    "duration": 51,
    "start_time": "2024-05-07T17:57:36.405Z"
   },
   {
    "duration": 51,
    "start_time": "2024-05-07T17:57:39.033Z"
   },
   {
    "duration": 51,
    "start_time": "2024-05-07T17:58:42.880Z"
   },
   {
    "duration": 2,
    "start_time": "2024-05-07T18:00:25.564Z"
   },
   {
    "duration": 3,
    "start_time": "2024-05-07T18:01:10.217Z"
   },
   {
    "duration": 3,
    "start_time": "2024-05-07T18:01:13.342Z"
   },
   {
    "duration": 50,
    "start_time": "2024-05-07T18:01:49.490Z"
   },
   {
    "duration": 50,
    "start_time": "2024-05-07T18:01:50.351Z"
   },
   {
    "duration": 50,
    "start_time": "2024-05-07T18:01:52.424Z"
   },
   {
    "duration": 50,
    "start_time": "2024-05-07T18:01:52.969Z"
   },
   {
    "duration": 50,
    "start_time": "2024-05-07T18:02:18.320Z"
   },
   {
    "duration": 50,
    "start_time": "2024-05-07T18:02:18.718Z"
   },
   {
    "duration": 51,
    "start_time": "2024-05-07T18:02:20.852Z"
   },
   {
    "duration": 52,
    "start_time": "2024-05-07T18:02:21.479Z"
   },
   {
    "duration": 52,
    "start_time": "2024-05-07T18:03:44.779Z"
   },
   {
    "duration": 44,
    "start_time": "2024-05-07T18:04:39.511Z"
   },
   {
    "duration": 48,
    "start_time": "2024-05-07T18:04:44.319Z"
   },
   {
    "duration": 49,
    "start_time": "2024-05-07T18:05:03.586Z"
   },
   {
    "duration": 50,
    "start_time": "2024-05-07T18:05:20.149Z"
   },
   {
    "duration": 51,
    "start_time": "2024-05-07T18:19:18.325Z"
   },
   {
    "duration": 50,
    "start_time": "2024-05-07T18:19:37.923Z"
   },
   {
    "duration": 51,
    "start_time": "2024-05-07T18:19:48.616Z"
   },
   {
    "duration": 53,
    "start_time": "2024-05-07T18:20:16.615Z"
   },
   {
    "duration": 50,
    "start_time": "2024-05-07T18:20:52.805Z"
   },
   {
    "duration": 53,
    "start_time": "2024-05-07T18:22:13.757Z"
   },
   {
    "duration": 51,
    "start_time": "2024-05-07T18:25:53.187Z"
   },
   {
    "duration": 55,
    "start_time": "2024-05-07T18:27:03.630Z"
   },
   {
    "duration": 64,
    "start_time": "2024-05-07T18:31:36.145Z"
   },
   {
    "duration": 82,
    "start_time": "2024-05-07T18:32:48.806Z"
   },
   {
    "duration": 65,
    "start_time": "2024-05-07T18:32:53.130Z"
   },
   {
    "duration": 69,
    "start_time": "2024-05-07T18:33:44.104Z"
   },
   {
    "duration": 50,
    "start_time": "2024-05-07T18:33:51.753Z"
   },
   {
    "duration": 54,
    "start_time": "2024-05-07T18:34:40.894Z"
   },
   {
    "duration": 51,
    "start_time": "2024-05-07T18:38:12.378Z"
   },
   {
    "duration": 50,
    "start_time": "2024-05-07T18:38:34.830Z"
   },
   {
    "duration": 51,
    "start_time": "2024-05-07T18:39:02.169Z"
   },
   {
    "duration": 50,
    "start_time": "2024-05-07T18:39:07.914Z"
   },
   {
    "duration": 50,
    "start_time": "2024-05-07T18:39:19.310Z"
   },
   {
    "duration": 51,
    "start_time": "2024-05-07T18:39:23.899Z"
   },
   {
    "duration": 50,
    "start_time": "2024-05-07T18:42:27.616Z"
   },
   {
    "duration": 81,
    "start_time": "2024-05-07T18:43:52.672Z"
   },
   {
    "duration": 81,
    "start_time": "2024-05-07T18:47:44.024Z"
   },
   {
    "duration": 52,
    "start_time": "2024-05-07T19:02:42.714Z"
   },
   {
    "duration": 81,
    "start_time": "2024-05-07T19:05:04.606Z"
   },
   {
    "duration": 81,
    "start_time": "2024-05-07T19:06:26.989Z"
   },
   {
    "duration": 81,
    "start_time": "2024-05-07T19:07:55.332Z"
   },
   {
    "duration": 80,
    "start_time": "2024-05-07T19:08:28.769Z"
   },
   {
    "duration": 80,
    "start_time": "2024-05-07T19:08:37.152Z"
   },
   {
    "duration": 81,
    "start_time": "2024-05-07T19:10:09.318Z"
   },
   {
    "duration": 79,
    "start_time": "2024-05-07T19:10:39.907Z"
   },
   {
    "duration": 51,
    "start_time": "2024-05-07T19:11:55.877Z"
   },
   {
    "duration": 51,
    "start_time": "2024-05-07T19:12:10.038Z"
   },
   {
    "duration": 50,
    "start_time": "2024-05-07T19:12:13.612Z"
   },
   {
    "duration": 57,
    "start_time": "2024-05-07T19:15:44.843Z"
   },
   {
    "duration": 63,
    "start_time": "2024-05-07T19:16:12.585Z"
   },
   {
    "duration": 62,
    "start_time": "2024-05-07T19:16:36.853Z"
   },
   {
    "duration": 54,
    "start_time": "2024-05-07T19:16:48.687Z"
   },
   {
    "duration": 57,
    "start_time": "2024-05-07T19:17:32.096Z"
   },
   {
    "duration": 51,
    "start_time": "2024-05-07T19:17:50.061Z"
   },
   {
    "duration": 51,
    "start_time": "2024-05-07T19:17:57.032Z"
   },
   {
    "duration": 56,
    "start_time": "2024-05-07T19:34:01.943Z"
   },
   {
    "duration": 56,
    "start_time": "2024-05-07T19:37:05.906Z"
   },
   {
    "duration": 55,
    "start_time": "2024-05-07T19:37:12.537Z"
   },
   {
    "duration": 64,
    "start_time": "2024-05-07T20:05:00.148Z"
   },
   {
    "duration": 61,
    "start_time": "2024-05-07T20:05:25.214Z"
   },
   {
    "duration": 61,
    "start_time": "2024-05-07T20:06:10.335Z"
   },
   {
    "duration": 62,
    "start_time": "2024-05-07T20:06:18.697Z"
   },
   {
    "duration": 57,
    "start_time": "2024-05-07T20:06:30.761Z"
   },
   {
    "duration": 62,
    "start_time": "2024-05-07T20:07:29.117Z"
   },
   {
    "duration": 52,
    "start_time": "2024-05-07T20:07:56.648Z"
   },
   {
    "duration": 53,
    "start_time": "2024-05-07T20:09:31.807Z"
   },
   {
    "duration": 54,
    "start_time": "2024-05-07T20:19:05.383Z"
   },
   {
    "duration": 705,
    "start_time": "2024-05-07T22:19:45.038Z"
   },
   {
    "duration": 3,
    "start_time": "2024-05-07T22:19:45.745Z"
   },
   {
    "duration": 4023,
    "start_time": "2024-05-07T22:19:45.749Z"
   },
   {
    "duration": 3,
    "start_time": "2024-05-07T22:19:49.774Z"
   },
   {
    "duration": 261,
    "start_time": "2024-05-07T22:19:49.778Z"
   },
   {
    "duration": 0,
    "start_time": "2024-05-07T22:19:50.041Z"
   },
   {
    "duration": 0,
    "start_time": "2024-05-07T22:19:50.043Z"
   },
   {
    "duration": 0,
    "start_time": "2024-05-07T22:19:50.044Z"
   },
   {
    "duration": 0,
    "start_time": "2024-05-07T22:19:50.045Z"
   },
   {
    "duration": 0,
    "start_time": "2024-05-07T22:19:50.046Z"
   },
   {
    "duration": 0,
    "start_time": "2024-05-07T22:19:50.047Z"
   },
   {
    "duration": 0,
    "start_time": "2024-05-07T22:19:50.048Z"
   },
   {
    "duration": 0,
    "start_time": "2024-05-07T22:19:50.049Z"
   },
   {
    "duration": 0,
    "start_time": "2024-05-07T22:19:50.050Z"
   },
   {
    "duration": 0,
    "start_time": "2024-05-07T22:19:50.051Z"
   },
   {
    "duration": 0,
    "start_time": "2024-05-07T22:19:50.052Z"
   },
   {
    "duration": 0,
    "start_time": "2024-05-07T22:19:50.053Z"
   },
   {
    "duration": 0,
    "start_time": "2024-05-07T22:19:50.054Z"
   },
   {
    "duration": 0,
    "start_time": "2024-05-07T22:19:50.065Z"
   },
   {
    "duration": 0,
    "start_time": "2024-05-07T22:19:50.066Z"
   },
   {
    "duration": 0,
    "start_time": "2024-05-07T22:19:50.067Z"
   },
   {
    "duration": 0,
    "start_time": "2024-05-07T22:19:50.068Z"
   },
   {
    "duration": 0,
    "start_time": "2024-05-07T22:19:50.069Z"
   },
   {
    "duration": 0,
    "start_time": "2024-05-07T22:19:50.070Z"
   },
   {
    "duration": 0,
    "start_time": "2024-05-07T22:19:50.071Z"
   },
   {
    "duration": 664,
    "start_time": "2024-05-07T22:21:14.338Z"
   },
   {
    "duration": 4,
    "start_time": "2024-05-07T22:21:15.004Z"
   },
   {
    "duration": 4139,
    "start_time": "2024-05-07T22:21:15.010Z"
   },
   {
    "duration": 3,
    "start_time": "2024-05-07T22:21:19.151Z"
   },
   {
    "duration": 243,
    "start_time": "2024-05-07T22:21:19.156Z"
   },
   {
    "duration": 0,
    "start_time": "2024-05-07T22:21:19.401Z"
   },
   {
    "duration": 0,
    "start_time": "2024-05-07T22:21:19.403Z"
   },
   {
    "duration": 0,
    "start_time": "2024-05-07T22:21:19.404Z"
   },
   {
    "duration": 0,
    "start_time": "2024-05-07T22:21:19.405Z"
   },
   {
    "duration": 0,
    "start_time": "2024-05-07T22:21:19.406Z"
   },
   {
    "duration": 0,
    "start_time": "2024-05-07T22:21:19.406Z"
   },
   {
    "duration": 0,
    "start_time": "2024-05-07T22:21:19.407Z"
   },
   {
    "duration": 0,
    "start_time": "2024-05-07T22:21:19.408Z"
   },
   {
    "duration": 0,
    "start_time": "2024-05-07T22:21:19.409Z"
   },
   {
    "duration": 0,
    "start_time": "2024-05-07T22:21:19.410Z"
   },
   {
    "duration": 0,
    "start_time": "2024-05-07T22:21:19.411Z"
   },
   {
    "duration": 0,
    "start_time": "2024-05-07T22:21:19.412Z"
   },
   {
    "duration": 0,
    "start_time": "2024-05-07T22:21:19.413Z"
   },
   {
    "duration": 0,
    "start_time": "2024-05-07T22:21:19.414Z"
   },
   {
    "duration": 0,
    "start_time": "2024-05-07T22:21:19.415Z"
   },
   {
    "duration": 0,
    "start_time": "2024-05-07T22:21:19.416Z"
   },
   {
    "duration": 0,
    "start_time": "2024-05-07T22:21:19.417Z"
   },
   {
    "duration": 0,
    "start_time": "2024-05-07T22:21:19.418Z"
   },
   {
    "duration": 0,
    "start_time": "2024-05-07T22:21:19.419Z"
   },
   {
    "duration": 0,
    "start_time": "2024-05-07T22:21:19.420Z"
   },
   {
    "duration": 86,
    "start_time": "2024-05-07T22:21:47.146Z"
   },
   {
    "duration": 13,
    "start_time": "2024-05-07T22:21:54.133Z"
   },
   {
    "duration": 3,
    "start_time": "2024-05-07T22:22:50.770Z"
   },
   {
    "duration": 10,
    "start_time": "2024-05-07T22:22:51.467Z"
   },
   {
    "duration": 48,
    "start_time": "2024-05-08T04:49:27.935Z"
   },
   {
    "duration": 494,
    "start_time": "2024-05-08T04:49:31.434Z"
   },
   {
    "duration": 3,
    "start_time": "2024-05-08T04:49:34.584Z"
   },
   {
    "duration": 4629,
    "start_time": "2024-05-08T04:49:34.867Z"
   },
   {
    "duration": 4,
    "start_time": "2024-05-08T04:49:39.497Z"
   },
   {
    "duration": 243,
    "start_time": "2024-05-08T04:49:39.502Z"
   },
   {
    "duration": 533,
    "start_time": "2024-05-08T04:49:49.618Z"
   },
   {
    "duration": 3,
    "start_time": "2024-05-08T04:49:50.153Z"
   },
   {
    "duration": 4634,
    "start_time": "2024-05-08T04:49:50.157Z"
   },
   {
    "duration": 4,
    "start_time": "2024-05-08T04:49:54.792Z"
   },
   {
    "duration": 238,
    "start_time": "2024-05-08T04:49:54.798Z"
   },
   {
    "duration": 49,
    "start_time": "2024-05-08T04:49:55.038Z"
   },
   {
    "duration": 2,
    "start_time": "2024-05-08T04:49:55.089Z"
   },
   {
    "duration": 80,
    "start_time": "2024-05-08T04:49:55.092Z"
   },
   {
    "duration": 50,
    "start_time": "2024-05-08T04:49:55.174Z"
   },
   {
    "duration": 51,
    "start_time": "2024-05-08T04:49:55.225Z"
   },
   {
    "duration": 50,
    "start_time": "2024-05-08T04:49:55.278Z"
   },
   {
    "duration": 3,
    "start_time": "2024-05-08T04:49:55.330Z"
   },
   {
    "duration": 74,
    "start_time": "2024-05-08T04:49:55.334Z"
   },
   {
    "duration": 49,
    "start_time": "2024-05-08T04:49:55.411Z"
   },
   {
    "duration": 50,
    "start_time": "2024-05-08T04:49:55.461Z"
   },
   {
    "duration": 49,
    "start_time": "2024-05-08T04:49:55.513Z"
   },
   {
    "duration": 50,
    "start_time": "2024-05-08T04:49:55.564Z"
   },
   {
    "duration": 49,
    "start_time": "2024-05-08T04:49:55.616Z"
   },
   {
    "duration": 55,
    "start_time": "2024-05-08T04:49:55.666Z"
   },
   {
    "duration": 49,
    "start_time": "2024-05-08T04:49:55.722Z"
   },
   {
    "duration": 82,
    "start_time": "2024-05-08T04:49:55.773Z"
   },
   {
    "duration": 50,
    "start_time": "2024-05-08T04:49:55.857Z"
   },
   {
    "duration": 51,
    "start_time": "2024-05-08T04:49:55.910Z"
   },
   {
    "duration": 56,
    "start_time": "2024-05-08T04:49:55.962Z"
   },
   {
    "duration": 54,
    "start_time": "2024-05-08T04:49:56.020Z"
   },
   {
    "duration": 56,
    "start_time": "2024-05-08T04:54:19.020Z"
   },
   {
    "duration": 3,
    "start_time": "2024-05-08T04:55:32.563Z"
   },
   {
    "duration": 3,
    "start_time": "2024-05-08T04:55:35.807Z"
   },
   {
    "duration": 3,
    "start_time": "2024-05-08T04:55:36.359Z"
   },
   {
    "duration": 3,
    "start_time": "2024-05-08T04:55:36.840Z"
   },
   {
    "duration": 223,
    "start_time": "2024-05-08T04:55:42.915Z"
   },
   {
    "duration": 570,
    "start_time": "2024-05-08T04:56:55.376Z"
   },
   {
    "duration": 4,
    "start_time": "2024-05-08T04:56:58.576Z"
   },
   {
    "duration": 4842,
    "start_time": "2024-05-08T04:56:59.186Z"
   },
   {
    "duration": 3,
    "start_time": "2024-05-08T04:57:04.030Z"
   },
   {
    "duration": 234,
    "start_time": "2024-05-08T04:57:06.530Z"
   },
   {
    "duration": 51,
    "start_time": "2024-05-08T04:57:36.040Z"
   },
   {
    "duration": 3,
    "start_time": "2024-05-08T04:57:38.064Z"
   },
   {
    "duration": 503,
    "start_time": "2024-05-08T04:57:43.322Z"
   },
   {
    "duration": 6,
    "start_time": "2024-05-08T04:57:43.828Z"
   },
   {
    "duration": 4536,
    "start_time": "2024-05-08T04:57:43.835Z"
   },
   {
    "duration": 3,
    "start_time": "2024-05-08T04:57:48.373Z"
   },
   {
    "duration": 225,
    "start_time": "2024-05-08T04:57:48.378Z"
   },
   {
    "duration": 49,
    "start_time": "2024-05-08T04:57:48.605Z"
   },
   {
    "duration": 3,
    "start_time": "2024-05-08T04:57:48.656Z"
   },
   {
    "duration": 55,
    "start_time": "2024-05-08T04:57:48.660Z"
   },
   {
    "duration": 50,
    "start_time": "2024-05-08T04:57:48.717Z"
   },
   {
    "duration": 51,
    "start_time": "2024-05-08T04:57:48.769Z"
   },
   {
    "duration": 52,
    "start_time": "2024-05-08T04:57:48.822Z"
   },
   {
    "duration": 2,
    "start_time": "2024-05-08T04:57:48.876Z"
   },
   {
    "duration": 59,
    "start_time": "2024-05-08T04:57:48.880Z"
   },
   {
    "duration": 49,
    "start_time": "2024-05-08T04:57:48.942Z"
   },
   {
    "duration": 51,
    "start_time": "2024-05-08T04:57:48.992Z"
   },
   {
    "duration": 50,
    "start_time": "2024-05-08T04:57:49.045Z"
   },
   {
    "duration": 50,
    "start_time": "2024-05-08T04:57:49.097Z"
   },
   {
    "duration": 49,
    "start_time": "2024-05-08T04:57:49.149Z"
   },
   {
    "duration": 53,
    "start_time": "2024-05-08T04:57:49.200Z"
   },
   {
    "duration": 50,
    "start_time": "2024-05-08T04:57:49.255Z"
   },
   {
    "duration": 82,
    "start_time": "2024-05-08T04:57:49.307Z"
   },
   {
    "duration": 51,
    "start_time": "2024-05-08T04:57:49.391Z"
   },
   {
    "duration": 50,
    "start_time": "2024-05-08T04:57:49.444Z"
   },
   {
    "duration": 56,
    "start_time": "2024-05-08T04:57:49.496Z"
   },
   {
    "duration": 54,
    "start_time": "2024-05-08T04:57:49.554Z"
   },
   {
    "duration": 51,
    "start_time": "2024-05-08T05:00:39.246Z"
   },
   {
    "duration": 41,
    "start_time": "2024-05-08T05:06:27.106Z"
   },
   {
    "duration": 133,
    "start_time": "2024-05-08T05:07:04.916Z"
   },
   {
    "duration": 529,
    "start_time": "2024-05-08T05:07:36.102Z"
   },
   {
    "duration": 4,
    "start_time": "2024-05-08T05:07:36.633Z"
   },
   {
    "duration": 77,
    "start_time": "2024-05-08T05:07:36.639Z"
   },
   {
    "duration": 0,
    "start_time": "2024-05-08T05:07:36.719Z"
   },
   {
    "duration": 0,
    "start_time": "2024-05-08T05:07:36.720Z"
   },
   {
    "duration": 0,
    "start_time": "2024-05-08T05:07:36.721Z"
   },
   {
    "duration": 0,
    "start_time": "2024-05-08T05:07:36.723Z"
   },
   {
    "duration": 0,
    "start_time": "2024-05-08T05:07:36.724Z"
   },
   {
    "duration": 0,
    "start_time": "2024-05-08T05:07:36.725Z"
   },
   {
    "duration": 0,
    "start_time": "2024-05-08T05:07:36.726Z"
   },
   {
    "duration": 0,
    "start_time": "2024-05-08T05:07:36.727Z"
   },
   {
    "duration": 0,
    "start_time": "2024-05-08T05:07:36.728Z"
   },
   {
    "duration": 0,
    "start_time": "2024-05-08T05:07:36.729Z"
   },
   {
    "duration": 0,
    "start_time": "2024-05-08T05:07:36.730Z"
   },
   {
    "duration": 0,
    "start_time": "2024-05-08T05:07:36.731Z"
   },
   {
    "duration": 0,
    "start_time": "2024-05-08T05:07:36.732Z"
   },
   {
    "duration": 0,
    "start_time": "2024-05-08T05:07:36.733Z"
   },
   {
    "duration": 0,
    "start_time": "2024-05-08T05:07:36.734Z"
   },
   {
    "duration": 1,
    "start_time": "2024-05-08T05:07:36.734Z"
   },
   {
    "duration": 0,
    "start_time": "2024-05-08T05:07:36.735Z"
   },
   {
    "duration": 0,
    "start_time": "2024-05-08T05:07:36.736Z"
   },
   {
    "duration": 0,
    "start_time": "2024-05-08T05:07:36.737Z"
   },
   {
    "duration": 0,
    "start_time": "2024-05-08T05:07:36.738Z"
   },
   {
    "duration": 0,
    "start_time": "2024-05-08T05:07:36.739Z"
   },
   {
    "duration": 0,
    "start_time": "2024-05-08T05:07:36.740Z"
   },
   {
    "duration": 0,
    "start_time": "2024-05-08T05:07:36.741Z"
   },
   {
    "duration": 508,
    "start_time": "2024-05-08T05:07:59.518Z"
   },
   {
    "duration": 3,
    "start_time": "2024-05-08T05:08:00.028Z"
   },
   {
    "duration": 4799,
    "start_time": "2024-05-08T05:08:00.033Z"
   },
   {
    "duration": 72,
    "start_time": "2024-05-08T05:08:04.834Z"
   },
   {
    "duration": 0,
    "start_time": "2024-05-08T05:08:04.909Z"
   },
   {
    "duration": 0,
    "start_time": "2024-05-08T05:08:04.911Z"
   },
   {
    "duration": 0,
    "start_time": "2024-05-08T05:08:04.912Z"
   },
   {
    "duration": 0,
    "start_time": "2024-05-08T05:08:04.914Z"
   },
   {
    "duration": 0,
    "start_time": "2024-05-08T05:08:04.915Z"
   },
   {
    "duration": 0,
    "start_time": "2024-05-08T05:08:04.917Z"
   },
   {
    "duration": 0,
    "start_time": "2024-05-08T05:08:04.918Z"
   },
   {
    "duration": 0,
    "start_time": "2024-05-08T05:08:04.920Z"
   },
   {
    "duration": 0,
    "start_time": "2024-05-08T05:08:04.921Z"
   },
   {
    "duration": 0,
    "start_time": "2024-05-08T05:08:04.922Z"
   },
   {
    "duration": 0,
    "start_time": "2024-05-08T05:08:04.924Z"
   },
   {
    "duration": 0,
    "start_time": "2024-05-08T05:08:04.925Z"
   },
   {
    "duration": 0,
    "start_time": "2024-05-08T05:08:04.926Z"
   },
   {
    "duration": 0,
    "start_time": "2024-05-08T05:08:04.928Z"
   },
   {
    "duration": 0,
    "start_time": "2024-05-08T05:08:04.929Z"
   },
   {
    "duration": 0,
    "start_time": "2024-05-08T05:08:04.931Z"
   },
   {
    "duration": 0,
    "start_time": "2024-05-08T05:08:04.932Z"
   },
   {
    "duration": 0,
    "start_time": "2024-05-08T05:08:04.934Z"
   },
   {
    "duration": 0,
    "start_time": "2024-05-08T05:08:04.935Z"
   },
   {
    "duration": 0,
    "start_time": "2024-05-08T05:08:04.984Z"
   },
   {
    "duration": 0,
    "start_time": "2024-05-08T05:08:04.985Z"
   },
   {
    "duration": 0,
    "start_time": "2024-05-08T05:08:04.986Z"
   },
   {
    "duration": 545,
    "start_time": "2024-05-08T05:08:25.165Z"
   },
   {
    "duration": 4,
    "start_time": "2024-05-08T05:08:25.712Z"
   },
   {
    "duration": 4643,
    "start_time": "2024-05-08T05:08:25.717Z"
   },
   {
    "duration": 74,
    "start_time": "2024-05-08T05:08:30.362Z"
   },
   {
    "duration": 1,
    "start_time": "2024-05-08T05:08:30.438Z"
   },
   {
    "duration": 0,
    "start_time": "2024-05-08T05:08:30.440Z"
   },
   {
    "duration": 0,
    "start_time": "2024-05-08T05:08:30.441Z"
   },
   {
    "duration": 0,
    "start_time": "2024-05-08T05:08:30.442Z"
   },
   {
    "duration": 0,
    "start_time": "2024-05-08T05:08:30.443Z"
   },
   {
    "duration": 0,
    "start_time": "2024-05-08T05:08:30.445Z"
   },
   {
    "duration": 0,
    "start_time": "2024-05-08T05:08:30.446Z"
   },
   {
    "duration": 0,
    "start_time": "2024-05-08T05:08:30.448Z"
   },
   {
    "duration": 0,
    "start_time": "2024-05-08T05:08:30.449Z"
   },
   {
    "duration": 0,
    "start_time": "2024-05-08T05:08:30.451Z"
   },
   {
    "duration": 0,
    "start_time": "2024-05-08T05:08:30.452Z"
   },
   {
    "duration": 0,
    "start_time": "2024-05-08T05:08:30.453Z"
   },
   {
    "duration": 0,
    "start_time": "2024-05-08T05:08:30.454Z"
   },
   {
    "duration": 0,
    "start_time": "2024-05-08T05:08:30.482Z"
   },
   {
    "duration": 0,
    "start_time": "2024-05-08T05:08:30.484Z"
   },
   {
    "duration": 0,
    "start_time": "2024-05-08T05:08:30.485Z"
   },
   {
    "duration": 0,
    "start_time": "2024-05-08T05:08:30.487Z"
   },
   {
    "duration": 0,
    "start_time": "2024-05-08T05:08:30.488Z"
   },
   {
    "duration": 0,
    "start_time": "2024-05-08T05:08:30.491Z"
   },
   {
    "duration": 0,
    "start_time": "2024-05-08T05:08:30.492Z"
   },
   {
    "duration": 0,
    "start_time": "2024-05-08T05:08:30.494Z"
   },
   {
    "duration": 0,
    "start_time": "2024-05-08T05:08:30.496Z"
   },
   {
    "duration": 4,
    "start_time": "2024-05-08T05:08:40.300Z"
   },
   {
    "duration": 238,
    "start_time": "2024-05-08T05:08:43.207Z"
   },
   {
    "duration": 531,
    "start_time": "2024-05-08T05:09:02.447Z"
   },
   {
    "duration": 3,
    "start_time": "2024-05-08T05:09:02.981Z"
   },
   {
    "duration": 4818,
    "start_time": "2024-05-08T05:09:02.985Z"
   },
   {
    "duration": 3,
    "start_time": "2024-05-08T05:09:07.804Z"
   },
   {
    "duration": 227,
    "start_time": "2024-05-08T05:09:07.809Z"
   },
   {
    "duration": 49,
    "start_time": "2024-05-08T05:09:08.038Z"
   },
   {
    "duration": 3,
    "start_time": "2024-05-08T05:09:08.088Z"
   },
   {
    "duration": 54,
    "start_time": "2024-05-08T05:09:08.092Z"
   },
   {
    "duration": 50,
    "start_time": "2024-05-08T05:09:08.148Z"
   },
   {
    "duration": 52,
    "start_time": "2024-05-08T05:09:08.199Z"
   },
   {
    "duration": 52,
    "start_time": "2024-05-08T05:09:08.253Z"
   },
   {
    "duration": 3,
    "start_time": "2024-05-08T05:09:08.306Z"
   },
   {
    "duration": 51,
    "start_time": "2024-05-08T05:09:08.311Z"
   },
   {
    "duration": 48,
    "start_time": "2024-05-08T05:09:08.364Z"
   },
   {
    "duration": 50,
    "start_time": "2024-05-08T05:09:08.413Z"
   },
   {
    "duration": 50,
    "start_time": "2024-05-08T05:09:08.464Z"
   },
   {
    "duration": 51,
    "start_time": "2024-05-08T05:09:08.515Z"
   },
   {
    "duration": 49,
    "start_time": "2024-05-08T05:09:08.568Z"
   },
   {
    "duration": 56,
    "start_time": "2024-05-08T05:09:08.618Z"
   },
   {
    "duration": 50,
    "start_time": "2024-05-08T05:09:08.676Z"
   },
   {
    "duration": 82,
    "start_time": "2024-05-08T05:09:08.728Z"
   },
   {
    "duration": 50,
    "start_time": "2024-05-08T05:09:08.812Z"
   },
   {
    "duration": 50,
    "start_time": "2024-05-08T05:09:08.864Z"
   },
   {
    "duration": 55,
    "start_time": "2024-05-08T05:09:08.916Z"
   },
   {
    "duration": 51,
    "start_time": "2024-05-08T05:09:08.973Z"
   },
   {
    "duration": 52,
    "start_time": "2024-05-08T05:09:09.026Z"
   },
   {
    "duration": 4,
    "start_time": "2024-05-08T05:09:41.156Z"
   },
   {
    "duration": 52,
    "start_time": "2024-05-08T05:09:57.643Z"
   },
   {
    "duration": 42,
    "start_time": "2024-05-08T05:12:14.848Z"
   },
   {
    "duration": 3,
    "start_time": "2024-05-08T05:13:41.602Z"
   },
   {
    "duration": 128,
    "start_time": "2024-05-08T05:13:47.019Z"
   },
   {
    "duration": 508,
    "start_time": "2024-05-08T05:14:08.920Z"
   },
   {
    "duration": 4,
    "start_time": "2024-05-08T05:14:09.429Z"
   },
   {
    "duration": 4639,
    "start_time": "2024-05-08T05:14:09.434Z"
   },
   {
    "duration": 3,
    "start_time": "2024-05-08T05:14:14.075Z"
   },
   {
    "duration": 237,
    "start_time": "2024-05-08T05:14:14.079Z"
   },
   {
    "duration": 51,
    "start_time": "2024-05-08T05:14:14.317Z"
   },
   {
    "duration": 2,
    "start_time": "2024-05-08T05:14:14.370Z"
   },
   {
    "duration": 56,
    "start_time": "2024-05-08T05:14:14.374Z"
   },
   {
    "duration": 52,
    "start_time": "2024-05-08T05:14:14.433Z"
   },
   {
    "duration": 53,
    "start_time": "2024-05-08T05:14:14.489Z"
   },
   {
    "duration": 53,
    "start_time": "2024-05-08T05:14:14.544Z"
   },
   {
    "duration": 3,
    "start_time": "2024-05-08T05:14:14.599Z"
   },
   {
    "duration": 65,
    "start_time": "2024-05-08T05:14:14.604Z"
   },
   {
    "duration": 51,
    "start_time": "2024-05-08T05:14:14.670Z"
   },
   {
    "duration": 52,
    "start_time": "2024-05-08T05:14:14.722Z"
   },
   {
    "duration": 50,
    "start_time": "2024-05-08T05:14:14.776Z"
   },
   {
    "duration": 51,
    "start_time": "2024-05-08T05:14:14.828Z"
   },
   {
    "duration": 51,
    "start_time": "2024-05-08T05:14:14.880Z"
   },
   {
    "duration": 54,
    "start_time": "2024-05-08T05:14:14.933Z"
   },
   {
    "duration": 50,
    "start_time": "2024-05-08T05:14:14.989Z"
   },
   {
    "duration": 84,
    "start_time": "2024-05-08T05:14:15.041Z"
   },
   {
    "duration": 51,
    "start_time": "2024-05-08T05:14:15.127Z"
   },
   {
    "duration": 51,
    "start_time": "2024-05-08T05:14:15.179Z"
   },
   {
    "duration": 56,
    "start_time": "2024-05-08T05:14:15.232Z"
   },
   {
    "duration": 55,
    "start_time": "2024-05-08T05:14:15.290Z"
   },
   {
    "duration": 573,
    "start_time": "2024-05-08T05:23:30.282Z"
   },
   {
    "duration": 3,
    "start_time": "2024-05-08T05:23:30.857Z"
   },
   {
    "duration": 4783,
    "start_time": "2024-05-08T05:23:30.861Z"
   },
   {
    "duration": 3,
    "start_time": "2024-05-08T05:23:35.646Z"
   },
   {
    "duration": 246,
    "start_time": "2024-05-08T05:23:35.651Z"
   },
   {
    "duration": 51,
    "start_time": "2024-05-08T05:23:35.898Z"
   },
   {
    "duration": 3,
    "start_time": "2024-05-08T05:23:35.950Z"
   },
   {
    "duration": 54,
    "start_time": "2024-05-08T05:23:35.954Z"
   },
   {
    "duration": 50,
    "start_time": "2024-05-08T05:23:36.010Z"
   },
   {
    "duration": 51,
    "start_time": "2024-05-08T05:23:36.061Z"
   },
   {
    "duration": 52,
    "start_time": "2024-05-08T05:23:36.113Z"
   },
   {
    "duration": 3,
    "start_time": "2024-05-08T05:23:36.166Z"
   },
   {
    "duration": 54,
    "start_time": "2024-05-08T05:23:36.170Z"
   },
   {
    "duration": 49,
    "start_time": "2024-05-08T05:23:36.226Z"
   },
   {
    "duration": 49,
    "start_time": "2024-05-08T05:23:36.277Z"
   },
   {
    "duration": 50,
    "start_time": "2024-05-08T05:23:36.328Z"
   },
   {
    "duration": 51,
    "start_time": "2024-05-08T05:23:36.380Z"
   },
   {
    "duration": 53,
    "start_time": "2024-05-08T05:23:36.433Z"
   },
   {
    "duration": 54,
    "start_time": "2024-05-08T05:23:36.488Z"
   },
   {
    "duration": 50,
    "start_time": "2024-05-08T05:23:36.544Z"
   },
   {
    "duration": 80,
    "start_time": "2024-05-08T05:23:36.596Z"
   },
   {
    "duration": 49,
    "start_time": "2024-05-08T05:23:36.678Z"
   },
   {
    "duration": 50,
    "start_time": "2024-05-08T05:23:36.728Z"
   },
   {
    "duration": 55,
    "start_time": "2024-05-08T05:23:36.780Z"
   },
   {
    "duration": 53,
    "start_time": "2024-05-08T05:23:36.837Z"
   },
   {
    "duration": 553,
    "start_time": "2024-05-08T05:28:24.776Z"
   },
   {
    "duration": 4,
    "start_time": "2024-05-08T05:28:25.331Z"
   },
   {
    "duration": 4553,
    "start_time": "2024-05-08T05:28:25.338Z"
   },
   {
    "duration": 3,
    "start_time": "2024-05-08T05:28:29.894Z"
   },
   {
    "duration": 244,
    "start_time": "2024-05-08T05:28:29.898Z"
   },
   {
    "duration": 50,
    "start_time": "2024-05-08T05:28:30.144Z"
   },
   {
    "duration": 2,
    "start_time": "2024-05-08T05:28:30.196Z"
   },
   {
    "duration": 98,
    "start_time": "2024-05-08T05:28:30.200Z"
   },
   {
    "duration": 50,
    "start_time": "2024-05-08T05:28:30.299Z"
   },
   {
    "duration": 54,
    "start_time": "2024-05-08T05:28:30.351Z"
   },
   {
    "duration": 66,
    "start_time": "2024-05-08T05:28:30.407Z"
   },
   {
    "duration": 77,
    "start_time": "2024-05-08T05:28:30.475Z"
   },
   {
    "duration": 108,
    "start_time": "2024-05-08T05:28:30.555Z"
   },
   {
    "duration": 49,
    "start_time": "2024-05-08T05:28:30.665Z"
   },
   {
    "duration": 64,
    "start_time": "2024-05-08T05:28:30.716Z"
   },
   {
    "duration": 49,
    "start_time": "2024-05-08T05:28:30.782Z"
   },
   {
    "duration": 50,
    "start_time": "2024-05-08T05:28:30.832Z"
   },
   {
    "duration": 124,
    "start_time": "2024-05-08T05:28:30.885Z"
   },
   {
    "duration": 80,
    "start_time": "2024-05-08T05:28:31.011Z"
   },
   {
    "duration": 51,
    "start_time": "2024-05-08T05:28:31.093Z"
   },
   {
    "duration": 90,
    "start_time": "2024-05-08T05:28:31.146Z"
   },
   {
    "duration": 52,
    "start_time": "2024-05-08T05:28:31.238Z"
   },
   {
    "duration": 55,
    "start_time": "2024-05-08T05:28:31.292Z"
   },
   {
    "duration": 56,
    "start_time": "2024-05-08T05:28:31.349Z"
   },
   {
    "duration": 54,
    "start_time": "2024-05-08T05:28:31.407Z"
   }
  ],
  "kernelspec": {
   "display_name": "Python 3 (ipykernel)",
   "language": "python",
   "name": "python3"
  },
  "language_info": {
   "codemirror_mode": {
    "name": "ipython",
    "version": 3
   },
   "file_extension": ".py",
   "mimetype": "text/x-python",
   "name": "python",
   "nbconvert_exporter": "python",
   "pygments_lexer": "ipython3",
   "version": "3.9.18"
  },
  "toc": {
   "base_numbering": 1,
   "nav_menu": {},
   "number_sections": true,
   "sideBar": true,
   "skip_h1_title": true,
   "title_cell": "Table of Contents",
   "title_sidebar": "Contents",
   "toc_cell": false,
   "toc_position": {
    "height": "calc(100% - 180px)",
    "left": "10px",
    "top": "150px",
    "width": "165px"
   },
   "toc_section_display": true,
   "toc_window_display": true
  }
 },
 "nbformat": 4,
 "nbformat_minor": 5
}
